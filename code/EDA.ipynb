{
 "cells": [
  {
   "cell_type": "code",
   "execution_count": 200,
   "id": "fd9ba7fd-4a0b-423f-9a51-49dfb7916a7d",
   "metadata": {},
   "outputs": [],
   "source": [
    "import pandas as pd\n",
    "import numpy as np\n",
    "import matplotlib.pyplot as plt\n",
    "import seaborn as sns"
   ]
  },
  {
   "cell_type": "code",
   "execution_count": 1250,
   "id": "87116461-7bc9-4b35-aaa4-ce63e58647d5",
   "metadata": {},
   "outputs": [],
   "source": [
    "df = pd.read_csv('../dataset/train/train.csv')"
   ]
  },
  {
   "cell_type": "code",
   "execution_count": 202,
   "id": "830289a5-8905-48f7-ad63-36e5ccb0aaf8",
   "metadata": {},
   "outputs": [
    {
     "data": {
      "text/html": [
       "<div>\n",
       "<style scoped>\n",
       "    .dataframe tbody tr th:only-of-type {\n",
       "        vertical-align: middle;\n",
       "    }\n",
       "\n",
       "    .dataframe tbody tr th {\n",
       "        vertical-align: top;\n",
       "    }\n",
       "\n",
       "    .dataframe thead th {\n",
       "        text-align: right;\n",
       "    }\n",
       "</style>\n",
       "<table border=\"1\" class=\"dataframe\">\n",
       "  <thead>\n",
       "    <tr style=\"text-align: right;\">\n",
       "      <th></th>\n",
       "      <th>id</th>\n",
       "      <th>sentence</th>\n",
       "      <th>subject_entity</th>\n",
       "      <th>object_entity</th>\n",
       "      <th>label</th>\n",
       "      <th>source</th>\n",
       "    </tr>\n",
       "  </thead>\n",
       "  <tbody>\n",
       "    <tr>\n",
       "      <th>0</th>\n",
       "      <td>0</td>\n",
       "      <td>〈Something〉는 조지 해리슨이 쓰고 비틀즈가 1969년 앨범 《Abbey Road》에 담은 노래다.</td>\n",
       "      <td>{'word': '비틀즈', 'start_idx': 24, 'end_idx': 26, 'type': 'ORG'}</td>\n",
       "      <td>{'word': '조지 해리슨', 'start_idx': 13, 'end_idx': 18, 'type': 'PER'}</td>\n",
       "      <td>no_relation</td>\n",
       "      <td>wikipedia</td>\n",
       "    </tr>\n",
       "    <tr>\n",
       "      <th>1</th>\n",
       "      <td>1</td>\n",
       "      <td>호남이 기반인 바른미래당·대안신당·민주평화당이 우여곡절 끝에 합당해 민생당(가칭)으로 재탄생한다.</td>\n",
       "      <td>{'word': '민주평화당', 'start_idx': 19, 'end_idx': 23, 'type': 'ORG'}</td>\n",
       "      <td>{'word': '대안신당', 'start_idx': 14, 'end_idx': 17, 'type': 'ORG'}</td>\n",
       "      <td>no_relation</td>\n",
       "      <td>wikitree</td>\n",
       "    </tr>\n",
       "    <tr>\n",
       "      <th>2</th>\n",
       "      <td>2</td>\n",
       "      <td>K리그2에서 성적 1위를 달리고 있는 광주FC는 지난 26일 한국프로축구연맹으로부터 관중 유치 성과와 마케팅 성과를 인정받아 ‘풀 스타디움상’과 ‘플러스 스타디움상’을 수상했다.</td>\n",
       "      <td>{'word': '광주FC', 'start_idx': 21, 'end_idx': 24, 'type': 'ORG'}</td>\n",
       "      <td>{'word': '한국프로축구연맹', 'start_idx': 34, 'end_idx': 41, 'type': 'ORG'}</td>\n",
       "      <td>org:member_of</td>\n",
       "      <td>wikitree</td>\n",
       "    </tr>\n",
       "    <tr>\n",
       "      <th>3</th>\n",
       "      <td>3</td>\n",
       "      <td>균일가 생활용품점 (주)아성다이소(대표 박정부)는 코로나19 바이러스로 어려움을 겪고 있는 대구광역시에 행복박스를 전달했다고 10일 밝혔다.</td>\n",
       "      <td>{'word': '아성다이소', 'start_idx': 13, 'end_idx': 17, 'type': 'ORG'}</td>\n",
       "      <td>{'word': '박정부', 'start_idx': 22, 'end_idx': 24, 'type': 'PER'}</td>\n",
       "      <td>org:top_members/employees</td>\n",
       "      <td>wikitree</td>\n",
       "    </tr>\n",
       "    <tr>\n",
       "      <th>4</th>\n",
       "      <td>4</td>\n",
       "      <td>1967년 프로 야구 드래프트 1순위로 요미우리 자이언츠에게 입단하면서 등번호는 8번으로 배정되었다.</td>\n",
       "      <td>{'word': '요미우리 자이언츠', 'start_idx': 22, 'end_idx': 30, 'type': 'ORG'}</td>\n",
       "      <td>{'word': '1967', 'start_idx': 0, 'end_idx': 3, 'type': 'DAT'}</td>\n",
       "      <td>no_relation</td>\n",
       "      <td>wikipedia</td>\n",
       "    </tr>\n",
       "  </tbody>\n",
       "</table>\n",
       "</div>"
      ],
      "text/plain": [
       "   id  \\\n",
       "0   0   \n",
       "1   1   \n",
       "2   2   \n",
       "3   3   \n",
       "4   4   \n",
       "\n",
       "                                                                                              sentence  \\\n",
       "0                                          〈Something〉는 조지 해리슨이 쓰고 비틀즈가 1969년 앨범 《Abbey Road》에 담은 노래다.   \n",
       "1                                               호남이 기반인 바른미래당·대안신당·민주평화당이 우여곡절 끝에 합당해 민생당(가칭)으로 재탄생한다.   \n",
       "2  K리그2에서 성적 1위를 달리고 있는 광주FC는 지난 26일 한국프로축구연맹으로부터 관중 유치 성과와 마케팅 성과를 인정받아 ‘풀 스타디움상’과 ‘플러스 스타디움상’을 수상했다.   \n",
       "3                       균일가 생활용품점 (주)아성다이소(대표 박정부)는 코로나19 바이러스로 어려움을 겪고 있는 대구광역시에 행복박스를 전달했다고 10일 밝혔다.   \n",
       "4                                             1967년 프로 야구 드래프트 1순위로 요미우리 자이언츠에게 입단하면서 등번호는 8번으로 배정되었다.   \n",
       "\n",
       "                                                         subject_entity  \\\n",
       "0        {'word': '비틀즈', 'start_idx': 24, 'end_idx': 26, 'type': 'ORG'}   \n",
       "1      {'word': '민주평화당', 'start_idx': 19, 'end_idx': 23, 'type': 'ORG'}   \n",
       "2       {'word': '광주FC', 'start_idx': 21, 'end_idx': 24, 'type': 'ORG'}   \n",
       "3      {'word': '아성다이소', 'start_idx': 13, 'end_idx': 17, 'type': 'ORG'}   \n",
       "4  {'word': '요미우리 자이언츠', 'start_idx': 22, 'end_idx': 30, 'type': 'ORG'}   \n",
       "\n",
       "                                                         object_entity  \\\n",
       "0    {'word': '조지 해리슨', 'start_idx': 13, 'end_idx': 18, 'type': 'PER'}   \n",
       "1      {'word': '대안신당', 'start_idx': 14, 'end_idx': 17, 'type': 'ORG'}   \n",
       "2  {'word': '한국프로축구연맹', 'start_idx': 34, 'end_idx': 41, 'type': 'ORG'}   \n",
       "3       {'word': '박정부', 'start_idx': 22, 'end_idx': 24, 'type': 'PER'}   \n",
       "4        {'word': '1967', 'start_idx': 0, 'end_idx': 3, 'type': 'DAT'}   \n",
       "\n",
       "                       label     source  \n",
       "0                no_relation  wikipedia  \n",
       "1                no_relation   wikitree  \n",
       "2              org:member_of   wikitree  \n",
       "3  org:top_members/employees   wikitree  \n",
       "4                no_relation  wikipedia  "
      ]
     },
     "execution_count": 202,
     "metadata": {},
     "output_type": "execute_result"
    }
   ],
   "source": [
    "df.head()"
   ]
  },
  {
   "cell_type": "code",
   "execution_count": 203,
   "id": "2741e463-9e8a-4617-a0f7-3bb94f89c9ab",
   "metadata": {},
   "outputs": [],
   "source": [
    "labels = df.label.unique()"
   ]
  },
  {
   "cell_type": "code",
   "execution_count": 204,
   "id": "42bf1be7-11ae-4b7d-839d-d614837543b6",
   "metadata": {},
   "outputs": [
    {
     "data": {
      "text/plain": [
       "array(['wikipedia', 'wikitree', 'policy_briefing'], dtype=object)"
      ]
     },
     "execution_count": 204,
     "metadata": {},
     "output_type": "execute_result"
    }
   ],
   "source": [
    "df.source.unique()"
   ]
  },
  {
   "cell_type": "code",
   "execution_count": 205,
   "id": "1b5991c1-09df-4ab6-adde-f62ea873d43e",
   "metadata": {},
   "outputs": [
    {
     "data": {
      "text/plain": [
       "wikipedia          21620\n",
       "wikitree           10672\n",
       "policy_briefing      178\n",
       "Name: source, dtype: int64"
      ]
     },
     "execution_count": 205,
     "metadata": {},
     "output_type": "execute_result"
    }
   ],
   "source": [
    "df.source.value_counts()"
   ]
  },
  {
   "cell_type": "code",
   "execution_count": 206,
   "id": "b444c486-1e8e-4642-a208-1eebdab8f905",
   "metadata": {},
   "outputs": [
    {
     "data": {
      "text/plain": [
       "numpy.ndarray"
      ]
     },
     "execution_count": 206,
     "metadata": {},
     "output_type": "execute_result"
    }
   ],
   "source": [
    "type(labels)"
   ]
  },
  {
   "cell_type": "code",
   "execution_count": 207,
   "id": "3f0ff196-b99e-4788-824d-58053aa5c580",
   "metadata": {},
   "outputs": [
    {
     "data": {
      "text/plain": [
       "array(['no_relation', 'org:member_of', 'org:top_members/employees',\n",
       "       'org:alternate_names', 'per:date_of_birth',\n",
       "       'org:place_of_headquarters', 'per:employee_of', 'per:origin',\n",
       "       'per:title', 'org:members', 'per:schools_attended',\n",
       "       'per:colleagues', 'per:alternate_names', 'per:spouse',\n",
       "       'org:founded_by', 'org:political/religious_affiliation',\n",
       "       'per:children', 'org:founded', 'org:number_of_employees/members',\n",
       "       'per:place_of_birth', 'org:dissolved', 'per:parents',\n",
       "       'per:religion', 'per:date_of_death', 'per:place_of_residence',\n",
       "       'per:other_family', 'org:product', 'per:siblings', 'per:product',\n",
       "       'per:place_of_death'], dtype=object)"
      ]
     },
     "execution_count": 207,
     "metadata": {},
     "output_type": "execute_result"
    }
   ],
   "source": [
    "labels"
   ]
  },
  {
   "cell_type": "code",
   "execution_count": 208,
   "id": "a866d54a-5609-429e-b883-5a8c4fa2749c",
   "metadata": {},
   "outputs": [],
   "source": [
    "values = df.label.value_counts()"
   ]
  },
  {
   "cell_type": "code",
   "execution_count": 209,
   "id": "346bdcb2-5ac4-4196-bd6b-4acad2b37e6a",
   "metadata": {},
   "outputs": [
    {
     "data": {
      "text/plain": [
       "pandas.core.series.Series"
      ]
     },
     "execution_count": 209,
     "metadata": {},
     "output_type": "execute_result"
    }
   ],
   "source": [
    "type(values)"
   ]
  },
  {
   "cell_type": "code",
   "execution_count": 210,
   "id": "31497a46-f719-4cf5-816a-d0cb040ea74c",
   "metadata": {},
   "outputs": [
    {
     "data": {
      "text/plain": [
       "no_relation                            9534\n",
       "org:top_members/employees              4284\n",
       "per:employee_of                        3573\n",
       "per:title                              2103\n",
       "org:member_of                          1866\n",
       "org:alternate_names                    1320\n",
       "per:origin                             1234\n",
       "org:place_of_headquarters              1195\n",
       "per:date_of_birth                      1130\n",
       "per:alternate_names                    1001\n",
       "per:spouse                              795\n",
       "per:colleagues                          534\n",
       "per:parents                             520\n",
       "org:founded                             450\n",
       "org:members                             420\n",
       "per:date_of_death                       418\n",
       "org:product                             380\n",
       "per:children                            304\n",
       "per:place_of_residence                  193\n",
       "per:other_family                        190\n",
       "per:place_of_birth                      166\n",
       "org:founded_by                          155\n",
       "per:product                             139\n",
       "per:siblings                            136\n",
       "org:political/religious_affiliation      98\n",
       "per:religion                             96\n",
       "per:schools_attended                     82\n",
       "org:dissolved                            66\n",
       "org:number_of_employees/members          48\n",
       "per:place_of_death                       40\n",
       "Name: label, dtype: int64"
      ]
     },
     "execution_count": 210,
     "metadata": {},
     "output_type": "execute_result"
    }
   ],
   "source": [
    "values"
   ]
  },
  {
   "cell_type": "code",
   "execution_count": 473,
   "id": "2836cb40-388d-469f-b88a-52cb11c82185",
   "metadata": {},
   "outputs": [
    {
     "data": {
      "image/png": "[encoded data removed]",
      "text/plain": [
       "<Figure size 720x720 with 1 Axes>"
      ]
     },
     "metadata": {
      "needs_background": "light"
     },
     "output_type": "display_data"
    }
   ],
   "source": [
    "plt.figure(figsize=(10, 10))\n",
    "plt.barh(values.index, values)\n",
    "plt.show()"
   ]
  },
  {
   "cell_type": "code",
   "execution_count": 335,
   "id": "017ccc2e-7903-41cf-9973-dcc1e50751b7",
   "metadata": {},
   "outputs": [],
   "source": [
    "pd.set_option('display.max_colwidth', None)"
   ]
  },
  {
   "cell_type": "code",
   "execution_count": 336,
   "id": "cd6182bc-7a74-46bb-9736-b0b8c678f2a5",
   "metadata": {},
   "outputs": [
    {
     "data": {
      "text/plain": [
       "array(['2010년 3월 29일, 최진영은 서울특별시 강남구 논현동의 자택에서 스스로 세상을 떠났다.',\n",
       "       '막시밀리아노 1세(Maximiliano I, 1832년 7월 6일 오스트리아 빈 ~ 1867년 6월 19일 멕시코 케레타로 근처)는 오스트리아의 대공이자 멕시코 제국의 황제이다.',\n",
       "       '을미사변 때 훈련대 병력을 동원하여 명성황후를 시해하는 데 동참했던 당시 조선훈련대 제2대대장 우범선(禹範善)은 이후 일본에 망명하였는데, 그 후 고영근은 1898년 일본으로 건너가 우연찮게도 대한제국 조선인 망명객 출신인 윤효정과 만나 명성황후 암살 사건 관련 담화 등을 밀담하였고 결국 1903년 11월 24일 일본 히로시마현 구레에 소재했던 자신의 객저(집)로 우범선을 초대한 후 칼로 목과 턱을 찔러 우범선을 살해하였다.',\n",
       "       '마리 드 메디시스 왕비는 1630년 그녀의 아들이었던 루이 13세에 의해 추방당하게 되며 1642년 루벤스가 유년시절을 보냈던 쾰른의 바로 그 집에서 죽었다.',\n",
       "       '1921년 6월 자유시참변(自由市慘變) 발생 후 상해파 고려공산당의 간부들이 거의 러시아로 이동하여 이르쿠츠크집단과의 군권투쟁을 벌이고 있을 때, 운송책의 한 사람이었던 김립은 혼자서 상해본부를 지키고 있었으며, 1921년 말 임시정부에서 보낸 김구의 부하인 오면직, 노종균 등 청년들이 김립을 찾아 1922년 2월 11일 상하이 불조계의 자베이(閘北) 거리에서 암살당했다.',\n",
       "       '병을 얻은 트라야누스는 하드리아누스를 대신 파르티아 원정군의 사령관으로 임명하고 로마로 돌아가지만, 도중에 킬리키아 지방의 세리누스에서 사망하고 만다.',\n",
       "       '김창완과 그의 두 형제들로 구성되었던 그룹 산울림의 멤버이자 3형제 중 막내였던 김창익이 2008년 1월 캐나다 벤쿠버에서 제설작업 도중 사고로 사망하게 되었고, 같은 해 김창완은 산울림의 공식활동 중단소식과 아울러 젊은 연주자 4명과 함께 팀을 꾸려 음악활동을 시작하겠다는 소식을 전했다.',\n",
       "       '루이스 몰로니 아르벨로(; 1925년 5월 12일, 카나리아 제도 산타 크루스 데 테네리페 ~ 2010년 2월 12일, 카나리아 제도 라스 팔마스)는 스페인의 전 축구 미드필더이자 감독이다.',\n",
       "       '고용희는 2004년 8월 13일 프랑스 파리에서 치료 중, 심장마비, 암으로 사망했다는 이야기가 있으나, 그로부터 3개월 전인 5월경에 이미 숨졌을 가능성도 있다.',\n",
       "       '2010년 폴란드 공군 Tu-154 추락사고는 2010년 4월 10일, 폴란드의 레흐 카친스키 대통령 등이 탑승한 폴란드 공군 소속 투폴레프 Tu-154M가 러시아 스몰렌스크 인근에서 추락하여 탑승자 전원이 사망한 사건이다.',\n",
       "       '연회 중에 박정희는 김재규의 총에 가슴과 머리를 맞았고 곧 국군 서울 지구 병원으로 이송되었으나 이송 중 세상을 떠났다.',\n",
       "       '선의왕후 어씨는 본관이 함종(咸從)으로 영조 6년(1730) 6월 29일 경희궁 어조당(魚藻堂)에서 소생없이 승하하니 춘추 26세였고, 시호를 선의(宣懿), 무덤의 이름을 의릉이라 하여 10월에 천장산 경종릉 아래에 장례를 지냈다.',\n",
       "       '알폰소 10세 데 카스티야(1221년 11월 23일 톨레도 ~ 1284년 4월 4일 세비야)는 부르고뉴 왕가에 속하는 인물로, 카스티야 왕국과 레온 왕국의 왕이었으며, 일시적으로 독일의 왕(신성로마제국 황제)이었던 인물이다.',\n",
       "       '루돌프 1세는 1291년 7월 15일 슈파이어에서 죽었다.',\n",
       "       '피천득 선생은 2007년 5월 25일 서울에서 노환으로 별세하였다.',\n",
       "       '미셸 드브레는 1912년 1월 15일 파리 7구에서 태어나 1996년 8월 2일 몽루이쉬르루아르에서 사망한 프랑스의 정치인이다.',\n",
       "       '2014년 8월 11일(현지시간) 미국 샌프란시스코의 마린 카운티 경찰국에 따르면, 로빈 윌리엄스는 이날 캘리포니아 티뷰론(Tiburon, California)에 위치한 그의 자택에서 목을 매 숨진 채 발견됐다.',\n",
       "       '메이레키(明暦) 3년(1657년) 10월 26일에 에도에서 향년 54세로 사망했다. 가독은 장남 요시자네(義真)가 이었다.',\n",
       "       '그러나 이스마일 2세는 , 카즈빈의 궁성에서 아편 중독으로 사망하였다.',\n",
       "       '또한 그가 취임한 그 해에 바티칸 교황 요한 바오로 1세가 취임 33일만에 갑작스레 사망하였는데 이에 타살 의혹이 들면서 다시 한번 화제가 되기도 했다.',\n",
       "       '그러나 서재필은 휴전을 못보고 한국 전쟁이 한창이던 1951년 1월 5일 펜실베이니아주 필라델피아 노리스타운 몽고메리 병원 병실에서 후두암과 방광암, 과로의 합병증으로 일생을 마쳤다.',\n",
       "       '손원일(1909년 6월 22일(1909년 음력 5월 5일)(1909년 음력 5월 5일) 대한제국 평안남도 강서 출생 ~ 1980년 2월 15일 대한민국 서울에서 별세.)은 대한민국 제5대 국방부 장관, 초대 서독 주재 대한민국 대사 등을 지낸 대한민국 독립운동가 및 예비역 대한민국 해군 중장 출신이자, 군인, 정치가, 외교관, 관료이다.',\n",
       "       '헤디 라마르는 2000년 1월 19일 플로리다주의 카셀베리에서 심장병으로 85세에 사망했다.',\n",
       "       '“아스타 시엠프레, 코만단테”(Hasta Siempre- Comandante)는 1965년 쿠바의 작곡가 카를로스 푸에블라가 1965년 작곡한 스페인어 노래로, 혁명가 체 게바라가 콩고와 그 뒤 자신이 죽게 된 볼리비아로 투쟁무대를 옮기기 위해 쿠바를 떠나면서 남긴 이별의 편지에 대한 응답조의 내용이다.',\n",
       "       '에드워드 \"테드\" 손다이크 (Edward Lee \"Ted\" Thorndike, 1874년 8월 31일 미국 매사추세츠주 윌리암스버그 출생 ~ 1949년 8월 9일 미국 뉴욕주 몬트로즈에서 사망)는 전체 경력의 대부분을 컬럼비아 대학교에서 지녔던, 미국의 심리학자이다.',\n",
       "       '박시창(대한제국 경기도 시흥 출생 ~ 대한민국 서울에서 별세.)은 대한민국의 독립운동가 겸 군인이자 예비역 대한민국 육군 소장 출신이며 사회운동가 겸 사회기관단체장이었다.',\n",
       "       '1932년 1월 24일 워버그는 63세의 나이로 뉴욕의 저택에서 사망하여 뉴욕주 슬리피홀로에 있는 슬리피홀로 공동묘지에 안장되었다.',\n",
       "       '플로리야나 이스마일리는 2019년 6월 29일에 이탈리아 롬바르디아주 코모호에서 보트를 타고 가던 도중에 뛰어내리면서 실종되었다.',\n",
       "       '리승엽(1905년 2월 8일 대한제국 경기도 부평 출생 ~ 1954년 7월 30일 조선민주주의인민공화국 평양에서 사형 집행.)은 일제 강점기의 친일 공산주의 운동가이며 조선민주주의인민공화국의 정치가이다.',\n",
       "       '훌라구는 계속하여 팔레스타인을 정복하여 카이로로 향하려고 하였으나, 1259년 8월 11일에 대칸 뭉케가 중국에서 사망했다는 소식을 들은 훌레구는 당시 알레포를 포위하고 있었다.',\n",
       "       '터르노보 근교의 사냥 도중 칼리만 아센은 미하일 아센 1세를 살해하고 왕위를 찬탈하였다.',\n",
       "       '1947년 7월 여운형이 서울에서 암살된 이후 그는 근로인민당을 이끌었으며 1948년 4월의 남북협상에 참가하였다.',\n",
       "       '2009년 김정일의 넷째 아내인 김옥이 김정일의 셋째 아내인 고용희가 타고 있던 자동차 브레이크를 조작해서 고용희를 암살하려는 음모를 꾸몄으며 이를 실토한 사실이 김옥의 측근의 증언을 통해 알려졌다. 고용희는 2004년 교통사고를 당했으며, 2004년 5월 26일 프랑스 한 병원에서 유방암으로 세상을 떠난 후 6월초 북한에서 장례식을 치렀다.',\n",
       "       '기원전 42년 10월 마케도니아의 필리피에서 두 번의 전투를 치르고 난 뒤, 로마군은 승리하고 브루투스와 카시우스는 자살하였다.',\n",
       "       '1100년 예루살렘을 함락한 후 왕이 되지 않고 그저 지배자가 된 성묘의 수호자이던 보두앵의 형 고드프루아 드 부용이 죽자 보두앵이 예루살렘에 들어와 예루살렘의 왕 보두앵 1세가 되어, 예루살렘 왕국을 건국했다.',\n",
       "       '1612년 9월 12일 고스티닌 성에서 사망했으며 1635년 러시아 차르국의 차르였던 미하일 1세의 요청에 따라 바실리 4세의 시신이 모스크바로 귀환했다.',\n",
       "       '내부 마케도니아 혁명 기구의 회원으로 활동했으며 1934년에는 프랑스 마르세유에서 유고슬라비아 왕국의 알렉산다르 1세 국왕과 프랑스의 루이 바르투 외무장관을 암살했다.',\n",
       "       '묵돌이 선우가 된 209년에는 진시황이 사망한 직후였으며 이로 인해 진나라가 큰 혼란에 빠져 중국은 초한전쟁이라는 내전을 치르고 있었다.',\n",
       "       '만네르헤임은 1951년 1월 27일(협정 세계시), 핀란드 시간으로는 1월 28일 스위스 로잔의 주립병원에서 사망했다.',\n",
       "       '1593년 6월 2차 진주성 전투에서 진주성이 함락되자 의병장인 김천일·고종후와 함께 촉석루에 올라 임금의 처소가 있는 북쪽을 향해 4배(四拜)를 한 후 스스로 진주 남강에 투신해 순절했다.'],\n",
       "      dtype=object)"
      ]
     },
     "execution_count": 336,
     "metadata": {},
     "output_type": "execute_result"
    }
   ],
   "source": [
    "df.sentence[df.label=='per:place_of_death'].values"
   ]
  },
  {
   "cell_type": "code",
   "execution_count": 214,
   "id": "35b4b64c-c24e-418d-a1fd-ddbe506fca38",
   "metadata": {},
   "outputs": [],
   "source": [
    "submission = pd.read_csv('./prediction/submission.csv')"
   ]
  },
  {
   "cell_type": "code",
   "execution_count": 215,
   "id": "59e04fcb-ce38-4278-965f-a379f8402297",
   "metadata": {},
   "outputs": [
    {
     "name": "stdout",
     "output_type": "stream",
     "text": [
      "<class 'pandas.core.frame.DataFrame'>\n",
      "RangeIndex: 7765 entries, 0 to 7764\n",
      "Data columns (total 3 columns):\n",
      " #   Column      Non-Null Count  Dtype \n",
      "---  ------      --------------  ----- \n",
      " 0   id          7765 non-null   int64 \n",
      " 1   pred_label  7765 non-null   object\n",
      " 2   probs       7765 non-null   object\n",
      "dtypes: int64(1), object(2)\n",
      "memory usage: 182.1+ KB\n"
     ]
    }
   ],
   "source": [
    "submission.info()"
   ]
  },
  {
   "cell_type": "code",
   "execution_count": 216,
   "id": "372267ea-4892-485a-8d7d-e2bef87b54d1",
   "metadata": {},
   "outputs": [
    {
     "data": {
      "text/plain": [
       "0                     org:product\n",
       "1             per:alternate_names\n",
       "2                     no_relation\n",
       "3                     no_relation\n",
       "4       org:top_members/employees\n",
       "                  ...            \n",
       "7760    org:place_of_headquarters\n",
       "7761                  no_relation\n",
       "7762    org:top_members/employees\n",
       "7763                  no_relation\n",
       "7764                  no_relation\n",
       "Name: pred_label, Length: 7765, dtype: object"
      ]
     },
     "execution_count": 216,
     "metadata": {},
     "output_type": "execute_result"
    }
   ],
   "source": [
    "submission.pred_label"
   ]
  },
  {
   "cell_type": "code",
   "execution_count": 217,
   "id": "dafd120a-beac-443a-bdcc-cce86684c42f",
   "metadata": {},
   "outputs": [
    {
     "data": {
      "text/plain": [
       "no_relation                            4393\n",
       "per:title                               769\n",
       "org:top_members/employees               443\n",
       "per:employee_of                         318\n",
       "org:place_of_headquarters               309\n",
       "org:product                             202\n",
       "per:origin                              155\n",
       "per:place_of_residence                  135\n",
       "org:member_of                           117\n",
       "per:alternate_names                     114\n",
       "org:members                             112\n",
       "per:colleagues                          108\n",
       "org:alternate_names                      86\n",
       "per:product                              82\n",
       "per:spouse                               81\n",
       "per:parents                              56\n",
       "per:children                             49\n",
       "per:siblings                             32\n",
       "org:founded                              26\n",
       "per:date_of_death                        25\n",
       "per:other_family                         25\n",
       "org:number_of_employees/members          23\n",
       "per:place_of_birth                       17\n",
       "org:political/religious_affiliation      17\n",
       "per:date_of_birth                        15\n",
       "per:place_of_death                       14\n",
       "per:schools_attended                     14\n",
       "per:religion                             12\n",
       "org:dissolved                             8\n",
       "org:founded_by                            8\n",
       "Name: pred_label, dtype: int64"
      ]
     },
     "execution_count": 217,
     "metadata": {},
     "output_type": "execute_result"
    }
   ],
   "source": [
    "submission.pred_label.value_counts()"
   ]
  },
  {
   "cell_type": "code",
   "execution_count": 218,
   "id": "073763ba-44b3-4e24-9aa3-35784b025272",
   "metadata": {},
   "outputs": [],
   "source": [
    "test = pd.read_csv('../dataset/test/test_data.csv')"
   ]
  },
  {
   "cell_type": "code",
   "execution_count": 219,
   "id": "0f44d0f7-9907-47fe-85f4-a3b7a21a76e0",
   "metadata": {},
   "outputs": [
    {
     "name": "stdout",
     "output_type": "stream",
     "text": [
      "<class 'pandas.core.frame.DataFrame'>\n",
      "RangeIndex: 7765 entries, 0 to 7764\n",
      "Data columns (total 6 columns):\n",
      " #   Column          Non-Null Count  Dtype \n",
      "---  ------          --------------  ----- \n",
      " 0   id              7765 non-null   int64 \n",
      " 1   sentence        7765 non-null   object\n",
      " 2   subject_entity  7765 non-null   object\n",
      " 3   object_entity   7765 non-null   object\n",
      " 4   label           7765 non-null   int64 \n",
      " 5   source          7765 non-null   object\n",
      "dtypes: int64(2), object(4)\n",
      "memory usage: 364.1+ KB\n"
     ]
    }
   ],
   "source": [
    "test.info()"
   ]
  },
  {
   "cell_type": "code",
   "execution_count": 220,
   "id": "1334f796-cdd1-4223-bc12-63accfac88c1",
   "metadata": {},
   "outputs": [
    {
     "data": {
      "text/plain": [
       "array(['다크홈은 머슬 바운드 프로덕션(Muscle Bound Production)을 설립하여, 스스로 감독으로서 《라커룸의 제왕》(The Lords of the Lockroom), 《하우스 오브 디텐션》(House of Detention)는 작품을 찍고 계속 활동을 하였다.',\n",
       "       '학교 설립에 필요한 재원으로는 이승만이 설립 운영하였던 한인기독학원(Korea Christian Institute)을 처분한 대금과, 하와이 교포들의 성금, 그리고 한국 거주민들의 성금 및 국고 보조 등을 기금으로 하고, 인천시로부터 교지를 기증받아 1954년 2월 ‘재단법인 인하학원’의 설립이 이루어짐으로써 금속, 기계, 광산, 전기, 조선, 화학공학 등 6개 학과가 설치되고, 1954년 4월 24일 인하공과대학으로 개교를 하였다.',\n",
       "       '성 도미니코(1170년 8월 8일 - 1221년 8월 6일)는 스페인의 그리스도교 성직자이자 도미니코회의 창설자이다.',\n",
       "       '밀양 동화학교 수학 중 일제에 의해 학교가 폐교되자 서울중앙학교에서 수학중 1919년 3.1 독립만세운동에 가담하였으며 이후 조국의 독립을 위해 중국으로 망명하여, 우당 이회영이 중국 길림성에 설립한 신흥무관 학교에서 수학했다.',\n",
       "       '2012년 5월, 함께 일해왔던 남편과 이혼하고 (주) 센슈 기획과의 업무 제휴가 종료되면서, 김연자가 직접 대표가 되어 일본에 새 회사(YJKcompany)를 설립하였다.',\n",
       "       '고(故) 김수연 선생은 학성강당을 설립하고 70여년의 세월 동안 1만여명의 제자를 배출⋅육성했으며 이러한 공로로 2003년 KBS 전북의 어른상, 2005년 국무총리상, 2013년 국민훈장 석류장 등을 수상했다.',\n",
       "       '졸업 후 박흥식이 만든 조선비행기공업주식회사에 기술자로 취직하여 중국 봉천(현재의 심양)에서 제품을 검사하는 일을 하다가 광복을 맞이 하였다.',\n",
       "       '미주리주 세인트루이스에서 짧은 시간 동안 법률을 실천한 후, 브랜다이스는 보스턴에서 변호사가 되어 자신의 하버드 로스쿨 동창 새뮤얼 D. 워런과 함께 \"너터, 매클레넌 앤드 피쉬\" (Nutter, McClennen and Fish)로 불린 보스턴의 현저한 로펌을 창립하였다.'],\n",
       "      dtype=object)"
      ]
     },
     "execution_count": 220,
     "metadata": {},
     "output_type": "execute_result"
    }
   ],
   "source": [
    "test.sentence[submission.pred_label=='org:founded_by'].values"
   ]
  },
  {
   "cell_type": "code",
   "execution_count": 221,
   "id": "de968b9f-7eba-41d6-ae27-225ae7c746ab",
   "metadata": {},
   "outputs": [
    {
     "data": {
      "text/plain": [
       "Index(['no_relation', 'per:title', 'org:top_members/employees',\n",
       "       'per:employee_of', 'org:place_of_headquarters', 'org:product',\n",
       "       'per:origin', 'per:place_of_residence', 'org:member_of',\n",
       "       'per:alternate_names', 'org:members', 'per:colleagues',\n",
       "       'org:alternate_names', 'per:product', 'per:spouse', 'per:parents',\n",
       "       'per:children', 'per:siblings', 'org:founded', 'per:date_of_death',\n",
       "       'per:other_family', 'org:number_of_employees/members',\n",
       "       'per:place_of_birth', 'org:political/religious_affiliation',\n",
       "       'per:date_of_birth', 'per:place_of_death', 'per:schools_attended',\n",
       "       'per:religion', 'org:dissolved', 'org:founded_by'],\n",
       "      dtype='object')"
      ]
     },
     "execution_count": 221,
     "metadata": {},
     "output_type": "execute_result"
    }
   ],
   "source": [
    "test_labels = submission.pred_label.value_counts().index\n",
    "test_labels"
   ]
  },
  {
   "cell_type": "code",
   "execution_count": 1287,
   "id": "3d28864e-9d89-47ab-b626-5939bfc8fe46",
   "metadata": {},
   "outputs": [
    {
     "name": "stdout",
     "output_type": "stream",
     "text": [
      "no_relation \n",
      "\n",
      "[['한편, 본인(이근안)을 모델로 한 MBC 특집드라마 가 1995년 6.25 특집극으로 편성될 예정이었는데 제작비 문제 때문에 연출자 고석만 PD(당시 단막극 팀장)가 MBC에 지원을 요청했지만 거절당한 데다 MBC가 경찰과의 관계 약화를 염려하여 제작을 달갑지 않게 여겼고 이 과정에서 연출자가 1995년 3월 29일 MBC에 사표를 제출한 후 프리랜서를 선언하여 편성이 무산됐으며 고석만 PD는 의 제작과 관련한 MBC와의 마찰 외에도 1994년 10월 \"평프로듀서로 일하고 싶다\"며 당시 맡고 있던 단막극 책임PD(종합병원 전원일기 등등) 보직 사퇴의사를 밝혔지만 MBC 측의 반대로 무산되자 프리랜서를 선언했다.'\n",
      "  \"{'word': '경찰', 'start_idx': 121, 'end_idx': 122, 'type': 'ORG'}\"\n",
      "  \"{'word': '1995년', 'start_idx': 31, 'end_idx': 35, 'type': 'DAT'}\"]\n",
      " [\"정창손은 김질과 같이 대궐로 달려가 고변하며 '신은 실로 모르고 김질만 혼자 참여하였는데, 김질의 죄는 만번 죽어 마땅합니다.'라고 하니, 세조가 특별히 김질을 사면하였다.\"\n",
      "  \"{'word': '세조', 'start_idx': 78, 'end_idx': 79, 'type': 'PER'}\"\n",
      "  \"{'word': '정창손', 'start_idx': 0, 'end_idx': 2, 'type': 'PER'}\"]\n",
      " ['미국은 필리핀 측에서는 동맹이 아니라 지배자가 되었다고 볼 수 있기 때문에, 필리핀 군대와 미국 군대의 관계는 극도로 긴박한 것이었다.'\n",
      "  \"{'word': '필리핀', 'start_idx': 4, 'end_idx': 6, 'type': 'ORG'}\"\n",
      "  \"{'word': '미국', 'start_idx': 0, 'end_idx': 1, 'type': 'ORG'}\"]]\n",
      "\n",
      "\n",
      "per:title \n",
      "\n",
      "[['광산구 관계자는 “청년들이 시민과 호흡하며 지역을 대표하는 예술인으로 성장할 수 있도록 돕겠다”며 “동시에 문예회관의 공공성 강화를 위해 많은 청년 예술인과 단체의 관심과 참여 바란다”고 밝혔다.'\n",
      "  \"{'word': '광산구', 'start_idx': 0, 'end_idx': 2, 'type': 'ORG'}\"\n",
      "  \"{'word': '예술인', 'start_idx': 33, 'end_idx': 35, 'type': 'POH'}\"]\n",
      " ['김승남 전 위원장은 “우리 정치의 가장 시급한 과제는 고통 받는 농어촌과 서민들이 다시 일어서서 행복하게 삶을 영위할 수 있도록 정책을 발굴하고 이를 뒷받침할 수 있는 법안과 예산을 만드는 일이며, 이를 위해서는 혁신적인 농어업지원정책이 마련되어야 한다”고 주장했다.'\n",
      "  \"{'word': '김승남', 'start_idx': 0, 'end_idx': 2, 'type': 'PER'}\"\n",
      "  \"{'word': '위원장', 'start_idx': 6, 'end_idx': 8, 'type': 'POH'}\"]\n",
      " ['이처럼 작품 활동 없었던 원빈이 과거 인터뷰로 재평가 받고 있는 이유는 최근 배우 주진모 씨 등 연예인들 사생활 관련 게시물들이 유포되면서인 듯하다.'\n",
      "  \"{'word': '주진모', 'start_idx': 46, 'end_idx': 48, 'type': 'PER'}\"\n",
      "  \"{'word': '배우', 'start_idx': 43, 'end_idx': 44, 'type': 'POH'}\"]]\n",
      "\n",
      "\n",
      "org:top_members/employees \n",
      "\n",
      "[['당시 민주당 이진련 시의원은 권영진 시장에게 \"긴급 생계자금을 왜 현금으로 지원하지 않느냐\"고 따졌다.'\n",
      "  \"{'word': '민주당', 'start_idx': 3, 'end_idx': 5, 'type': 'ORG'}\"\n",
      "  \"{'word': '권영진', 'start_idx': 16, 'end_idx': 18, 'type': 'PER'}\"]\n",
      " ['이날 기탁식에서는 ㈜와이엔텍(회장 박용하) 1억 원, ㈜거명이앤씨(회장 반재경)가 1천만 원의 소중한 후원금을 전달하며 따뜻한 마음을 전했다.'\n",
      "  \"{'word': '㈜거명이앤씨', 'start_idx': 30, 'end_idx': 35, 'type': 'ORG'}\"\n",
      "  \"{'word': '반재경', 'start_idx': 40, 'end_idx': 42, 'type': 'PER'}\"]\n",
      " ['이번 행사에 참여한 광주여대 재학생은 \"평소 관심이 있던 마케팅·브랜드 분야의 현직자와 만나 소통할 수 있는 것도 의미 있었으며 진심어린 조언에 힘을 얻었다\"고 말했다.'\n",
      "  \"{'word': '광주여대', 'start_idx': 11, 'end_idx': 14, 'type': 'ORG'}\"\n",
      "  \"{'word': '재학생', 'start_idx': 16, 'end_idx': 18, 'type': 'POH'}\"]]\n",
      "\n",
      "\n",
      "per:employee_of \n",
      "\n",
      "[['한국당 전희경 대변인은 이날 정 총리 후보자 지명 직후 논평을 내고 \"의회를 시녀화하겠다는 독재 선언\"이라면서 이같이 말했다.'\n",
      "  \"{'word': '전희경', 'start_idx': 4, 'end_idx': 6, 'type': 'PER'}\"\n",
      "  \"{'word': '한국당', 'start_idx': 0, 'end_idx': 2, 'type': 'ORG'}\"]\n",
      " ['경기 파주시(시장 최종환)는 치매 환자와 가족을 위해 지난해 7월 파평치매단기쉼터 개소에 이어 지난 11월 12일 월롱치매단기쉼터 개소에 따른 현판식을 갖고 본격적인 업무를 시작했다.'\n",
      "  \"{'word': '최종환', 'start_idx': 10, 'end_idx': 12, 'type': 'PER'}\"\n",
      "  \"{'word': '파주시', 'start_idx': 3, 'end_idx': 5, 'type': 'ORG'}\"]\n",
      " ['또 서구청에 설치된 사고수습대책본부(본부장 서대석 서구청장)에서는 사망자의 장례절차와 부상자들을 지원하는데 최선을 다해달라\"고 당부했다.'\n",
      "  \"{'word': '서대석', 'start_idx': 24, 'end_idx': 26, 'type': 'PER'}\"\n",
      "  \"{'word': '서구', 'start_idx': 28, 'end_idx': 29, 'type': 'LOC'}\"]]\n",
      "\n",
      "\n",
      "org:place_of_headquarters \n",
      "\n",
      "[['이에 따라 제주특별자치도청은 한국정보화진흥원을 제주로 이전하는 방안과 대구로의 이전시 현재 대구 혁신도시 이전 공공기관으로 분류된 교육과학기술연수원과 맞바꾸는 방안을 요구했으나 대구광역시청과의 협의가 원활하지 못하면서 1년 넘도록 공공기관 이전계획을 마무리짓지 못하고 있다.'\n",
      "  \"{'word': '한국정보화진흥원', 'start_idx': 16, 'end_idx': 23, 'type': 'ORG'}\"\n",
      "  \"{'word': '대구', 'start_idx': 39, 'end_idx': 40, 'type': 'LOC'}\"]\n",
      " ['서방의 군사 전문가들은 비하치 포위망 주변 크로아티아 영토에 있는 세르비아군의 지대공미사일 중에서는 베오그라드에서 가져온 것으로 보이는 현대적인 SAM-2 미사일도 보인다고 말했다.'\n",
      "  \"{'word': '세르비아군', 'start_idx': 37, 'end_idx': 41, 'type': 'ORG'}\"\n",
      "  \"{'word': '크로아티아', 'start_idx': 24, 'end_idx': 28, 'type': 'LOC'}\"]\n",
      " ['드와이트 라이먼 무디(Dwight Lyman Moody, 드와이트 라이먼 무디, 1837년 2월 5일 ~ 1899년12월 22일)은 미국의 침례교 평신도 설교자이다.'\n",
      "  \"{'word': '침례교', 'start_idx': 78, 'end_idx': 80, 'type': 'ORG'}\"\n",
      "  \"{'word': '미국', 'start_idx': 74, 'end_idx': 75, 'type': 'LOC'}\"]]\n",
      "\n",
      "\n",
      "org:product \n",
      "\n",
      "[[\"지난 15일 MBC '탐사기획 스트레이트'가 이 사실을 보도했다.\"\n",
      "  \"{'word': 'MBC', 'start_idx': 7, 'end_idx': 9, 'type': 'ORG'}\"\n",
      "  \"{'word': '탐사기획 스트레이트', 'start_idx': 12, 'end_idx': 21, 'type': 'ORG'}\"]\n",
      " ['노태문 삼성전자 IM부문 무선사업부장 사장은 갤럭시 시리즈 개발을 주도하며 갤럭시 신화를 일군 스마트폰 개발 전문가로 무선사업부 개발실장을 역임하면서 기술 리더십을 바탕으로 모바일 사업의 글로벌 경쟁력 강화에 기여한 주역이다.'\n",
      "  \"{'word': '삼성전자', 'start_idx': 4, 'end_idx': 7, 'type': 'ORG'}\"\n",
      "  \"{'word': '갤럭시', 'start_idx': 42, 'end_idx': 44, 'type': 'POH'}\"]\n",
      " ['그는 “11월부터 미국시장에서 시판되고 있는 트룩시마의 월별 처방액 데이터와 실제 램시마 SC의 유럽 판매액이 반영될 셀트리온헬스케어의 램시마 SC 매출액 성장세가 올해 셀트리온 그룹의 성장세를 판가름할 수 있는 가장 중요한 지표가 될 것으로 예상된다”고 내다봤다.'\n",
      "  \"{'word': '셀트리온헬스케어', 'start_idx': 66, 'end_idx': 73, 'type': 'ORG'}\"\n",
      "  \"{'word': '램시마 SC', 'start_idx': 76, 'end_idx': 81, 'type': 'POH'}\"]]\n",
      "\n",
      "\n",
      "per:origin \n",
      "\n",
      "[['일찍이 이천(利川)의 율정(栗亭) 이관의(李寬義)의 문하에서 수학하였다.'\n",
      "  \"{'word': '이관의', 'start_idx': 19, 'end_idx': 21, 'type': 'PER'}\"\n",
      "  \"{'word': '이천', 'start_idx': 4, 'end_idx': 5, 'type': 'LOC'}\"]\n",
      " ['2008년, 브라이언 싱어의 스릴러 작전명 발키리 (Valkyrie) 에서 독일의 배우 크리스티안 베르켈 (Christian Berkel) 이 알브레히트 메르츠 폰 크비른하임을 연기하였다.'\n",
      "  \"{'word': 'Christian Berkel', 'start_idx': 60, 'end_idx': 75, 'type': 'ORG'}\"\n",
      "  \"{'word': '독일', 'start_idx': 42, 'end_idx': 43, 'type': 'LOC'}\"]\n",
      " ['로마 속주 트라키아의 수도로 번창했으며 371년 발렌스 황제가 아드리아노폴리스 전투에서 고트족과 싸우다 전사하였다.'\n",
      "  \"{'word': '발렌스', 'start_idx': 27, 'end_idx': 29, 'type': 'PER'}\"\n",
      "  \"{'word': '로마', 'start_idx': 0, 'end_idx': 1, 'type': 'LOC'}\"]]\n",
      "\n",
      "\n",
      "per:place_of_residence \n",
      "\n",
      "[['영국인 최난헌이(매천야록에 미국인 최난헌으로 기록되어 있으나, 최난헌은 영국인 선교사 토마스 목사의 한국이름이다.) 군함 1척을 이끌고 조수를 타고 대동강에 들어왔지만 조수가 밀려나가면서 군함은 꼼짝달싹하지 못하게 되었다.'\n",
      "  \"{'word': '토마스', 'start_idx': 48, 'end_idx': 50, 'type': 'PER'}\"\n",
      "  \"{'word': '대동강', 'start_idx': 83, 'end_idx': 85, 'type': 'LOC'}\"]\n",
      " ['장흥군 장동면 기관사회단체 제암회(회장 김광재)는 지난 19일 안중근 의사를 모신 해동사를 방문해 참배하고 환경정화 활동을 펼쳤다.'\n",
      "  \"{'word': '김광재', 'start_idx': 22, 'end_idx': 24, 'type': 'PER'}\"\n",
      "  \"{'word': '장흥군', 'start_idx': 0, 'end_idx': 2, 'type': 'LOC'}\"]\n",
      " ['그리고 일본의 코우사카 박사를 만나도록 최면 암시를 건다.'\n",
      "  \"{'word': '코우사카', 'start_idx': 8, 'end_idx': 11, 'type': 'PER'}\"\n",
      "  \"{'word': '일본', 'start_idx': 4, 'end_idx': 5, 'type': 'LOC'}\"]]\n",
      "\n",
      "\n",
      "org:member_of \n",
      "\n",
      "[['영암군은 지난 5월 2일 전라남도에 1차 서류 제출을 시작으로 공모사업에 참여하여 5월 28일 도에서 유일하게 서류심사 통과, 도 인구정책팀에서 주관한 공모 컨설팅을 거쳐 7월 10일 행안부 심사발표를 마치고 최종 선정되어 특교세 5억을 지원받게 되었다.'\n",
      "  \"{'word': '영암군', 'start_idx': 0, 'end_idx': 2, 'type': 'ORG'}\"\n",
      "  \"{'word': '전라남도', 'start_idx': 14, 'end_idx': 17, 'type': 'ORG'}\"]\n",
      " ['미국 축구 국가대표팀은 미국을 대표하는 축구 국가대표팀으로 멕시코와 함께 북중미 축구의 양대산맥으로 불린다.'\n",
      "  \"{'word': '멕시코', 'start_idx': 33, 'end_idx': 35, 'type': 'ORG'}\"\n",
      "  \"{'word': '축구 국가대표팀', 'start_idx': 22, 'end_idx': 29, 'type': 'ORG'}\"]\n",
      " ['충청북도교육청은 2023년 (가칭)서현2초 설립에 대해 교육부 중앙투자심사에서 조건부로 승인받았다고 24일 밝혔다.'\n",
      "  \"{'word': '충청북도교육청', 'start_idx': 0, 'end_idx': 6, 'type': 'ORG'}\"\n",
      "  \"{'word': '교육부', 'start_idx': 31, 'end_idx': 33, 'type': 'ORG'}\"]]\n",
      "\n",
      "\n",
      "per:alternate_names \n",
      "\n",
      "[['사랑스러운 ‘프린세스 프링’의 이름은 봄의 공주님: Princess(s)Pring이란 뜻으로 탄생, 부활, 청춘 등 여러 가지 의미를 담아 생일왕국의 공주님의 이름이 되었다.'\n",
      "  \"{'word': '프린세스 프링', 'start_idx': 7, 'end_idx': 13, 'type': 'PER'}\"\n",
      "  \"{'word': '공주', 'start_idx': 84, 'end_idx': 85, 'type': 'POH'}\"]\n",
      " ['소련군에서 그의 이름도 중국식의 진지첸으로 조선인으로서의 정체성도 희박했다.'\n",
      "  \"{'word': '소련군', 'start_idx': 0, 'end_idx': 2, 'type': 'ORG'}\"\n",
      "  \"{'word': '진지첸', 'start_idx': 18, 'end_idx': 20, 'type': 'PER'}\"]\n",
      " ['강명구(姜明求, 1917년~2000년)는 대한민국의 건축가이다.'\n",
      "  \"{'word': '강명구', 'start_idx': 0, 'end_idx': 2, 'type': 'PER'}\"\n",
      "  \"{'word': '姜明求', 'start_idx': 4, 'end_idx': 6, 'type': 'PER'}\"]]\n",
      "\n",
      "\n",
      "org:members \n",
      "\n",
      "[['조선민주주의인민공화국 관할 지역은 개풍군 영북면 월고리 및 연천군 서남면 지역을 합쳐 장풍군이 설치되어 있다.'\n",
      "  \"{'word': '조선민주주의인민공화국', 'start_idx': 0, 'end_idx': 10, 'type': 'ORG'}\"\n",
      "  \"{'word': '개풍군', 'start_idx': 19, 'end_idx': 21, 'type': 'LOC'}\"]\n",
      " ['FC 바르셀로나와 아틀레티코 마드리드의 유명한 골키퍼였던 미겔 레이나의 아들인 페페 레이나는 그의 경력을 FC 바르셀로나 유스팀에서 시작하였고, 그의 첫 프리메라리가 데뷔는 2000-01시즌에 이루어졌다.'\n",
      "  \"{'word': '프리메라리가', 'start_idx': 86, 'end_idx': 91, 'type': 'ORG'}\"\n",
      "  \"{'word': '아틀레티코 마드리드', 'start_idx': 10, 'end_idx': 19, 'type': 'ORG'}\"]\n",
      " ['SPC그룹의 대표적인 나눔 SPC행복한장학금상생 프로그램인 SPC행복한장학금은 파리바게뜨, 배스킨라빈스, 던킨도너츠 등 SPC그룹 매장에서 근무하는 아르바이트 대학생 중 근속기간과 가정형편 등을 고려해 매년 200명(한 학기당 100명)에게 등록금의 50%를 지원하는 제도다.'\n",
      "  \"{'word': 'SPC그룹', 'start_idx': 67, 'end_idx': 71, 'type': 'ORG'}\"\n",
      "  \"{'word': 'SPC행복한장학금', 'start_idx': 33, 'end_idx': 41, 'type': 'POH'}\"]]\n",
      "\n",
      "\n",
      "per:colleagues \n",
      "\n",
      "[['또, 한명진 예비후보는 “2003년 노무현 대통령의 ‘다음 5년 내지 10년 동안 먹고 살 수 있는 먹거리’를 준비하라는 지시로 또 다른 미래 투자인 우주개발 예산을 검토했다”라며 “우리의 국가방위 차원뿐만 아니라 우리나라의 방산물자 수출도 지속적으로 증대되고 있기 때문에 드론과 첨단 우주항공 방위산업단지는 국가적으로도 필요하다”라고 했다.'\n",
      "  \"{'word': '한명진', 'start_idx': 3, 'end_idx': 5, 'type': 'PER'}\"\n",
      "  \"{'word': '노무현', 'start_idx': 20, 'end_idx': 22, 'type': 'PER'}\"]\n",
      " [\"어느 시골 마을에서 마녀의 피를 잇고 태어난 키키. '마녀가 되려는 소녀는 13살이 되던 보름달 뜬 밤 마녀가 없는 마을에서 1년을 수행하면 마녀가 될 수 있다'는 전통을 따라, 친구인 고양이 지지와 함께 빗자루를 타고 날아 바다를 건너 대도시에 도착한다.\"\n",
      "  \"{'word': '키키', 'start_idx': 25, 'end_idx': 26, 'type': 'PER'}\"\n",
      "  \"{'word': '지지', 'start_idx': 108, 'end_idx': 109, 'type': 'POH'}\"]\n",
      " [\"문재인 대통령이 김정은 북한 국무위원장을 오는 25일 부산에서 열리는 한·아세안 특별정상회의에 초청했지만 북한이 21일 '정중히' 거절했다.\"\n",
      "  \"{'word': '문재인', 'start_idx': 0, 'end_idx': 2, 'type': 'PER'}\"\n",
      "  \"{'word': '김정은', 'start_idx': 9, 'end_idx': 11, 'type': 'PER'}\"]]\n",
      "\n",
      "\n",
      "org:alternate_names \n",
      "\n",
      "[['bhc치킨은 오는 22일까지 BSR(bhcCSR) 공식 블로그와 페이스북을 통해 봉사활동 추천 댓글 이벤트를 펼친다.'\n",
      "  \"{'word': 'bhc치킨', 'start_idx': 0, 'end_idx': 4, 'type': 'ORG'}\"\n",
      "  \"{'word': 'bhcCSR', 'start_idx': 20, 'end_idx': 25, 'type': 'ORG'}\"]\n",
      " ['우리나라 법인세 최고세율은 22%로 경제협력개발기구(OECD) 평균인 25.6%(지방세 포함)보다 낮은 편이다.'\n",
      "  \"{'word': '경제협력개발기구', 'start_idx': 20, 'end_idx': 27, 'type': 'ORG'}\"\n",
      "  \"{'word': 'OECD', 'start_idx': 29, 'end_idx': 32, 'type': 'ORG'}\"]\n",
      " ['대원군(帶原君)이었다가 뒤에 대은군(帶恩君)으로 변경된다.'\n",
      "  \"{'word': '帶原君', 'start_idx': 4, 'end_idx': 6, 'type': 'ORG'}\"\n",
      "  \"{'word': '대원군', 'start_idx': 0, 'end_idx': 2, 'type': 'POH'}\"]]\n",
      "\n",
      "\n",
      "per:product \n",
      "\n",
      "[['임택 동구청장은 “문화예술과 도시재생을 아우르는 미로센터가 광주 문화예술의 원류 예술의 거리를 활성화할 수 있는 예술플랫폼이 되길 기대한다”면서 “미로센터가 시민들이 문화생산주체가 되는 허브로 자리매김할 수 있도록 최선을 다 하겠다”고 말했다.'\n",
      "  \"{'word': '임택', 'start_idx': 0, 'end_idx': 1, 'type': 'PER'}\"\n",
      "  \"{'word': '미로센터', 'start_idx': 82, 'end_idx': 85, 'type': 'POH'}\"]\n",
      " ['시집의 번역에는 오랫동안 한국문학에 애정을 갖고 나희덕 시인의 ‘야생사과’와 허수경 시인의 ‘허수경 시선’ 등의 작품을 번역해 온 지영실, 다니엘 토드 파커 부부가 번역을 맡았으며, 신작 시집은 추후 미국 아마존 등을 통해 판매될 예정이다.'\n",
      "  \"{'word': '허수경', 'start_idx': 43, 'end_idx': 45, 'type': 'PER'}\"\n",
      "  \"{'word': '허수경 시선', 'start_idx': 52, 'end_idx': 57, 'type': 'POH'}\"]\n",
      " ['선교사 루이스 프로이스의 『일본사』에 따르면 다카쓰키 성의 조카마치(城下町)를 이틀 밤낮에 걸쳐 모조리 불사르고 파괴하였다고 한다.'\n",
      "  \"{'word': '루이스 프로이스', 'start_idx': 4, 'end_idx': 11, 'type': 'PER'}\"\n",
      "  \"{'word': '일본사', 'start_idx': 15, 'end_idx': 17, 'type': 'POH'}\"]]\n",
      "\n",
      "\n",
      "per:spouse \n",
      "\n",
      "[['문재인 대통령 부인 김정숙 여사는 22일부터 1박2일 일정으로 광주를 방문해 경기를 관람하고 응원한다.'\n",
      "  \"{'word': '문재인', 'start_idx': 0, 'end_idx': 2, 'type': 'PER'}\"\n",
      "  \"{'word': '김정숙', 'start_idx': 11, 'end_idx': 13, 'type': 'PER'}\"]\n",
      " ['장욱조 씨는 가족들 모두 김건모 씨를 긍정적으로 생각했다며 \"특히 이선미 여사님께서 우리 딸을 정말 예뻐해 주셔서 감사하다\"라며 웃음을 잃지 않았다.'\n",
      "  \"{'word': '김건모', 'start_idx': 14, 'end_idx': 16, 'type': 'PER'}\"\n",
      "  \"{'word': '이선미', 'start_idx': 37, 'end_idx': 39, 'type': 'PER'}\"]\n",
      " [\"2004년 1월 3일, 스피어스는 네바다주 라스베이거스 '리틀 화이트 웨딩 채플'에서 어린 시절부터 친구인 제이슨 앨런 알렉산더와 결혼식을 올린다.\"\n",
      "  \"{'word': '스피어스', 'start_idx': 13, 'end_idx': 16, 'type': 'PER'}\"\n",
      "  \"{'word': '제이슨 앨런 알렉산더', 'start_idx': 60, 'end_idx': 70, 'type': 'PER'}\"]]\n",
      "\n",
      "\n",
      "per:parents \n",
      "\n",
      "[['아들 이집(李集)은 신돈(辛旽)과 대립하여 영천으로 피신하였다가 신돈(辛旽)이 주살된 후 판전교시사가 되었다.'\n",
      "  \"{'word': '李集', 'start_idx': 6, 'end_idx': 7, 'type': 'PER'}\"\n",
      "  \"{'word': '이집', 'start_idx': 3, 'end_idx': 4, 'type': 'PER'}\"]\n",
      " ['숀은 레논의 35번째 생일이었던 1975년 10월 9일 제왕 절개를 통해 출생했다.'\n",
      "  \"{'word': '숀', 'start_idx': 0, 'end_idx': 0, 'type': 'PER'}\"\n",
      "  \"{'word': '레논', 'start_idx': 3, 'end_idx': 4, 'type': 'PER'}\"]\n",
      " ['한편 신룡(神龍) 원년(705년) 측천무후의 퇴위로 당 중종이 복위하면서 당 왕조가 복벽되자 진국에 시어사(侍御史) 장행급을 보내 화친을 청했고, 진국에서도 이에 대한 화답으로 대조영의 아들을 당에 보냈다.'\n",
      "  \"{'word': '대조영', 'start_idx': 99, 'end_idx': 101, 'type': 'PER'}\"\n",
      "  \"{'word': '당', 'start_idx': 41, 'end_idx': 41, 'type': 'ORG'}\"]]\n",
      "\n",
      "\n",
      "per:children \n",
      "\n",
      "[['사건 확산과 자신이 동침한 여자와의 사이에 아이가 태어났다는 점 등 여러가지 문제로 박정희의 호출에 무릎을 꿇은 정일권은 자신은 정인숙과 사귀긴 했으나 죽이지는 않았다며 억울함을 호소했다.'\n",
      "  \"{'word': '박정희', 'start_idx': 47, 'end_idx': 49, 'type': 'PER'}\"\n",
      "  \"{'word': '정일권', 'start_idx': 63, 'end_idx': 65, 'type': 'PER'}\"]\n",
      " ['그밖에 루도비쿠스에게는 어머니가 누군지 불분명한 샤를 콘스탄틴이라는 아들이 있었다.'\n",
      "  \"{'word': '루도비쿠스', 'start_idx': 4, 'end_idx': 8, 'type': 'PER'}\"\n",
      "  \"{'word': '샤를 콘스탄틴', 'start_idx': 27, 'end_idx': 33, 'type': 'PER'}\"]\n",
      " ['그 후 다시 임신한 나가코는 1933년 12월 23일, 지금의 천황이 되는 첫째 아들 아키히토를 낳았다.'\n",
      "  \"{'word': '나가코', 'start_idx': 11, 'end_idx': 13, 'type': 'PER'}\"\n",
      "  \"{'word': '아키히토', 'start_idx': 48, 'end_idx': 51, 'type': 'PER'}\"]]\n",
      "\n",
      "\n",
      "per:siblings \n",
      "\n",
      "[['이때 하진의 피다른 동생 하묘는 하진을 죽인 것으로 오해를 받아 오광과 동탁의 동생 동민에 의해 죽임을 당했다.'\n",
      "  \"{'word': '하묘', 'start_idx': 14, 'end_idx': 15, 'type': 'PER'}\"\n",
      "  \"{'word': '동탁', 'start_idx': 40, 'end_idx': 41, 'type': 'PER'}\"]\n",
      " ['마오는 3살부터 9살까지 클래식 발레를 배웠지만, 언니 아사다 마이가 발레를 배우다 스케이팅으로 바꿔 배운 것처럼 마오도 피겨 스케이팅을 배우기 시작했다.'\n",
      "  \"{'word': '아사다 마이', 'start_idx': 31, 'end_idx': 36, 'type': 'PER'}\"\n",
      "  \"{'word': '마오', 'start_idx': 0, 'end_idx': 1, 'type': 'PER'}\"]\n",
      " ['어떤 상황에서도 “너무 좋아”라고 말하는 무한 긍정남 강하늘과 셰프 못지 않은 요리 실력을 겸비한 안재홍, 그리고 허당미와 끼가 동시에 넘치는 막내 옹성우의 모습은 예고만으로도 기대감을 더하고 있다.'\n",
      "  \"{'word': '안재홍', 'start_idx': 55, 'end_idx': 57, 'type': 'PER'}\"\n",
      "  \"{'word': '강하늘', 'start_idx': 30, 'end_idx': 32, 'type': 'PER'}\"]]\n",
      "\n",
      "\n",
      "org:founded \n",
      "\n",
      "[[\"1924년 김성수, 송진우 등의 주도로 자치화 운동을 목적으로 한 단체 '연정회(硏政會)' 설립을 추진하였는데, 이는 소위 '민족개량주의' 혹은 '실력양성론'이라는 미명하에 일제 조선총독부의 '문화정치'에 발맞춰 일제와의 타협 속에 추진된 것으로, 비타협 민족세력의 반발로 중단되고 말았다.\"\n",
      "  \"{'word': '연정회', 'start_idx': 41, 'end_idx': 43, 'type': 'ORG'}\"\n",
      "  \"{'word': '1924년', 'start_idx': 0, 'end_idx': 4, 'type': 'DAT'}\"]\n",
      " ['1935년 이탈리아 국립영화연구소는 베니토 무솔리니의 아래에 있었던 루이지 프레디(Luigi Freddi)가 설립되었으며, 이탈리아 정부에 의해 운영되고 있으며 교육, 연구, 출판 및 이론에 중점을 두고있다.'\n",
      "  \"{'word': '이탈리아 국립영화연구소', 'start_idx': 6, 'end_idx': 17, 'type': 'ORG'}\"\n",
      "  \"{'word': '1935년', 'start_idx': 0, 'end_idx': 4, 'type': 'DAT'}\"]\n",
      " ['GKL사회공헌재단은 GKL(그랜드코리아레저)가 출자해 2014년 설립한 비영리 재단으로 관광소외계층 대상 맞춤형 여행 지원, 외국인유학생 한국문화탐방활동 지원, 베트남·미얀마 농촌경제 자립지원 등 국내·외에서 관광, 문화, 교육 분야에 걸쳐 활발한 사회공헌활동을 하고 있다.'\n",
      "  \"{'word': 'GKL사회공헌재단', 'start_idx': 0, 'end_idx': 8, 'type': 'ORG'}\"\n",
      "  \"{'word': '2014년', 'start_idx': 30, 'end_idx': 34, 'type': 'DAT'}\"]]\n",
      "\n",
      "\n",
      "per:date_of_death \n",
      "\n",
      "[['무령왕의 왕위를 계승한 성왕(재위 523 ~ 554년)도 일본과의 우호관계를 이어갔다.'\n",
      "  \"{'word': '무령왕', 'start_idx': 0, 'end_idx': 2, 'type': 'PER'}\"\n",
      "  \"{'word': '554년', 'start_idx': 25, 'end_idx': 28, 'type': 'DAT'}\"]\n",
      " ['최진실의 49재에는 최진영을 비롯한 유족들과 연예계 동료들 및 소속사 대표 등이 참석하였다.'\n",
      "  \"{'word': '최진실', 'start_idx': 0, 'end_idx': 2, 'type': 'PER'}\"\n",
      "  \"{'word': '49재', 'start_idx': 5, 'end_idx': 7, 'type': 'POH'}\"]\n",
      " ['1984년 10월 31일 어머니인 인디라 간디가 시크 교도에게 피살되자 어머니를 뒤이어 총리가 되었고 이와 함께 외무·국방·상무·공업 기업·과학 기술·원자력 등 여러 정부 부처의 각 요직을 겸임하였다.'\n",
      "  \"{'word': '인디라 간디', 'start_idx': 19, 'end_idx': 24, 'type': 'PER'}\"\n",
      "  \"{'word': '1984년 10월 31일', 'start_idx': 0, 'end_idx': 12, 'type': 'DAT'}\"]]\n",
      "\n",
      "\n",
      "per:other_family \n",
      "\n",
      "[['드로공의 통치 기간 내내, 그는 숙부인 블루아 백작 티보 1세 (그는 돌의 대주교 비코엔과 렌 백작 지디카엘 베렝가르에게 공작령의 관리를 맡겼다)과 양아버지 앙주 백작 풀크 2세의 섭정 통치라는 그림자에 있었다.'\n",
      "  \"{'word': '렌', 'start_idx': 51, 'end_idx': 51, 'type': 'PER'}\"\n",
      "  \"{'word': '앙주', 'start_idx': 88, 'end_idx': 89, 'type': 'LOC'}\"]\n",
      " ['노산대군은 세종의 적장손이고 문종의 적장자이니 옳고, 세조는 세종대왕의 차남으로 왕통을 이었으니 옳다는 것이었다.'\n",
      "  \"{'word': '세조', 'start_idx': 30, 'end_idx': 31, 'type': 'PER'}\"\n",
      "  \"{'word': '문종', 'start_idx': 16, 'end_idx': 17, 'type': 'PER'}\"]\n",
      " ['제임스 2세의 또 다른 손자, 헨리 베네딕트 스튜어트(헨리 9세&1세)는 그의 합법적인 후손들 중 마지막 자손이었지만 1807년에 죽었고, 이후 자코바이트는 찰스 1세의 딸 잉글랜드 왕녀 헨리에타의 자손을 후계자로 정하였지만 카를로 에마누엘레 4세(찰스 4세 이매뉴얼)부터는 지지자를 갖는 것을 중단했다.'\n",
      "  \"{'word': '제임스 2세', 'start_idx': 0, 'end_idx': 5, 'type': 'PER'}\"\n",
      "  \"{'word': '헨리 베네딕트 스튜어트', 'start_idx': 17, 'end_idx': 28, 'type': 'PER'}\"]]\n",
      "\n",
      "\n",
      "org:number_of_employees/members \n",
      "\n",
      "[['한편 한국생활개선장흥군연합회는 1958년 조직되어 현재 245명이 할동하고 있으며 지역사회발전 및 사회봉사 활동 참여, 여성농업전문인으로서의 농업기술 및 경영능력배양, 농업농촌 알리기를 위한 도농 생활문화 교류 등 다양한 활동을 펼치고 있는 농촌여성 학습단체이다.'\n",
      "  \"{'word': '한국생활개선장흥군연합회', 'start_idx': 3, 'end_idx': 14, 'type': 'ORG'}\"\n",
      "  \"{'word': '245명', 'start_idx': 31, 'end_idx': 34, 'type': 'NOH'}\"]\n",
      " ['광주학생독립운동이 터지게 되는 1929년의 연초에는 신간회의 지회가 144개, 회원은 3만9천여 명에 달해 각 지역의 청년, 노동, 농민운동을 지도해 갔다.'\n",
      "  \"{'word': '신간회', 'start_idx': 29, 'end_idx': 31, 'type': 'ORG'}\"\n",
      "  \"{'word': '회원', 'start_idx': 44, 'end_idx': 45, 'type': 'POH'}\"]\n",
      " ['해운대구는 현재 페이스북 팔로워가 6만여 명으로, 전국 자치구 중 가장 많다.'\n",
      "  \"{'word': '페이스북', 'start_idx': 9, 'end_idx': 12, 'type': 'ORG'}\"\n",
      "  \"{'word': '팔로워', 'start_idx': 14, 'end_idx': 16, 'type': 'POH'}\"]]\n",
      "\n",
      "\n",
      "per:place_of_birth \n",
      "\n",
      "[['와일드는 1854년 아일랜드 더블린의 웨스트랜드 로 21가에서 앵글로계 아일랜드인 가정에서 태어났다.'\n",
      "  \"{'word': '와일드', 'start_idx': 0, 'end_idx': 2, 'type': 'PER'}\"\n",
      "  \"{'word': '아일랜드 더블린', 'start_idx': 11, 'end_idx': 18, 'type': 'LOC'}\"]\n",
      " ['스티비 레이 본(Stevie Ray Vaughan, 1954년 10월 3일 ~ 1990년 8월 27일)은 텍사스주 댈러스에서 태어난 블루스의 적자이다.'\n",
      "  \"{'word': '스티비 레이 본', 'start_idx': 0, 'end_idx': 7, 'type': 'PER'}\"\n",
      "  \"{'word': '댈러스', 'start_idx': 64, 'end_idx': 66, 'type': 'LOC'}\"]\n",
      " ['정종순 장흥군수는 “장흥군과 부천시가 대한민국 독립운동의 상징인 안중근 의사를 중심으로 다양한 분야에서 상호 협력관계를 구축하길 바란다”며 “이번 만남을 통해 실무 교류를 확대하고 관계가 발전하도록 노력겠다”고 말했다.'\n",
      "  \"{'word': '안중근', 'start_idx': 36, 'end_idx': 38, 'type': 'PER'}\"\n",
      "  \"{'word': '대한민국', 'start_idx': 21, 'end_idx': 24, 'type': 'LOC'}\"]]\n",
      "\n",
      "\n",
      "org:political/religious_affiliation \n",
      "\n",
      "[['그 후 불교는 마가다 왕국을 근거지로 여러 도시의 왕과 제후 그리고 일반 서민의 귀의를 얻으며 각지로 전파되어 갔다.'\n",
      "  \"{'word': '마가다 왕국', 'start_idx': 8, 'end_idx': 13, 'type': 'ORG'}\"\n",
      "  \"{'word': '불교', 'start_idx': 4, 'end_idx': 5, 'type': 'ORG'}\"]\n",
      " ['메디치 가문은 가톨릭 교회에서도 영향력을 끼쳐 16세기 유명한 두 명의 교황들(레오 10세, 클레멘스 7세)을 배출하였다.'\n",
      "  \"{'word': '메디치 가문', 'start_idx': 0, 'end_idx': 5, 'type': 'ORG'}\"\n",
      "  \"{'word': '가톨릭', 'start_idx': 8, 'end_idx': 10, 'type': 'ORG'}\"]\n",
      " ['기독교의 성인. 로마 가톨릭에서 축일은 12월 26일이며, 동방 정교회에서 축일은 12월 27일이다.'\n",
      "  \"{'word': '로마 가톨릭', 'start_idx': 9, 'end_idx': 14, 'type': 'ORG'}\"\n",
      "  \"{'word': '기독교', 'start_idx': 0, 'end_idx': 2, 'type': 'ORG'}\"]]\n",
      "\n",
      "\n",
      "per:date_of_birth \n",
      "\n",
      "[['예일 대학 교수 데이비드 비드니 (1908년 - 1987년)는 이것에 반대하고 있다.'\n",
      "  \"{'word': '데이비드 비드니', 'start_idx': 9, 'end_idx': 16, 'type': 'PER'}\"\n",
      "  \"{'word': '1908년', 'start_idx': 19, 'end_idx': 23, 'type': 'DAT'}\"]\n",
      " ['김복진(金復鎭, 1901년 11월 3일 (1901년 음력 9월 23일)(1901년 음력 9월 23일) - 1940년 8월 18일)은 일제 강점기의 조각가이며, 사회주의 계파의 진보 성향 문예운동을 이끈 지도자였다.'\n",
      "  \"{'word': '김복진', 'start_idx': 0, 'end_idx': 2, 'type': 'PER'}\"\n",
      "  \"{'word': '1901년 음력 9월 23일', 'start_idx': 23, 'end_idx': 37, 'type': 'DAT'}\"]\n",
      " ['1624년 고미즈노오 천황의 제2황녀로 태어났다.'\n",
      "  \"{'word': '고미즈노오', 'start_idx': 6, 'end_idx': 10, 'type': 'PER'}\"\n",
      "  \"{'word': '1624년', 'start_idx': 0, 'end_idx': 4, 'type': 'DAT'}\"]]\n",
      "\n",
      "\n",
      "per:place_of_death \n",
      "\n",
      "[[\"한중 공방전에서, 하후연이 정군산에서 전사하여 '정군 남쪽에서 넓적다리 하나를 잃으리라'는 점괘가 들어맞았다.\"\n",
      "  \"{'word': '하후연', 'start_idx': 10, 'end_idx': 12, 'type': 'PER'}\"\n",
      "  \"{'word': '정군산', 'start_idx': 15, 'end_idx': 17, 'type': 'LOC'}\"]\n",
      " [\"상하이에서 암살 사건이 일어난 것은 김옥균을 '친일'로 간주했던 청이 그의 암살을 도운 결과였다.\"\n",
      "  \"{'word': '김옥균', 'start_idx': 20, 'end_idx': 22, 'type': 'PER'}\"\n",
      "  \"{'word': '상하이', 'start_idx': 0, 'end_idx': 2, 'type': 'LOC'}\"]\n",
      " ['7월 1일 다리우스 3세가 박트리아에서 베수스에게 암살되었다.'\n",
      "  \"{'word': '다리우스 3세', 'start_idx': 6, 'end_idx': 12, 'type': 'PER'}\"\n",
      "  \"{'word': '박트리아', 'start_idx': 15, 'end_idx': 18, 'type': 'LOC'}\"]]\n",
      "\n",
      "\n",
      "per:schools_attended \n",
      "\n",
      "[['밋 롬니는 스탠포드 대학교에 들어갔다가 도중에 프랑스에서 모르몬 선교사로 일했고, 미국으로 돌아온 후, 브리검영 대학교를 영문학 전공으로 최우수 졸업하였다.'\n",
      "  \"{'word': '밋 롬니', 'start_idx': 0, 'end_idx': 3, 'type': 'PER'}\"\n",
      "  \"{'word': '브리검영 대학교', 'start_idx': 58, 'end_idx': 65, 'type': 'ORG'}\"]\n",
      " ['한편 최경환 의원은 전남 장성 출신으로 광주상고와 성균관대를 졸업하고 김대중 대통령 마지막비서관을 지냈다.'\n",
      "  \"{'word': '최경환', 'start_idx': 3, 'end_idx': 5, 'type': 'PER'}\"\n",
      "  \"{'word': '성균관대', 'start_idx': 28, 'end_idx': 31, 'type': 'ORG'}\"]\n",
      " ['2015년, 벅은 하버드 대학교의 명예 박사 학위를 수여받았으며, 왕립학회 외국인 회원으로 선출되었다.'\n",
      "  \"{'word': '벅', 'start_idx': 7, 'end_idx': 7, 'type': 'PER'}\"\n",
      "  \"{'word': '하버드 대학교', 'start_idx': 10, 'end_idx': 16, 'type': 'ORG'}\"]]\n",
      "\n",
      "\n",
      "per:religion \n",
      "\n",
      "[['지난 3.1절 여운형 선생 등 54명의 사회주의 계열 독립투사 서훈에 이어 주요한 사회주의 활동가들에 대해 재조명해 뒤늦게 서훈이 추서되었다.'\n",
      "  \"{'word': '여운형', 'start_idx': 8, 'end_idx': 10, 'type': 'PER'}\"\n",
      "  \"{'word': '사회주의', 'start_idx': 22, 'end_idx': 25, 'type': 'POH'}\"]\n",
      " ['모리뉴의 종교는 가톨릭이며, 그는 포르투갈어, 스페인어, 이탈리아어, 프랑스어, 영어를 구사할 수 있다.'\n",
      "  \"{'word': '모리뉴', 'start_idx': 0, 'end_idx': 2, 'type': 'PER'}\"\n",
      "  \"{'word': '가톨릭', 'start_idx': 9, 'end_idx': 11, 'type': 'ORG'}\"]\n",
      " ['국자감에는 공자를 위시한 유교 성현들을 제사 지내기 위한 장소인 문묘와 학생들에게 강의를 하기 위한 학당이 별도로 있었다는 것이다.'\n",
      "  \"{'word': '공자', 'start_idx': 6, 'end_idx': 7, 'type': 'PER'}\"\n",
      "  \"{'word': '유교', 'start_idx': 14, 'end_idx': 15, 'type': 'POH'}\"]]\n",
      "\n",
      "\n",
      "org:dissolved \n",
      "\n",
      "[['그러나 1993년 김영삼 정권 출범 직후 안기부를 대대적으로 숙청하면서 미림팀은 폐지되었다.'\n",
      "  \"{'word': '미림팀', 'start_idx': 40, 'end_idx': 42, 'type': 'ORG'}\"\n",
      "  \"{'word': '1993년', 'start_idx': 4, 'end_idx': 8, 'type': 'DAT'}\"]\n",
      " ['특히 7년간 우쿠야를 운영해 온 제주화북점은 계속되는 노력에도 매출이 오르지 않아 폐업을 고민하던 지난 10월, 프라자 매장으로 전환해 일 평균 매출이 3배 가까이 반등하며 사업의 새로운 전환기를 맞이했다.'\n",
      "  \"{'word': '제주화북점', 'start_idx': 18, 'end_idx': 22, 'type': 'ORG'}\"\n",
      "  \"{'word': '10월', 'start_idx': 58, 'end_idx': 60, 'type': 'DAT'}\"]\n",
      " ['Sunday 2PM은 이후 CMYK라는 이름으로 재편되었으며, Deffinite은 2011년 10월에 Blockbuster Records 해체된 후, Factory BOi Production의 소속으로 활동을 하고 있다.'\n",
      "  \"{'word': 'Blockbuster Records', 'start_idx': 57, 'end_idx': 75, 'type': 'ORG'}\"\n",
      "  \"{'word': '2011년 10월', 'start_idx': 46, 'end_idx': 54, 'type': 'DAT'}\"]]\n",
      "\n",
      "\n",
      "org:founded_by \n",
      "\n",
      "[['다크홈은 머슬 바운드 프로덕션(Muscle Bound Production)을 설립하여, 스스로 감독으로서 《라커룸의 제왕》(The Lords of the Lockroom), 《하우스 오브 디텐션》(House of Detention)는 작품을 찍고 계속 활동을 하였다.'\n",
      "  \"{'word': 'Muscle Bound Production', 'start_idx': 17, 'end_idx': 39, 'type': 'ORG'}\"\n",
      "  \"{'word': '다크홈', 'start_idx': 0, 'end_idx': 2, 'type': 'PER'}\"]\n",
      " ['학교 설립에 필요한 재원으로는 이승만이 설립 운영하였던 한인기독학원(Korea Christian Institute)을 처분한 대금과, 하와이 교포들의 성금, 그리고 한국 거주민들의 성금 및 국고 보조 등을 기금으로 하고, 인천시로부터 교지를 기증받아 1954년 2월 ‘재단법인 인하학원’의 설립이 이루어짐으로써 금속, 기계, 광산, 전기, 조선, 화학공학 등 6개 학과가 설치되고, 1954년 4월 24일 인하공과대학으로 개교를 하였다.'\n",
      "  \"{'word': '한인기독학원', 'start_idx': 31, 'end_idx': 36, 'type': 'ORG'}\"\n",
      "  \"{'word': '이승만', 'start_idx': 17, 'end_idx': 19, 'type': 'PER'}\"]\n",
      " ['성 도미니코(1170년 8월 8일 - 1221년 8월 6일)는 스페인의 그리스도교 성직자이자 도미니코회의 창설자이다.'\n",
      "  \"{'word': '도미니코회', 'start_idx': 52, 'end_idx': 56, 'type': 'ORG'}\"\n",
      "  \"{'word': '성 도미니코', 'start_idx': 0, 'end_idx': 5, 'type': 'PER'}\"]]\n",
      "\n",
      "\n"
     ]
    }
   ],
   "source": [
    "for label in test_labels:\n",
    "    print(label, '\\n')\n",
    "    print(test[['sentence', 'subject_entity', 'object_entity']][submission.pred_label==label].head(3).values)\n",
    "    print('\\n')"
   ]
  },
  {
   "cell_type": "code",
   "execution_count": 223,
   "id": "7d68650d-c51f-486d-acea-5e30f5f29430",
   "metadata": {},
   "outputs": [
    {
     "data": {
      "text/plain": [
       "array([['다크홈은 머슬 바운드 프로덕션(Muscle Bound Production)을 설립하여, 스스로 감독으로서 《라커룸의 제왕》(The Lords of the Lockroom), 《하우스 오브 디텐션》(House of Detention)는 작품을 찍고 계속 활동을 하였다.',\n",
       "        \"{'word': 'Muscle Bound Production', 'start_idx': 17, 'end_idx': 39, 'type': 'ORG'}\",\n",
       "        \"{'word': '다크홈', 'start_idx': 0, 'end_idx': 2, 'type': 'PER'}\"],\n",
       "       ['학교 설립에 필요한 재원으로는 이승만이 설립 운영하였던 한인기독학원(Korea Christian Institute)을 처분한 대금과, 하와이 교포들의 성금, 그리고 한국 거주민들의 성금 및 국고 보조 등을 기금으로 하고, 인천시로부터 교지를 기증받아 1954년 2월 ‘재단법인 인하학원’의 설립이 이루어짐으로써 금속, 기계, 광산, 전기, 조선, 화학공학 등 6개 학과가 설치되고, 1954년 4월 24일 인하공과대학으로 개교를 하였다.',\n",
       "        \"{'word': '한인기독학원', 'start_idx': 31, 'end_idx': 36, 'type': 'ORG'}\",\n",
       "        \"{'word': '이승만', 'start_idx': 17, 'end_idx': 19, 'type': 'PER'}\"],\n",
       "       ['성 도미니코(1170년 8월 8일 - 1221년 8월 6일)는 스페인의 그리스도교 성직자이자 도미니코회의 창설자이다.',\n",
       "        \"{'word': '도미니코회', 'start_idx': 52, 'end_idx': 56, 'type': 'ORG'}\",\n",
       "        \"{'word': '성 도미니코', 'start_idx': 0, 'end_idx': 5, 'type': 'PER'}\"],\n",
       "       ['밀양 동화학교 수학 중 일제에 의해 학교가 폐교되자 서울중앙학교에서 수학중 1919년 3.1 독립만세운동에 가담하였으며 이후 조국의 독립을 위해 중국으로 망명하여, 우당 이회영이 중국 길림성에 설립한 신흥무관 학교에서 수학했다.',\n",
       "        \"{'word': '신흥무관 학교', 'start_idx': 112, 'end_idx': 118, 'type': 'ORG'}\",\n",
       "        \"{'word': '이회영', 'start_idx': 95, 'end_idx': 97, 'type': 'PER'}\"],\n",
       "       ['2012년 5월, 함께 일해왔던 남편과 이혼하고 (주) 센슈 기획과의 업무 제휴가 종료되면서, 김연자가 직접 대표가 되어 일본에 새 회사(YJKcompany)를 설립하였다.',\n",
       "        \"{'word': 'YJKcompany', 'start_idx': 77, 'end_idx': 86, 'type': 'ORG'}\",\n",
       "        \"{'word': '김연자', 'start_idx': 53, 'end_idx': 55, 'type': 'PER'}\"],\n",
       "       ['고(故) 김수연 선생은 학성강당을 설립하고 70여년의 세월 동안 1만여명의 제자를 배출⋅육성했으며 이러한 공로로 2003년 KBS 전북의 어른상, 2005년 국무총리상, 2013년 국민훈장 석류장 등을 수상했다.',\n",
       "        \"{'word': '학성강당', 'start_idx': 13, 'end_idx': 16, 'type': 'ORG'}\",\n",
       "        \"{'word': '김수연', 'start_idx': 5, 'end_idx': 7, 'type': 'PER'}\"],\n",
       "       ['졸업 후 박흥식이 만든 조선비행기공업주식회사에 기술자로 취직하여 중국 봉천(현재의 심양)에서 제품을 검사하는 일을 하다가 광복을 맞이 하였다.',\n",
       "        \"{'word': '조선비행기공업주식회사', 'start_idx': 13, 'end_idx': 23, 'type': 'ORG'}\",\n",
       "        \"{'word': '박흥식', 'start_idx': 5, 'end_idx': 7, 'type': 'PER'}\"],\n",
       "       ['미주리주 세인트루이스에서 짧은 시간 동안 법률을 실천한 후, 브랜다이스는 보스턴에서 변호사가 되어 자신의 하버드 로스쿨 동창 새뮤얼 D. 워런과 함께 \"너터, 매클레넌 앤드 피쉬\" (Nutter, McClennen and Fish)로 불린 보스턴의 현저한 로펌을 창립하였다.',\n",
       "        \"{'word': '너터, 매클레넌 앤드 피쉬', 'start_idx': 85, 'end_idx': 98, 'type': 'ORG'}\",\n",
       "        \"{'word': '브랜다이스', 'start_idx': 34, 'end_idx': 38, 'type': 'PER'}\"]],\n",
       "      dtype=object)"
      ]
     },
     "execution_count": 223,
     "metadata": {},
     "output_type": "execute_result"
    }
   ],
   "source": [
    "test[['sentence', 'subject_entity', 'object_entity']][submission.pred_label=='org:founded_by'].values"
   ]
  },
  {
   "cell_type": "code",
   "execution_count": 224,
   "id": "489ae0d1-0af5-430e-b811-feee239e9e66",
   "metadata": {},
   "outputs": [],
   "source": [
    "import re"
   ]
  },
  {
   "cell_type": "code",
   "execution_count": 285,
   "id": "fc087b00-d1dc-4c94-9482-a3066180d9ca",
   "metadata": {
    "tags": []
   },
   "outputs": [
    {
     "name": "stdout",
     "output_type": "stream",
     "text": [
      "{'〈': 185, '〉': 191, ' ': 637757, '《': 934, '》': 926, '.': 36210, '·': 2943, '(': 19211, ')': 19190, '‘': 2190, '’': 2189, ':': 673, ',': 37642, '~': 3159, \"'\": 6148, '-': 3025, '“': 1988, '”': 1964, '\"': 5408, '㈜': 209, '‧': 139, '↔': 2, '▲': 242, '%': 981, '/': 245, '&': 219, '!': 134, '–': 86, ';': 60, '=': 15, '→': 21, '€': 29, '△': 203, '*': 15, '｢': 10, '｣': 10, '★': 3, '>': 2, '․': 110, '「': 98, '」': 98, '・': 36, 'Ⓐ': 6, '•': 8, '☎': 24, '[': 349, ']': 344, '㎞': 8, '☆': 2, '`': 35, '※': 4, '|': 36, '『': 28, '』': 28, '。': 2, '˘': 2, '，': 4, '＇': 1, '∼': 34, '㎡': 12, '́': 2, '：': 6, '⸱': 3, '∞': 3, '♥': 5, '･': 11, '⋅': 2, '⟪': 7, '⟫': 7, '～': 4, '£': 7, '{': 3, '}': 3, '°': 2, '˹': 2, '˼': 2, '▴': 3, '℃': 2, '㎏': 2, '（': 3, '）': 2, '∙': 12, '♡': 2, '$': 8, '㎖': 1, '≪': 3, '≫': 3, '□': 1, '·': 1, '\\u200e': 2, '☏': 2, '⁺': 1, '®': 3, '、': 1, '？': 1, '―': 3, '○': 5, '／': 3, '़': 2, 'ी': 4, 'ु': 4, '्': 4, 'ा': 2, '㈔': 1, '▵': 9, '«': 2, '»': 2, '×': 5, '—': 8, '％': 4, '′': 2, '₫': 1, '<': 1, '㎜': 1, '\\uf09e': 1, '㎿': 1, '⌜': 1, '⌟': 1}\n",
      "118\n"
     ]
    }
   ],
   "source": [
    "spec_dict = {}\n",
    "\n",
    "\n",
    "for sen in df.sentence[:]:\n",
    "    spec = re.findall(r\"\\W\", sen)\n",
    "    #print(*spec, sep=\"\")\n",
    "    spec_list = re.findall(r\"[^가-힣]\", \"\".join(spec))\n",
    "    for c in spec_list:\n",
    "        if c in spec_dict:\n",
    "            spec_dict[c] += 1\n",
    "        else:\n",
    "            spec_dict[c] = 1\n",
    "\n",
    "print(spec_dict)\n",
    "print(len(spec_dict))"
   ]
  },
  {
   "cell_type": "code",
   "execution_count": 539,
   "id": "13cf42a4-62f9-4aa3-b5e6-10b9eb988043",
   "metadata": {
    "tags": []
   },
   "outputs": [
    {
     "name": "stdout",
     "output_type": "stream",
     "text": [
      "118\n",
      "98\n",
      "[637757, 37642, 36210, 19211, 19190, 6148, 5408, 3159, 3025, 2943, 2190, 2189, 1988, 1964, 981, 934, 926, 673, 349, 344, 245, 242, 219, 209, 203, 191, 185, 139, 134, 110, 98, 98, 86, 60, 36, 36, 35, 34, 29, 28, 28, 24, 21, 15, 15, 12, 12, 11, 10, 10, 9, 8, 8, 8, 8, 7, 7, 7, 6, 6, 5, 5, 5, 4, 4, 4, 4, 4, 4, 4, 3, 3, 3, 3, 3, 3, 3, 3, 3, 3, 3, 3, 2, 2, 2, 2, 2, 2, 2, 2, 2, 2, 2, 2, 2, 2, 2, 2, 2, 2, 2, 2, 2, 1, 1, 1, 1, 1, 1, 1, 1, 1, 1, 1, 1, 1, 1, 1]\n",
      "Index(['↔', '=', '→', '€', '*', '｢', '｣', '★', '>', '・', 'Ⓐ', '•', '☎', '㎞',\n",
      "       '☆', '`', '※', '|', '『', '』', '。', '˘', '，', '＇', '∼', '㎡', '́', '：',\n",
      "       '⸱', '∞', '♥', '･', '⋅', '⟪', '⟫', '～', '£', '{', '}', '°', '˹', '˼',\n",
      "       '▴', '℃', '㎏', '（', '）', '∙', '♡', '$', '㎖', '≪', '≫', '□', '·', '‎',\n",
      "       '☏', '⁺', '®', '、', '？', '―', '○', '／', '़', 'ी', 'ु', '्', 'ा', '㈔',\n",
      "       '▵', '«', '»', '×', '—', '％', '′', '₫', '<', '㎜', '', '㎿', '⌜', '⌟'],\n",
      "      dtype='object')\n"
     ]
    }
   ],
   "source": [
    "spec_df = pd.Series(spec_dict)\n",
    "print(len(spec_df))\n",
    "print(sum(spec_df<250))\n",
    "print(sorted(spec_dict.values(), reverse=1))\n",
    "print(spec_df.index[spec_df<50])"
   ]
  },
  {
   "cell_type": "code",
   "execution_count": 549,
   "id": "a04ef7b9-0d85-4f70-ae9f-ab11d4d7a6a6",
   "metadata": {},
   "outputs": [
    {
     "data": {
      "text/plain": [
       "↔     2\n",
       "=    15\n",
       "→    21\n",
       "€    29\n",
       "*    15\n",
       "｢    10\n",
       "｣    10\n",
       "★     3\n",
       ">     2\n",
       "・    36\n",
       "Ⓐ     6\n",
       "•     8\n",
       "☎    24\n",
       "㎞     8\n",
       "☆     2\n",
       "`    35\n",
       "※     4\n",
       "|    36\n",
       "『    28\n",
       "』    28\n",
       "dtype: int64"
      ]
     },
     "execution_count": 549,
     "metadata": {},
     "output_type": "execute_result"
    }
   ],
   "source": [
    "spec_df[spec_df<50].head(20)"
   ]
  },
  {
   "cell_type": "code",
   "execution_count": 522,
   "id": "7c8665a8-5311-463a-a2df-fa6607953970",
   "metadata": {},
   "outputs": [
    {
     "data": {
      "text/plain": [
       "<function matplotlib.pyplot.show(close=None, block=None)>"
      ]
     },
     "execution_count": 522,
     "metadata": {},
     "output_type": "execute_result"
    },
    {
     "data": {
      "image/png": "[encoded data removed]",
      "text/plain": [
       "<Figure size 720x3600 with 1 Axes>"
      ]
     },
     "metadata": {
      "needs_background": "light"
     },
     "output_type": "display_data"
    }
   ],
   "source": [
    "plt.figure(figsize=(10,50))\n",
    "plt.barh(list(spec_dict.keys()), spec_dict.values())\n",
    "plt.xlim(0, 250)\n",
    "plt.show"
   ]
  },
  {
   "cell_type": "code",
   "execution_count": 560,
   "id": "9edaeeed-f714-4cf8-9af1-945895c6b460",
   "metadata": {},
   "outputs": [
    {
     "name": "stdout",
     "output_type": "stream",
     "text": [
      "0\n"
     ]
    }
   ],
   "source": [
    "cnt = 0\n",
    "for sen in df.sentence:\n",
    "    cnt += sen.count(\"#\")\n",
    "\n",
    "print(cnt)"
   ]
  },
  {
   "cell_type": "code",
   "execution_count": 306,
   "id": "bb4fbede-3cb2-4da1-9436-97d85025928e",
   "metadata": {},
   "outputs": [
    {
     "name": "stdout",
     "output_type": "stream",
     "text": [
      "{59: 326, 54: 297, 99: 269, 78: 373, 56: 299, 115: 202, 106: 244, 151: 95, 138: 115, 43: 204, 96: 274, 224: 21, 97: 289, 133: 145, 124: 176, 176: 53, 64: 367, 74: 377, 102: 253, 60: 354, 134: 135, 101: 281, 117: 206, 66: 324, 149: 95, 85: 325, 80: 347, 40: 154, 75: 324, 98: 294, 244: 13, 49: 293, 100: 292, 110: 224, 127: 168, 55: 311, 39: 161, 81: 333, 144: 95, 93: 336, 198: 31, 76: 368, 259: 9, 84: 322, 135: 129, 44: 214, 104: 258, 67: 369, 200: 29, 52: 263, 146: 92, 62: 391, 147: 99, 41: 216, 88: 315, 105: 257, 156: 79, 177: 38, 71: 354, 82: 359, 118: 205, 154: 94, 68: 367, 148: 82, 77: 367, 103: 266, 111: 246, 128: 150, 35: 120, 131: 137, 72: 363, 63: 328, 91: 302, 90: 264, 191: 31, 120: 167, 28: 24, 140: 118, 139: 103, 123: 174, 92: 311, 89: 321, 199: 32, 45: 220, 173: 52, 69: 395, 136: 124, 95: 306, 150: 96, 205: 16, 83: 340, 53: 293, 108: 254, 165: 68, 30: 66, 79: 413, 48: 269, 113: 212, 34: 97, 73: 340, 130: 143, 178: 44, 57: 315, 230: 10, 143: 99, 107: 195, 142: 100, 50: 251, 46: 223, 116: 169, 87: 307, 155: 73, 58: 330, 112: 195, 345: 4, 256: 9, 47: 269, 38: 171, 119: 194, 65: 349, 129: 140, 141: 99, 94: 301, 184: 46, 29: 45, 166: 61, 86: 360, 70: 366, 317: 5, 234: 16, 122: 163, 42: 195, 23: 7, 27: 32, 51: 288, 126: 175, 152: 83, 181: 40, 167: 51, 153: 87, 325: 1, 14: 3, 158: 59, 26: 27, 125: 166, 168: 70, 37: 144, 186: 30, 185: 43, 183: 57, 164: 55, 61: 322, 190: 39, 225: 17, 109: 233, 159: 86, 137: 125, 121: 173, 114: 183, 180: 35, 227: 15, 301: 5, 36: 116, 132: 161, 228: 13, 172: 49, 194: 21, 182: 46, 210: 23, 201: 43, 187: 27, 241: 10, 174: 43, 272: 5, 287: 2, 33: 85, 145: 103, 169: 51, 32: 80, 161: 70, 206: 30, 189: 43, 188: 44, 196: 22, 162: 77, 304: 7, 163: 72, 247: 14, 197: 27, 195: 31, 229: 22, 160: 66, 265: 8, 315: 3, 246: 7, 219: 23, 217: 24, 308: 4, 31: 69, 215: 23, 214: 16, 212: 15, 204: 16, 17: 1, 179: 51, 269: 5, 233: 12, 243: 9, 203: 29, 260: 10, 274: 8, 157: 76, 171: 45, 267: 9, 251: 3, 239: 10, 252: 9, 192: 28, 237: 25, 213: 26, 441: 1, 209: 19, 332: 2, 355: 3, 170: 52, 193: 27, 378: 5, 261: 6, 18: 6, 221: 17, 255: 8, 292: 5, 360: 2, 175: 49, 339: 3, 248: 9, 387: 1, 262: 8, 202: 18, 271: 4, 323: 2, 266: 9, 25: 28, 294: 10, 290: 2, 277: 5, 218: 15, 278: 11, 242: 18, 240: 18, 207: 23, 226: 9, 407: 1, 270: 10, 309: 3, 357: 3, 208: 16, 276: 3, 222: 16, 253: 6, 250: 5, 235: 14, 216: 23, 249: 11, 236: 12, 21: 11, 373: 2, 327: 1, 307: 2, 232: 8, 331: 2, 223: 15, 333: 3, 316: 2, 264: 5, 293: 2, 211: 18, 24: 17, 352: 1, 311: 5, 258: 4, 312: 1, 343: 4, 288: 3, 371: 1, 275: 4, 366: 2, 273: 8, 238: 11, 286: 8, 344: 3, 254: 7, 299: 6, 220: 13, 245: 3, 372: 2, 364: 1, 320: 1, 22: 6, 283: 4, 302: 1, 285: 2, 322: 1, 281: 1, 19: 3, 386: 1, 263: 9, 384: 3, 419: 1, 310: 1, 257: 8, 453: 1, 363: 1, 379: 1, 353: 2, 356: 4, 319: 1, 306: 3, 429: 1, 280: 4, 330: 4, 291: 3, 416: 2, 231: 8, 15: 1, 447: 1, 313: 2, 284: 2, 337: 5, 296: 3, 303: 1, 300: 4, 385: 2, 370: 1, 268: 3, 347: 3, 340: 2, 318: 3, 374: 3, 341: 3, 346: 1, 279: 1, 377: 1, 435: 1, 282: 2, 328: 2, 376: 2, 298: 3, 455: 1, 321: 1, 326: 1, 350: 1, 383: 1, 329: 2, 418: 1, 404: 1, 305: 1, 389: 1, 295: 1, 354: 1, 361: 1}\n",
      "max_len = 455\n"
     ]
    }
   ],
   "source": [
    "slen_dict = {}\n",
    "\n",
    "for sen in df.sentence:\n",
    "    sen_len = len(sen)\n",
    "    if sen_len in slen_dict:\n",
    "        slen_dict[sen_len] += 1\n",
    "    else:\n",
    "        slen_dict[sen_len] = 1\n",
    "        \n",
    "print(slen_dict)\n",
    "print('max_len =', max(*slen_dict.keys()))"
   ]
  },
  {
   "cell_type": "code",
   "execution_count": 427,
   "id": "acae8788-5e57-463a-8801-f232b41b073a",
   "metadata": {},
   "outputs": [
    {
     "data": {
      "image/png": "[encoded data removed]",
      "text/plain": [
       "<Figure size 720x720 with 1 Axes>"
      ]
     },
     "metadata": {
      "needs_background": "light"
     },
     "output_type": "display_data"
    }
   ],
   "source": [
    "plt.figure(figsize=(10,10))\n",
    "plt.hist(df.sentence.str.len(), alpha=0.5, color='red',label = 'before tokenize')\n",
    "plt.show()"
   ]
  },
  {
   "cell_type": "code",
   "execution_count": 383,
   "id": "5c3dde73-e9ac-4295-b693-9bcb34332292",
   "metadata": {},
   "outputs": [],
   "source": [
    "def preprocessing_dataset(dataset):\n",
    "  \"\"\" 처음 불러온 csv 파일을 원하는 형태의 DataFrame으로 변경 시켜줍니다.\"\"\"\n",
    "  subject_entity = []\n",
    "  object_entity = []\n",
    "  for i,j in zip(dataset['subject_entity'], dataset['object_entity']):\n",
    "    i = i[1:-1].split(',')[0].split(':')[1]\n",
    "    j = j[1:-1].split(',')[0].split(':')[1]\n",
    "\n",
    "    subject_entity.append(i)\n",
    "    object_entity.append(j)\n",
    "  out_dataset = pd.DataFrame({'id':dataset['id'], 'sentence':dataset['sentence'],'subject_entity':subject_entity,'object_entity':object_entity,'label':dataset['label'],})\n",
    "  return out_dataset\n",
    "\n",
    "def load_data(dataset_dir):\n",
    "  \"\"\" csv 파일을 경로에 맡게 불러 옵니다. \"\"\"\n",
    "  pd_dataset = pd.read_csv(dataset_dir)\n",
    "  dataset = preprocessing_dataset(pd_dataset)\n",
    "  \n",
    "  return dataset\n",
    "\n",
    "def tokenized_dataset(dataset, tokenizer):\n",
    "  \"\"\" tokenizer에 따라 sentence를 tokenizing 합니다.\"\"\"\n",
    "  concat_entity = []\n",
    "  for e01, e02 in zip(dataset['subject_entity'], dataset['object_entity']):\n",
    "    temp = ''\n",
    "    temp = e01 + '[SEP]' + e02\n",
    "    concat_entity.append(temp)\n",
    "  tokenized_sentences = tokenizer(\n",
    "      concat_entity,\n",
    "      list(dataset['sentence']),\n",
    "      return_tensors=\"pt\",\n",
    "      padding=True,\n",
    "      truncation=True,\n",
    "      max_length=256,\n",
    "      add_special_tokens=True,\n",
    "      )\n",
    "  return tokenized_sentences\n"
   ]
  },
  {
   "cell_type": "code",
   "execution_count": 1217,
   "id": "37d62bf7-04fa-4277-96f8-aef00c48b297",
   "metadata": {},
   "outputs": [],
   "source": [
    "from transformers import AutoTokenizer, AutoConfig, AutoModelForSequenceClassification, Trainer, TrainingArguments, RobertaConfig, RobertaTokenizer, RobertaForSequenceClassification, BertTokenizer\n",
    "\n",
    "MODEL_NAME = \"klue/roberta-large\"\n",
    "tokenizer = AutoTokenizer.from_pretrained(MODEL_NAME)"
   ]
  },
  {
   "cell_type": "code",
   "execution_count": 1218,
   "id": "066d1ad6-4f06-4b8f-af4c-14c90d60ede7",
   "metadata": {},
   "outputs": [],
   "source": [
    "train_dataset = load_data(\"../dataset/train/train.csv\")\n",
    "tokenized_train = tokenized_dataset(train_dataset, tokenizer)"
   ]
  },
  {
   "cell_type": "code",
   "execution_count": 1219,
   "id": "4e9c1a51-0cf2-45b6-a18e-b5bf49f7e68a",
   "metadata": {},
   "outputs": [
    {
     "name": "stdout",
     "output_type": "stream",
     "text": [
      "tensor([    0,    11, 29830,    11,     2,    11,  8373, 14113,  2234,    11,\n",
      "            2,   168, 30985, 14451,  7088,  4586,   169,   793,  8373, 14113,\n",
      "         2234,  2052,  1363,  2088, 29830,  2116, 14879,  2440,  6711,   170,\n",
      "        21406, 26713,  2076, 25145,  5749,   171,  1421,   818,  2073,  4388,\n",
      "         2062,    18,     2,     1,     1,     1,     1,     1,     1,     1,\n",
      "            1,     1,     1,     1,     1,     1,     1,     1,     1,     1,\n",
      "            1,     1,     1,     1,     1,     1,     1,     1,     1,     1,\n",
      "            1,     1,     1,     1,     1,     1,     1,     1,     1,     1,\n",
      "            1,     1,     1,     1,     1,     1,     1,     1,     1,     1,\n",
      "            1,     1,     1,     1,     1,     1,     1,     1,     1,     1,\n",
      "            1,     1,     1,     1,     1,     1,     1,     1,     1,     1,\n",
      "            1,     1,     1,     1,     1,     1,     1,     1,     1,     1,\n",
      "            1,     1,     1,     1,     1,     1,     1,     1,     1,     1,\n",
      "            1,     1,     1,     1,     1,     1,     1,     1,     1,     1,\n",
      "            1,     1,     1,     1,     1,     1,     1,     1,     1,     1,\n",
      "            1,     1,     1,     1,     1,     1,     1,     1,     1,     1,\n",
      "            1,     1,     1,     1,     1,     1,     1,     1,     1,     1,\n",
      "            1,     1,     1,     1,     1,     1,     1,     1,     1,     1,\n",
      "            1,     1,     1,     1,     1,     1,     1,     1,     1,     1,\n",
      "            1,     1,     1,     1,     1,     1,     1,     1,     1,     1,\n",
      "            1,     1,     1,     1,     1,     1,     1,     1,     1,     1,\n",
      "            1,     1,     1,     1,     1,     1,     1,     1,     1,     1,\n",
      "            1,     1,     1,     1,     1,     1,     1,     1,     1,     1,\n",
      "            1,     1,     1,     1,     1,     1,     1,     1,     1,     1,\n",
      "            1]) tensor([    0,    11,  3772,  2139,  2267,  2481,    11,     2,    11,  5605,\n",
      "         2250,  2481,    11,     2,  6409,  2052,  4568,  2179,  6417,  2044,\n",
      "         2315,  2481,   100,  5605,  2250,  2481,   100,  3772,  2139,  2267,\n",
      "         2481,  2052, 16489,   711,  2170, 12827,  2097,  8646,  2481,    12,\n",
      "        15283,    13,  3603,  1528,  2554,  2065,  4538,    18,     2,     1,\n",
      "            1,     1,     1,     1,     1,     1,     1,     1,     1,     1,\n",
      "            1,     1,     1,     1,     1,     1,     1,     1,     1,     1,\n",
      "            1,     1,     1,     1,     1,     1,     1,     1,     1,     1,\n",
      "            1,     1,     1,     1,     1,     1,     1,     1,     1,     1,\n",
      "            1,     1,     1,     1,     1,     1,     1,     1,     1,     1,\n",
      "            1,     1,     1,     1,     1,     1,     1,     1,     1,     1,\n",
      "            1,     1,     1,     1,     1,     1,     1,     1,     1,     1,\n",
      "            1,     1,     1,     1,     1,     1,     1,     1,     1,     1,\n",
      "            1,     1,     1,     1,     1,     1,     1,     1,     1,     1,\n",
      "            1,     1,     1,     1,     1,     1,     1,     1,     1,     1,\n",
      "            1,     1,     1,     1,     1,     1,     1,     1,     1,     1,\n",
      "            1,     1,     1,     1,     1,     1,     1,     1,     1,     1,\n",
      "            1,     1,     1,     1,     1,     1,     1,     1,     1,     1,\n",
      "            1,     1,     1,     1,     1,     1,     1,     1,     1,     1,\n",
      "            1,     1,     1,     1,     1,     1,     1,     1,     1,     1,\n",
      "            1,     1,     1,     1,     1,     1,     1,     1,     1,     1,\n",
      "            1,     1,     1,     1,     1,     1,     1,     1,     1,     1,\n",
      "            1,     1,     1,     1,     1,     1,     1,     1,     1,     1,\n",
      "            1,     1,     1,     1,     1,     1,     1,     1,     1,     1,\n",
      "            1]) tensor([    0,    11,  4104, 10904,    11,     2,    11,  3629, 17287, 20212,\n",
      "           11,     2,    47, 17665,  2302, 27135,  4610,    21,  2090,  2138,\n",
      "         4214,  2088,  1513,  2259,  4104, 10904,  2259,  3625,  4210,  2210,\n",
      "         3629, 17287, 20212,  6233,  3797,  8862,  4415,  4422,  2522,  4852,\n",
      "         4422,  2138,  6157,  2227,   114,  1872, 14198,  2290,   115,   604,\n",
      "          114,  6646, 14198,  2290,   115,  1498,  4812,  2371,  2062,    18,\n",
      "            2,     1,     1,     1,     1,     1,     1,     1,     1,     1,\n",
      "            1,     1,     1,     1,     1,     1,     1,     1,     1,     1,\n",
      "            1,     1,     1,     1,     1,     1,     1,     1,     1,     1,\n",
      "            1,     1,     1,     1,     1,     1,     1,     1,     1,     1,\n",
      "            1,     1,     1,     1,     1,     1,     1,     1,     1,     1,\n",
      "            1,     1,     1,     1,     1,     1,     1,     1,     1,     1,\n",
      "            1,     1,     1,     1,     1,     1,     1,     1,     1,     1,\n",
      "            1,     1,     1,     1,     1,     1,     1,     1,     1,     1,\n",
      "            1,     1,     1,     1,     1,     1,     1,     1,     1,     1,\n",
      "            1,     1,     1,     1,     1,     1,     1,     1,     1,     1,\n",
      "            1,     1,     1,     1,     1,     1,     1,     1,     1,     1,\n",
      "            1,     1,     1,     1,     1,     1,     1,     1,     1,     1,\n",
      "            1,     1,     1,     1,     1,     1,     1,     1,     1,     1,\n",
      "            1,     1,     1,     1,     1,     1,     1,     1,     1,     1,\n",
      "            1,     1,     1,     1,     1,     1,     1,     1,     1,     1,\n",
      "            1,     1,     1,     1,     1,     1,     1,     1,     1,     1,\n",
      "            1,     1,     1,     1,     1,     1,     1,     1,     1,     1,\n",
      "            1,     1,     1,     1,     1,     1,     1,     1,     1,     1,\n",
      "            1]) tensor([    0,    11, 27930, 24393,  2024,    11,     2,    11,  6580,  2144,\n",
      "           11,     2, 23306,  2116,  3799, 18319,  2532,    12,  1564,    13,\n",
      "        27930, 24393,  2024,    12,  3661,  6580,  2144,    13,   793,  1726,\n",
      "        11235, 22328,  8151,  2200,  5117,  2069,   585,  2088,  1513,  2259,\n",
      "         3900, 16955,  2170,  4202, 13473,  2138,  4535,  2371,  4683,  3633,\n",
      "         2210,  3705,  2062,    18,     2,     1,     1,     1,     1,     1,\n",
      "            1,     1,     1,     1,     1,     1,     1,     1,     1,     1,\n",
      "            1,     1,     1,     1,     1,     1,     1,     1,     1,     1,\n",
      "            1,     1,     1,     1,     1,     1,     1,     1,     1,     1,\n",
      "            1,     1,     1,     1,     1,     1,     1,     1,     1,     1,\n",
      "            1,     1,     1,     1,     1,     1,     1,     1,     1,     1,\n",
      "            1,     1,     1,     1,     1,     1,     1,     1,     1,     1,\n",
      "            1,     1,     1,     1,     1,     1,     1,     1,     1,     1,\n",
      "            1,     1,     1,     1,     1,     1,     1,     1,     1,     1,\n",
      "            1,     1,     1,     1,     1,     1,     1,     1,     1,     1,\n",
      "            1,     1,     1,     1,     1,     1,     1,     1,     1,     1,\n",
      "            1,     1,     1,     1,     1,     1,     1,     1,     1,     1,\n",
      "            1,     1,     1,     1,     1,     1,     1,     1,     1,     1,\n",
      "            1,     1,     1,     1,     1,     1,     1,     1,     1,     1,\n",
      "            1,     1,     1,     1,     1,     1,     1,     1,     1,     1,\n",
      "            1,     1,     1,     1,     1,     1,     1,     1,     1,     1,\n",
      "            1,     1,     1,     1,     1,     1,     1,     1,     1,     1,\n",
      "            1,     1,     1,     1,     1,     1,     1,     1,     1,     1,\n",
      "            1,     1,     1,     1,     1,     1,     1,     1,     1,     1,\n",
      "            1]) tensor([    0,    11, 20289, 20562,    11,     2,    11, 14925,    11,     2,\n",
      "        14925,  2440,  3701,  4878, 19038,    21, 22247,  2200, 20289, 20562,\n",
      "         2170,  2318, 11989,  5643,  2112,   886,  2517,  2016,  2259,    28,\n",
      "         2517,  6233,  8557,  2496,  2359,  2062,    18,     2,     1,     1,\n",
      "            1,     1,     1,     1,     1,     1,     1,     1,     1,     1,\n",
      "            1,     1,     1,     1,     1,     1,     1,     1,     1,     1,\n",
      "            1,     1,     1,     1,     1,     1,     1,     1,     1,     1,\n",
      "            1,     1,     1,     1,     1,     1,     1,     1,     1,     1,\n",
      "            1,     1,     1,     1,     1,     1,     1,     1,     1,     1,\n",
      "            1,     1,     1,     1,     1,     1,     1,     1,     1,     1,\n",
      "            1,     1,     1,     1,     1,     1,     1,     1,     1,     1,\n",
      "            1,     1,     1,     1,     1,     1,     1,     1,     1,     1,\n",
      "            1,     1,     1,     1,     1,     1,     1,     1,     1,     1,\n",
      "            1,     1,     1,     1,     1,     1,     1,     1,     1,     1,\n",
      "            1,     1,     1,     1,     1,     1,     1,     1,     1,     1,\n",
      "            1,     1,     1,     1,     1,     1,     1,     1,     1,     1,\n",
      "            1,     1,     1,     1,     1,     1,     1,     1,     1,     1,\n",
      "            1,     1,     1,     1,     1,     1,     1,     1,     1,     1,\n",
      "            1,     1,     1,     1,     1,     1,     1,     1,     1,     1,\n",
      "            1,     1,     1,     1,     1,     1,     1,     1,     1,     1,\n",
      "            1,     1,     1,     1,     1,     1,     1,     1,     1,     1,\n",
      "            1,     1,     1,     1,     1,     1,     1,     1,     1,     1,\n",
      "            1,     1,     1,     1,     1,     1,     1,     1,     1,     1,\n",
      "            1,     1,     1,     1,     1,     1,     1,     1,     1,     1,\n",
      "            1])\n"
     ]
    }
   ],
   "source": [
    "print(*tokenized_train.input_ids[:5])"
   ]
  },
  {
   "cell_type": "code",
   "execution_count": 1220,
   "id": "04b0e74c-1cc5-496e-94d9-de6e0abd4bae",
   "metadata": {},
   "outputs": [
    {
     "data": {
      "text/plain": [
       "32470"
      ]
     },
     "execution_count": 1220,
     "metadata": {},
     "output_type": "execute_result"
    }
   ],
   "source": [
    "len(tokenized_train.input_ids)"
   ]
  },
  {
   "cell_type": "code",
   "execution_count": 1221,
   "id": "a52b8236-fa5c-4e15-9404-3f9d13649bf6",
   "metadata": {},
   "outputs": [
    {
     "name": "stdout",
     "output_type": "stream",
     "text": [
      "input_ids token_type_ids attention_mask\n"
     ]
    }
   ],
   "source": [
    "print(*tokenized_train)"
   ]
  },
  {
   "cell_type": "code",
   "execution_count": 1222,
   "id": "4fec6582-d779-48b1-9057-80302018971d",
   "metadata": {},
   "outputs": [
    {
     "name": "stdout",
     "output_type": "stream",
     "text": [
      "tensor([0, 0, 0, 0, 0, 0, 0, 0, 0, 0, 0, 0, 0, 0, 0, 0, 0, 0, 0, 0, 0, 0, 0, 0,\n",
      "        0, 0, 0, 0, 0, 0, 0, 0, 0, 0, 0, 0, 0, 0, 0, 0, 0, 0, 0, 0, 0, 0, 0, 0,\n",
      "        0, 0, 0, 0, 0, 0, 0, 0, 0, 0, 0, 0, 0, 0, 0, 0, 0, 0, 0, 0, 0, 0, 0, 0,\n",
      "        0, 0, 0, 0, 0, 0, 0, 0, 0, 0, 0, 0, 0, 0, 0, 0, 0, 0, 0, 0, 0, 0, 0, 0,\n",
      "        0, 0, 0, 0, 0, 0, 0, 0, 0, 0, 0, 0, 0, 0, 0, 0, 0, 0, 0, 0, 0, 0, 0, 0,\n",
      "        0, 0, 0, 0, 0, 0, 0, 0, 0, 0, 0, 0, 0, 0, 0, 0, 0, 0, 0, 0, 0, 0, 0, 0,\n",
      "        0, 0, 0, 0, 0, 0, 0, 0, 0, 0, 0, 0, 0, 0, 0, 0, 0, 0, 0, 0, 0, 0, 0, 0,\n",
      "        0, 0, 0, 0, 0, 0, 0, 0, 0, 0, 0, 0, 0, 0, 0, 0, 0, 0, 0, 0, 0, 0, 0, 0,\n",
      "        0, 0, 0, 0, 0, 0, 0, 0, 0, 0, 0, 0, 0, 0, 0, 0, 0, 0, 0, 0, 0, 0, 0, 0,\n",
      "        0, 0, 0, 0, 0, 0, 0, 0, 0, 0, 0, 0, 0, 0, 0, 0, 0, 0, 0, 0, 0, 0, 0, 0,\n",
      "        0])\n"
     ]
    }
   ],
   "source": [
    "print(tokenized_train.token_type_ids[0])"
   ]
  },
  {
   "cell_type": "code",
   "execution_count": 1223,
   "id": "d08aa4c0-8d4f-4a1c-89cf-cb6b356baa81",
   "metadata": {},
   "outputs": [
    {
     "data": {
      "text/plain": [
       "tensor([1, 1, 1, 1, 1, 1, 1, 1, 1, 1, 1, 1, 1, 1, 1, 1, 1, 1, 1, 1, 1, 1, 1, 1,\n",
       "        1, 1, 1, 1, 1, 1, 1, 1, 1, 1, 1, 1, 1, 1, 1, 1, 1, 1, 1, 0, 0, 0, 0, 0,\n",
       "        0, 0, 0, 0, 0, 0, 0, 0, 0, 0, 0, 0, 0, 0, 0, 0, 0, 0, 0, 0, 0, 0, 0, 0,\n",
       "        0, 0, 0, 0, 0, 0, 0, 0, 0, 0, 0, 0, 0, 0, 0, 0, 0, 0, 0, 0, 0, 0, 0, 0,\n",
       "        0, 0, 0, 0, 0, 0, 0, 0, 0, 0, 0, 0, 0, 0, 0, 0, 0, 0, 0, 0, 0, 0, 0, 0,\n",
       "        0, 0, 0, 0, 0, 0, 0, 0, 0, 0, 0, 0, 0, 0, 0, 0, 0, 0, 0, 0, 0, 0, 0, 0,\n",
       "        0, 0, 0, 0, 0, 0, 0, 0, 0, 0, 0, 0, 0, 0, 0, 0, 0, 0, 0, 0, 0, 0, 0, 0,\n",
       "        0, 0, 0, 0, 0, 0, 0, 0, 0, 0, 0, 0, 0, 0, 0, 0, 0, 0, 0, 0, 0, 0, 0, 0,\n",
       "        0, 0, 0, 0, 0, 0, 0, 0, 0, 0, 0, 0, 0, 0, 0, 0, 0, 0, 0, 0, 0, 0, 0, 0,\n",
       "        0, 0, 0, 0, 0, 0, 0, 0, 0, 0, 0, 0, 0, 0, 0, 0, 0, 0, 0, 0, 0, 0, 0, 0,\n",
       "        0])"
      ]
     },
     "execution_count": 1223,
     "metadata": {},
     "output_type": "execute_result"
    }
   ],
   "source": [
    "tokenized_train.attention_mask[0]"
   ]
  },
  {
   "cell_type": "code",
   "execution_count": 1224,
   "id": "db30f9de-8dc6-44e0-9c96-7639c1adb068",
   "metadata": {},
   "outputs": [],
   "source": [
    "input_ids_df = pd.DataFrame(tokenized_train.input_ids.numpy())"
   ]
  },
  {
   "cell_type": "code",
   "execution_count": 1225,
   "id": "1b86d4b0-e31d-42e3-beb5-44aea44bd0cd",
   "metadata": {},
   "outputs": [],
   "source": [
    "input_ids_np = tokenized_train.input_ids.numpy()"
   ]
  },
  {
   "cell_type": "code",
   "execution_count": 1226,
   "id": "5e527b23-a282-4d04-bfbf-77b48bc17219",
   "metadata": {},
   "outputs": [],
   "source": [
    "input_ids_pd = pd.DataFrame(input_ids_np)"
   ]
  },
  {
   "cell_type": "code",
   "execution_count": 1227,
   "id": "3b42271d-a6a4-440b-86c5-16cb4d16624f",
   "metadata": {},
   "outputs": [
    {
     "data": {
      "text/html": [
       "<div>\n",
       "<style scoped>\n",
       "    .dataframe tbody tr th:only-of-type {\n",
       "        vertical-align: middle;\n",
       "    }\n",
       "\n",
       "    .dataframe tbody tr th {\n",
       "        vertical-align: top;\n",
       "    }\n",
       "\n",
       "    .dataframe thead th {\n",
       "        text-align: right;\n",
       "    }\n",
       "</style>\n",
       "<table border=\"1\" class=\"dataframe\">\n",
       "  <thead>\n",
       "    <tr style=\"text-align: right;\">\n",
       "      <th></th>\n",
       "      <th>0</th>\n",
       "      <th>1</th>\n",
       "      <th>2</th>\n",
       "      <th>3</th>\n",
       "      <th>4</th>\n",
       "      <th>5</th>\n",
       "      <th>6</th>\n",
       "      <th>7</th>\n",
       "      <th>8</th>\n",
       "      <th>9</th>\n",
       "      <th>...</th>\n",
       "      <th>231</th>\n",
       "      <th>232</th>\n",
       "      <th>233</th>\n",
       "      <th>234</th>\n",
       "      <th>235</th>\n",
       "      <th>236</th>\n",
       "      <th>237</th>\n",
       "      <th>238</th>\n",
       "      <th>239</th>\n",
       "      <th>240</th>\n",
       "    </tr>\n",
       "  </thead>\n",
       "  <tbody>\n",
       "    <tr>\n",
       "      <th>0</th>\n",
       "      <td>0</td>\n",
       "      <td>11</td>\n",
       "      <td>29830</td>\n",
       "      <td>11</td>\n",
       "      <td>2</td>\n",
       "      <td>11</td>\n",
       "      <td>8373</td>\n",
       "      <td>14113</td>\n",
       "      <td>2234</td>\n",
       "      <td>11</td>\n",
       "      <td>...</td>\n",
       "      <td>1</td>\n",
       "      <td>1</td>\n",
       "      <td>1</td>\n",
       "      <td>1</td>\n",
       "      <td>1</td>\n",
       "      <td>1</td>\n",
       "      <td>1</td>\n",
       "      <td>1</td>\n",
       "      <td>1</td>\n",
       "      <td>1</td>\n",
       "    </tr>\n",
       "    <tr>\n",
       "      <th>1</th>\n",
       "      <td>0</td>\n",
       "      <td>11</td>\n",
       "      <td>3772</td>\n",
       "      <td>2139</td>\n",
       "      <td>2267</td>\n",
       "      <td>2481</td>\n",
       "      <td>11</td>\n",
       "      <td>2</td>\n",
       "      <td>11</td>\n",
       "      <td>5605</td>\n",
       "      <td>...</td>\n",
       "      <td>1</td>\n",
       "      <td>1</td>\n",
       "      <td>1</td>\n",
       "      <td>1</td>\n",
       "      <td>1</td>\n",
       "      <td>1</td>\n",
       "      <td>1</td>\n",
       "      <td>1</td>\n",
       "      <td>1</td>\n",
       "      <td>1</td>\n",
       "    </tr>\n",
       "    <tr>\n",
       "      <th>2</th>\n",
       "      <td>0</td>\n",
       "      <td>11</td>\n",
       "      <td>4104</td>\n",
       "      <td>10904</td>\n",
       "      <td>11</td>\n",
       "      <td>2</td>\n",
       "      <td>11</td>\n",
       "      <td>3629</td>\n",
       "      <td>17287</td>\n",
       "      <td>20212</td>\n",
       "      <td>...</td>\n",
       "      <td>1</td>\n",
       "      <td>1</td>\n",
       "      <td>1</td>\n",
       "      <td>1</td>\n",
       "      <td>1</td>\n",
       "      <td>1</td>\n",
       "      <td>1</td>\n",
       "      <td>1</td>\n",
       "      <td>1</td>\n",
       "      <td>1</td>\n",
       "    </tr>\n",
       "    <tr>\n",
       "      <th>3</th>\n",
       "      <td>0</td>\n",
       "      <td>11</td>\n",
       "      <td>27930</td>\n",
       "      <td>24393</td>\n",
       "      <td>2024</td>\n",
       "      <td>11</td>\n",
       "      <td>2</td>\n",
       "      <td>11</td>\n",
       "      <td>6580</td>\n",
       "      <td>2144</td>\n",
       "      <td>...</td>\n",
       "      <td>1</td>\n",
       "      <td>1</td>\n",
       "      <td>1</td>\n",
       "      <td>1</td>\n",
       "      <td>1</td>\n",
       "      <td>1</td>\n",
       "      <td>1</td>\n",
       "      <td>1</td>\n",
       "      <td>1</td>\n",
       "      <td>1</td>\n",
       "    </tr>\n",
       "    <tr>\n",
       "      <th>4</th>\n",
       "      <td>0</td>\n",
       "      <td>11</td>\n",
       "      <td>20289</td>\n",
       "      <td>20562</td>\n",
       "      <td>11</td>\n",
       "      <td>2</td>\n",
       "      <td>11</td>\n",
       "      <td>14925</td>\n",
       "      <td>11</td>\n",
       "      <td>2</td>\n",
       "      <td>...</td>\n",
       "      <td>1</td>\n",
       "      <td>1</td>\n",
       "      <td>1</td>\n",
       "      <td>1</td>\n",
       "      <td>1</td>\n",
       "      <td>1</td>\n",
       "      <td>1</td>\n",
       "      <td>1</td>\n",
       "      <td>1</td>\n",
       "      <td>1</td>\n",
       "    </tr>\n",
       "    <tr>\n",
       "      <th>...</th>\n",
       "      <td>...</td>\n",
       "      <td>...</td>\n",
       "      <td>...</td>\n",
       "      <td>...</td>\n",
       "      <td>...</td>\n",
       "      <td>...</td>\n",
       "      <td>...</td>\n",
       "      <td>...</td>\n",
       "      <td>...</td>\n",
       "      <td>...</td>\n",
       "      <td>...</td>\n",
       "      <td>...</td>\n",
       "      <td>...</td>\n",
       "      <td>...</td>\n",
       "      <td>...</td>\n",
       "      <td>...</td>\n",
       "      <td>...</td>\n",
       "      <td>...</td>\n",
       "      <td>...</td>\n",
       "      <td>...</td>\n",
       "      <td>...</td>\n",
       "    </tr>\n",
       "    <tr>\n",
       "      <th>32465</th>\n",
       "      <td>0</td>\n",
       "      <td>11</td>\n",
       "      <td>5967</td>\n",
       "      <td>2456</td>\n",
       "      <td>11</td>\n",
       "      <td>2</td>\n",
       "      <td>11</td>\n",
       "      <td>3902</td>\n",
       "      <td>5905</td>\n",
       "      <td>100</td>\n",
       "      <td>...</td>\n",
       "      <td>1</td>\n",
       "      <td>1</td>\n",
       "      <td>1</td>\n",
       "      <td>1</td>\n",
       "      <td>1</td>\n",
       "      <td>1</td>\n",
       "      <td>1</td>\n",
       "      <td>1</td>\n",
       "      <td>1</td>\n",
       "      <td>1</td>\n",
       "    </tr>\n",
       "    <tr>\n",
       "      <th>32466</th>\n",
       "      <td>0</td>\n",
       "      <td>11</td>\n",
       "      <td>28246</td>\n",
       "      <td>2444</td>\n",
       "      <td>11</td>\n",
       "      <td>2</td>\n",
       "      <td>11</td>\n",
       "      <td>1284</td>\n",
       "      <td>2394</td>\n",
       "      <td>2364</td>\n",
       "      <td>...</td>\n",
       "      <td>1</td>\n",
       "      <td>1</td>\n",
       "      <td>1</td>\n",
       "      <td>1</td>\n",
       "      <td>1</td>\n",
       "      <td>1</td>\n",
       "      <td>1</td>\n",
       "      <td>1</td>\n",
       "      <td>1</td>\n",
       "      <td>1</td>\n",
       "    </tr>\n",
       "    <tr>\n",
       "      <th>32467</th>\n",
       "      <td>0</td>\n",
       "      <td>11</td>\n",
       "      <td>18272</td>\n",
       "      <td>2242</td>\n",
       "      <td>11</td>\n",
       "      <td>2</td>\n",
       "      <td>11</td>\n",
       "      <td>31102</td>\n",
       "      <td>2313</td>\n",
       "      <td>11</td>\n",
       "      <td>...</td>\n",
       "      <td>1</td>\n",
       "      <td>1</td>\n",
       "      <td>1</td>\n",
       "      <td>1</td>\n",
       "      <td>1</td>\n",
       "      <td>1</td>\n",
       "      <td>1</td>\n",
       "      <td>1</td>\n",
       "      <td>1</td>\n",
       "      <td>1</td>\n",
       "    </tr>\n",
       "    <tr>\n",
       "      <th>32468</th>\n",
       "      <td>0</td>\n",
       "      <td>11</td>\n",
       "      <td>15710</td>\n",
       "      <td>11</td>\n",
       "      <td>2</td>\n",
       "      <td>11</td>\n",
       "      <td>4097</td>\n",
       "      <td>2827</td>\n",
       "      <td>2500</td>\n",
       "      <td>2255</td>\n",
       "      <td>...</td>\n",
       "      <td>1</td>\n",
       "      <td>1</td>\n",
       "      <td>1</td>\n",
       "      <td>1</td>\n",
       "      <td>1</td>\n",
       "      <td>1</td>\n",
       "      <td>1</td>\n",
       "      <td>1</td>\n",
       "      <td>1</td>\n",
       "      <td>1</td>\n",
       "    </tr>\n",
       "    <tr>\n",
       "      <th>32469</th>\n",
       "      <td>0</td>\n",
       "      <td>11</td>\n",
       "      <td>15437</td>\n",
       "      <td>2242</td>\n",
       "      <td>11</td>\n",
       "      <td>2</td>\n",
       "      <td>11</td>\n",
       "      <td>615</td>\n",
       "      <td>2419</td>\n",
       "      <td>2344</td>\n",
       "      <td>...</td>\n",
       "      <td>1</td>\n",
       "      <td>1</td>\n",
       "      <td>1</td>\n",
       "      <td>1</td>\n",
       "      <td>1</td>\n",
       "      <td>1</td>\n",
       "      <td>1</td>\n",
       "      <td>1</td>\n",
       "      <td>1</td>\n",
       "      <td>1</td>\n",
       "    </tr>\n",
       "  </tbody>\n",
       "</table>\n",
       "<p>32470 rows × 241 columns</p>\n",
       "</div>"
      ],
      "text/plain": [
       "       0    1      2      3     4     5     6      7      8      9    ...  \\\n",
       "0        0   11  29830     11     2    11  8373  14113   2234     11  ...   \n",
       "1        0   11   3772   2139  2267  2481    11      2     11   5605  ...   \n",
       "2        0   11   4104  10904    11     2    11   3629  17287  20212  ...   \n",
       "3        0   11  27930  24393  2024    11     2     11   6580   2144  ...   \n",
       "4        0   11  20289  20562    11     2    11  14925     11      2  ...   \n",
       "...    ...  ...    ...    ...   ...   ...   ...    ...    ...    ...  ...   \n",
       "32465    0   11   5967   2456    11     2    11   3902   5905    100  ...   \n",
       "32466    0   11  28246   2444    11     2    11   1284   2394   2364  ...   \n",
       "32467    0   11  18272   2242    11     2    11  31102   2313     11  ...   \n",
       "32468    0   11  15710     11     2    11  4097   2827   2500   2255  ...   \n",
       "32469    0   11  15437   2242    11     2    11    615   2419   2344  ...   \n",
       "\n",
       "       231  232  233  234  235  236  237  238  239  240  \n",
       "0        1    1    1    1    1    1    1    1    1    1  \n",
       "1        1    1    1    1    1    1    1    1    1    1  \n",
       "2        1    1    1    1    1    1    1    1    1    1  \n",
       "3        1    1    1    1    1    1    1    1    1    1  \n",
       "4        1    1    1    1    1    1    1    1    1    1  \n",
       "...    ...  ...  ...  ...  ...  ...  ...  ...  ...  ...  \n",
       "32465    1    1    1    1    1    1    1    1    1    1  \n",
       "32466    1    1    1    1    1    1    1    1    1    1  \n",
       "32467    1    1    1    1    1    1    1    1    1    1  \n",
       "32468    1    1    1    1    1    1    1    1    1    1  \n",
       "32469    1    1    1    1    1    1    1    1    1    1  \n",
       "\n",
       "[32470 rows x 241 columns]"
      ]
     },
     "execution_count": 1227,
     "metadata": {},
     "output_type": "execute_result"
    }
   ],
   "source": [
    "input_ids_pd"
   ]
  },
  {
   "cell_type": "code",
   "execution_count": 1231,
   "id": "eb066bdb-886b-45a5-a48d-c4226de24fac",
   "metadata": {},
   "outputs": [
    {
     "data": {
      "text/plain": [
       "0        False\n",
       "1        False\n",
       "2        False\n",
       "3        False\n",
       "4        False\n",
       "         ...  \n",
       "32465    False\n",
       "32466    False\n",
       "32467    False\n",
       "32468    False\n",
       "32469    False\n",
       "Length: 32470, dtype: bool"
      ]
     },
     "execution_count": 1231,
     "metadata": {},
     "output_type": "execute_result"
    }
   ],
   "source": [
    "((input_ids_pd==3).sum(axis=1)!=0)"
   ]
  },
  {
   "cell_type": "code",
   "execution_count": 1288,
   "id": "36f1cf38-e181-4d37-bc3a-146237182682",
   "metadata": {},
   "outputs": [
    {
     "data": {
      "text/plain": [
       "3218"
      ]
     },
     "execution_count": 1288,
     "metadata": {},
     "output_type": "execute_result"
    }
   ],
   "source": [
    "((input_ids_pd==3).sum(axis=1)!=0).sum(axis=0)"
   ]
  },
  {
   "cell_type": "code",
   "execution_count": 1232,
   "id": "645190ad-b6f6-4d8f-a6c4-26fc8e150ccc",
   "metadata": {},
   "outputs": [
    {
     "data": {
      "text/plain": [
       "0     29252\n",
       "1      1256\n",
       "2      1066\n",
       "3       480\n",
       "4       189\n",
       "5       110\n",
       "6        58\n",
       "8        28\n",
       "7        22\n",
       "10        4\n",
       "12        2\n",
       "9         2\n",
       "11        1\n",
       "dtype: int64"
      ]
     },
     "execution_count": 1232,
     "metadata": {},
     "output_type": "execute_result"
    }
   ],
   "source": [
    "((input_ids_pd==3).sum(axis=1)).value_counts()"
   ]
  },
  {
   "cell_type": "code",
   "execution_count": 1289,
   "id": "29df20c1-ce16-4056-986e-6ab3842fac40",
   "metadata": {},
   "outputs": [],
   "source": [
    "UNK_over_n = 9\n",
    "\n",
    "condition = ((input_ids_pd==3).sum(axis=1)>UNK_over_n)\n",
    "\n",
    "sen_id = iter(df.index[condition])\n",
    "UNK_count = iter(((input_ids_pd==1).sum(axis=1))[condition])\n",
    "UNK_sentence = iter(df.sentence[condition])\n",
    "UNK_sub = iter(df.subject_entity[condition])\n",
    "UNK_obj = iter(df.object_entity[condition])\n",
    "UNK_ids = iter(tokenized_train.input_ids[condition])"
   ]
  },
  {
   "cell_type": "code",
   "execution_count": 1291,
   "id": "fb879bd7-f7e4-44d4-bf47-c5b874bdb37a",
   "metadata": {},
   "outputs": [
    {
     "name": "stdout",
     "output_type": "stream",
     "text": [
      "sentence id : 8982\n",
      "UNK count : 176\n",
      "{'word': '우거왕', 'start_idx': 0, 'end_idx': 2, 'type': 'PER'}\n",
      "{'word': '위우거(衛右渠)', 'start_idx': 45, 'end_idx': 52, 'type': 'PER'}\n",
      "우거왕(右渠王, 기원전 160년 ~ 기원전 108년, ~ 기원전 108년) 또는 위우거(衛右渠)는 고조선의 마지막 왕으로 위만(衛滿)의 손자이다.\n",
      "tensor([    0,    11,  1469,  2180,  2305,    11,     2,    11,  1485,  2137,\n",
      "         2180,    12,     3,     3,     3,    13,    11,     2,  1469,  2180,\n",
      "         2305,    12,     3,     3,   429,    16, 11561,  9712,  2440,    97,\n",
      "        11561, 12309,  2440,    16,    97, 11561, 12309,  2440,    13,  4013,\n",
      "         1485,  2137,  2180,    12,     3,     3,     3,    13,   793, 23452,\n",
      "         2079,  4178,  1459,  6233,  1485,  2154,    12,     3,     3,    13,\n",
      "         1503, 10055, 28674,    18,     2,     1,     1,     1,     1,     1,\n",
      "            1,     1,     1,     1,     1,     1,     1,     1,     1,     1,\n",
      "            1,     1,     1,     1,     1,     1,     1,     1,     1,     1,\n",
      "            1,     1,     1,     1,     1,     1,     1,     1,     1,     1,\n",
      "            1,     1,     1,     1,     1,     1,     1,     1,     1,     1,\n",
      "            1,     1,     1,     1,     1,     1,     1,     1,     1,     1,\n",
      "            1,     1,     1,     1,     1,     1,     1,     1,     1,     1,\n",
      "            1,     1,     1,     1,     1,     1,     1,     1,     1,     1,\n",
      "            1,     1,     1,     1,     1,     1,     1,     1,     1,     1,\n",
      "            1,     1,     1,     1,     1,     1,     1,     1,     1,     1,\n",
      "            1,     1,     1,     1,     1,     1,     1,     1,     1,     1,\n",
      "            1,     1,     1,     1,     1,     1,     1,     1,     1,     1,\n",
      "            1,     1,     1,     1,     1,     1,     1,     1,     1,     1,\n",
      "            1,     1,     1,     1,     1,     1,     1,     1,     1,     1,\n",
      "            1,     1,     1,     1,     1,     1,     1,     1,     1,     1,\n",
      "            1,     1,     1,     1,     1,     1,     1,     1,     1,     1,\n",
      "            1,     1,     1,     1,     1,     1,     1,     1,     1,     1,\n",
      "            1,     1,     1,     1,     1,     1,     1,     1,     1,     1,\n",
      "            1])\n"
     ]
    }
   ],
   "source": [
    "print('sentence id :', next(sen_id))\n",
    "print('UNK count :', next(UNK_count))\n",
    "print(next(UNK_sub))\n",
    "print(next(UNK_obj))\n",
    "print(next(UNK_sentence))\n",
    "print(next(UNK_ids))"
   ]
  },
  {
   "cell_type": "code",
   "execution_count": 1292,
   "id": "aed33f98-6002-4614-86ef-967fb9b4f1cd",
   "metadata": {},
   "outputs": [
    {
     "data": {
      "text/plain": [
       "no_relation                        77\n",
       "per:alternate_names                68\n",
       "org:alternate_names                37\n",
       "per:date_of_death                  30\n",
       "per:date_of_birth                  28\n",
       "per:origin                         25\n",
       "per:parents                        20\n",
       "per:employee_of                    19\n",
       "per:spouse                         18\n",
       "per:title                          18\n",
       "per:children                       12\n",
       "org:member_of                      10\n",
       "org:place_of_headquarters           9\n",
       "org:top_members/employees           8\n",
       "per:other_family                    8\n",
       "org:founded                         5\n",
       "per:siblings                        4\n",
       "per:colleagues                      4\n",
       "per:place_of_birth                  3\n",
       "per:place_of_residence              3\n",
       "per:product                         3\n",
       "org:members                         3\n",
       "per:place_of_death                  1\n",
       "org:founded_by                      1\n",
       "per:religion                        1\n",
       "org:number_of_employees/members     1\n",
       "Name: label, dtype: int64"
      ]
     },
     "execution_count": 1292,
     "metadata": {},
     "output_type": "execute_result"
    }
   ],
   "source": [
    "df.label[(input_ids_pd==3).sum(axis=1)>3].value_counts()"
   ]
  },
  {
   "cell_type": "code",
   "execution_count": 1236,
   "id": "76b67184-b8b6-4c0a-9174-acf1dd29f39c",
   "metadata": {},
   "outputs": [
    {
     "data": {
      "text/plain": [
       "(no_relation                            0.008076\n",
       " org:alternate_names                    0.028030\n",
       " org:dissolved                               NaN\n",
       " org:founded                            0.011111\n",
       " org:founded_by                         0.006452\n",
       " org:member_of                          0.005359\n",
       " org:members                            0.007143\n",
       " org:number_of_employees/members        0.020833\n",
       " org:place_of_headquarters              0.007531\n",
       " org:political/religious_affiliation         NaN\n",
       " org:product                                 NaN\n",
       " org:top_members/employees              0.001867\n",
       " per:alternate_names                    0.067932\n",
       " per:children                           0.039474\n",
       " per:colleagues                         0.007491\n",
       " per:date_of_birth                      0.024779\n",
       " per:date_of_death                      0.071770\n",
       " per:employee_of                        0.005318\n",
       " per:origin                             0.020259\n",
       " per:other_family                       0.042105\n",
       " per:parents                            0.038462\n",
       " per:place_of_birth                     0.018072\n",
       " per:place_of_death                     0.025000\n",
       " per:place_of_residence                 0.015544\n",
       " per:product                            0.021583\n",
       " per:religion                           0.010417\n",
       " per:schools_attended                        NaN\n",
       " per:siblings                           0.029412\n",
       " per:spouse                             0.022642\n",
       " per:title                              0.008559\n",
       " Name: label, dtype: float64,\n",
       " no_relation                            9534\n",
       " org:top_members/employees              4284\n",
       " per:employee_of                        3573\n",
       " per:title                              2103\n",
       " org:member_of                          1866\n",
       " org:alternate_names                    1320\n",
       " per:origin                             1234\n",
       " org:place_of_headquarters              1195\n",
       " per:date_of_birth                      1130\n",
       " per:alternate_names                    1001\n",
       " per:spouse                              795\n",
       " per:colleagues                          534\n",
       " per:parents                             520\n",
       " org:founded                             450\n",
       " org:members                             420\n",
       " per:date_of_death                       418\n",
       " org:product                             380\n",
       " per:children                            304\n",
       " per:place_of_residence                  193\n",
       " per:other_family                        190\n",
       " per:place_of_birth                      166\n",
       " org:founded_by                          155\n",
       " per:product                             139\n",
       " per:siblings                            136\n",
       " org:political/religious_affiliation      98\n",
       " per:religion                             96\n",
       " per:schools_attended                     82\n",
       " org:dissolved                            66\n",
       " org:number_of_employees/members          48\n",
       " per:place_of_death                       40\n",
       " Name: label, dtype: int64)"
      ]
     },
     "execution_count": 1236,
     "metadata": {},
     "output_type": "execute_result"
    }
   ],
   "source": [
    "df.label[(input_ids_pd==3).sum(axis=1)>3].value_counts()/df.label.value_counts(), df.label.value_counts()"
   ]
  },
  {
   "cell_type": "code",
   "execution_count": 1237,
   "id": "538d2ea5-0ff7-4388-8d63-3c33439674f0",
   "metadata": {},
   "outputs": [],
   "source": [
    "df_droped = df.drop(labels=df.index[(input_ids_pd==3).sum(axis=1)>3], axis=0)"
   ]
  },
  {
   "cell_type": "code",
   "execution_count": 1238,
   "id": "cae1a37f-fb7c-42a0-a388-b91588841886",
   "metadata": {},
   "outputs": [
    {
     "data": {
      "text/plain": [
       "id                                                                                                      4658\n",
       "sentence          하이트진로(대표 김인규)가 지난해 11월 싱가포르에 이어 미국에서 본격적으로 해외 기업설명회(NDR: Non-Deal Roadshow)에 나선다고 18일 밝혔다.\n",
       "subject_entity                                {'word': '하이트진로', 'start_idx': 0, 'end_idx': 4, 'type': 'ORG'}\n",
       "object_entity                                  {'word': '김인규', 'start_idx': 9, 'end_idx': 11, 'type': 'PER'}\n",
       "label                                                                              org:top_members/employees\n",
       "source                                                                                              wikitree\n",
       "Name: 4658, dtype: object"
      ]
     },
     "execution_count": 1238,
     "metadata": {},
     "output_type": "execute_result"
    }
   ],
   "source": [
    "df_droped.iloc[4597]"
   ]
  },
  {
   "cell_type": "code",
   "execution_count": 1239,
   "id": "76d5b7d9-9e59-4125-bb1e-c9d4e20f94b0",
   "metadata": {},
   "outputs": [
    {
     "data": {
      "text/html": [
       "<div>\n",
       "<style scoped>\n",
       "    .dataframe tbody tr th:only-of-type {\n",
       "        vertical-align: middle;\n",
       "    }\n",
       "\n",
       "    .dataframe tbody tr th {\n",
       "        vertical-align: top;\n",
       "    }\n",
       "\n",
       "    .dataframe thead th {\n",
       "        text-align: right;\n",
       "    }\n",
       "</style>\n",
       "<table border=\"1\" class=\"dataframe\">\n",
       "  <thead>\n",
       "    <tr style=\"text-align: right;\">\n",
       "      <th></th>\n",
       "      <th>id</th>\n",
       "      <th>sentence</th>\n",
       "      <th>subject_entity</th>\n",
       "      <th>object_entity</th>\n",
       "      <th>label</th>\n",
       "      <th>source</th>\n",
       "    </tr>\n",
       "  </thead>\n",
       "  <tbody>\n",
       "    <tr>\n",
       "      <th>0</th>\n",
       "      <td>0</td>\n",
       "      <td>〈Something〉는 조지 해리슨이 쓰고 비틀즈가 1969년 앨범 《Abbey Road》에 담은 노래다.</td>\n",
       "      <td>{'word': '비틀즈', 'start_idx': 24, 'end_idx': 26, 'type': 'ORG'}</td>\n",
       "      <td>{'word': '조지 해리슨', 'start_idx': 13, 'end_idx': 18, 'type': 'PER'}</td>\n",
       "      <td>no_relation</td>\n",
       "      <td>wikipedia</td>\n",
       "    </tr>\n",
       "    <tr>\n",
       "      <th>1</th>\n",
       "      <td>1</td>\n",
       "      <td>호남이 기반인 바른미래당·대안신당·민주평화당이 우여곡절 끝에 합당해 민생당(가칭)으로 재탄생한다.</td>\n",
       "      <td>{'word': '민주평화당', 'start_idx': 19, 'end_idx': 23, 'type': 'ORG'}</td>\n",
       "      <td>{'word': '대안신당', 'start_idx': 14, 'end_idx': 17, 'type': 'ORG'}</td>\n",
       "      <td>no_relation</td>\n",
       "      <td>wikitree</td>\n",
       "    </tr>\n",
       "    <tr>\n",
       "      <th>2</th>\n",
       "      <td>2</td>\n",
       "      <td>K리그2에서 성적 1위를 달리고 있는 광주FC는 지난 26일 한국프로축구연맹으로부터 관중 유치 성과와 마케팅 성과를 인정받아 ‘풀 스타디움상’과 ‘플러스 스타디움상’을 수상했다.</td>\n",
       "      <td>{'word': '광주FC', 'start_idx': 21, 'end_idx': 24, 'type': 'ORG'}</td>\n",
       "      <td>{'word': '한국프로축구연맹', 'start_idx': 34, 'end_idx': 41, 'type': 'ORG'}</td>\n",
       "      <td>org:member_of</td>\n",
       "      <td>wikitree</td>\n",
       "    </tr>\n",
       "    <tr>\n",
       "      <th>3</th>\n",
       "      <td>3</td>\n",
       "      <td>균일가 생활용품점 (주)아성다이소(대표 박정부)는 코로나19 바이러스로 어려움을 겪고 있는 대구광역시에 행복박스를 전달했다고 10일 밝혔다.</td>\n",
       "      <td>{'word': '아성다이소', 'start_idx': 13, 'end_idx': 17, 'type': 'ORG'}</td>\n",
       "      <td>{'word': '박정부', 'start_idx': 22, 'end_idx': 24, 'type': 'PER'}</td>\n",
       "      <td>org:top_members/employees</td>\n",
       "      <td>wikitree</td>\n",
       "    </tr>\n",
       "    <tr>\n",
       "      <th>4</th>\n",
       "      <td>4</td>\n",
       "      <td>1967년 프로 야구 드래프트 1순위로 요미우리 자이언츠에게 입단하면서 등번호는 8번으로 배정되었다.</td>\n",
       "      <td>{'word': '요미우리 자이언츠', 'start_idx': 22, 'end_idx': 30, 'type': 'ORG'}</td>\n",
       "      <td>{'word': '1967', 'start_idx': 0, 'end_idx': 3, 'type': 'DAT'}</td>\n",
       "      <td>no_relation</td>\n",
       "      <td>wikipedia</td>\n",
       "    </tr>\n",
       "    <tr>\n",
       "      <th>...</th>\n",
       "      <td>...</td>\n",
       "      <td>...</td>\n",
       "      <td>...</td>\n",
       "      <td>...</td>\n",
       "      <td>...</td>\n",
       "      <td>...</td>\n",
       "    </tr>\n",
       "    <tr>\n",
       "      <th>32465</th>\n",
       "      <td>32465</td>\n",
       "      <td>한국당은 7일 오전 9시부터 오후 5시까지 진행된 원내대표 및 정책위의장 후보자 등록 마감 결과, 강석호(3선·경북 영양·영덕·봉화·울진)-이장우(재선·대전 동구), 유기준(4선·부산 서구·동구)-박성중(초선·서울 서초을), 김선동(재선·서울 도봉을)-김종석(초선·비례), 심재철(5선·경기 안양시동안구을)-김재원(3선·경북 상주·군위·의성·청송) 등 4개 조가 등록했다고 밝혔다.</td>\n",
       "      <td>{'word': '유기준', 'start_idx': 93, 'end_idx': 95, 'type': 'PER'}</td>\n",
       "      <td>{'word': '부산 서구·동구', 'start_idx': 100, 'end_idx': 107, 'type': 'LOC'}</td>\n",
       "      <td>per:employee_of</td>\n",
       "      <td>wikitree</td>\n",
       "    </tr>\n",
       "    <tr>\n",
       "      <th>32466</th>\n",
       "      <td>32466</td>\n",
       "      <td>법포는 다시 최시형, 서병학, 손병희 직계인 북접과 다시 서장옥, 전봉준, 김개남을 지도자로 하는 남접으로 나뉘게 된다.</td>\n",
       "      <td>{'word': '최시형', 'start_idx': 7, 'end_idx': 9, 'type': 'PER'}</td>\n",
       "      <td>{'word': '손병희', 'start_idx': 17, 'end_idx': 19, 'type': 'PER'}</td>\n",
       "      <td>per:colleagues</td>\n",
       "      <td>wikipedia</td>\n",
       "    </tr>\n",
       "    <tr>\n",
       "      <th>32467</th>\n",
       "      <td>32467</td>\n",
       "      <td>완도군(군수 신우철)이 국토교통부에서 실시한 '2019 교통문화지수 실태조사'에서 229개 기초지자체 중 최상위 등급인 A등급을 받으면서 전국에서 가장 높은 교통안전 인식 수준을 갖고 있는 것으로 나타났다.</td>\n",
       "      <td>{'word': '완도군', 'start_idx': 0, 'end_idx': 2, 'type': 'ORG'}</td>\n",
       "      <td>{'word': '신우철', 'start_idx': 7, 'end_idx': 9, 'type': 'PER'}</td>\n",
       "      <td>org:top_members/employees</td>\n",
       "      <td>wikitree</td>\n",
       "    </tr>\n",
       "    <tr>\n",
       "      <th>32468</th>\n",
       "      <td>32468</td>\n",
       "      <td>중앙일보, JTBC 회장을 지낸 이후 중앙홀딩스 회장, 재단법인 한반도평화만들기 이사장, 한국기원 총재를 맡고 있다.</td>\n",
       "      <td>{'word': 'JTBC', 'start_idx': 6, 'end_idx': 9, 'type': 'ORG'}</td>\n",
       "      <td>{'word': '중앙홀딩스', 'start_idx': 21, 'end_idx': 25, 'type': 'ORG'}</td>\n",
       "      <td>no_relation</td>\n",
       "      <td>wikipedia</td>\n",
       "    </tr>\n",
       "    <tr>\n",
       "      <th>32469</th>\n",
       "      <td>32469</td>\n",
       "      <td>화순군(군수 구충곤)은 17일 동면의 이장 20여 명이 코로나 19 예방을 위해 버스 승강장, 공중화장실 등 다중이용시설과 오동리 천운아파트 주변을 소독하는 방역 봉사활동을 펼쳤다고 밝혔다.</td>\n",
       "      <td>{'word': '화순군', 'start_idx': 0, 'end_idx': 2, 'type': 'ORG'}</td>\n",
       "      <td>{'word': '구충곤', 'start_idx': 7, 'end_idx': 9, 'type': 'PER'}</td>\n",
       "      <td>org:top_members/employees</td>\n",
       "      <td>wikitree</td>\n",
       "    </tr>\n",
       "  </tbody>\n",
       "</table>\n",
       "<p>32054 rows × 6 columns</p>\n",
       "</div>"
      ],
      "text/plain": [
       "          id  \\\n",
       "0          0   \n",
       "1          1   \n",
       "2          2   \n",
       "3          3   \n",
       "4          4   \n",
       "...      ...   \n",
       "32465  32465   \n",
       "32466  32466   \n",
       "32467  32467   \n",
       "32468  32468   \n",
       "32469  32469   \n",
       "\n",
       "                                                                                                                                                                                                                    sentence  \\\n",
       "0                                                                                                                                                                〈Something〉는 조지 해리슨이 쓰고 비틀즈가 1969년 앨범 《Abbey Road》에 담은 노래다.   \n",
       "1                                                                                                                                                                     호남이 기반인 바른미래당·대안신당·민주평화당이 우여곡절 끝에 합당해 민생당(가칭)으로 재탄생한다.   \n",
       "2                                                                                                                        K리그2에서 성적 1위를 달리고 있는 광주FC는 지난 26일 한국프로축구연맹으로부터 관중 유치 성과와 마케팅 성과를 인정받아 ‘풀 스타디움상’과 ‘플러스 스타디움상’을 수상했다.   \n",
       "3                                                                                                                                             균일가 생활용품점 (주)아성다이소(대표 박정부)는 코로나19 바이러스로 어려움을 겪고 있는 대구광역시에 행복박스를 전달했다고 10일 밝혔다.   \n",
       "4                                                                                                                                                                   1967년 프로 야구 드래프트 1순위로 요미우리 자이언츠에게 입단하면서 등번호는 8번으로 배정되었다.   \n",
       "...                                                                                                                                                                                                                      ...   \n",
       "32465  한국당은 7일 오전 9시부터 오후 5시까지 진행된 원내대표 및 정책위의장 후보자 등록 마감 결과, 강석호(3선·경북 영양·영덕·봉화·울진)-이장우(재선·대전 동구), 유기준(4선·부산 서구·동구)-박성중(초선·서울 서초을), 김선동(재선·서울 도봉을)-김종석(초선·비례), 심재철(5선·경기 안양시동안구을)-김재원(3선·경북 상주·군위·의성·청송) 등 4개 조가 등록했다고 밝혔다.   \n",
       "32466                                                                                                                                                    법포는 다시 최시형, 서병학, 손병희 직계인 북접과 다시 서장옥, 전봉준, 김개남을 지도자로 하는 남접으로 나뉘게 된다.   \n",
       "32467                                                                                                    완도군(군수 신우철)이 국토교통부에서 실시한 '2019 교통문화지수 실태조사'에서 229개 기초지자체 중 최상위 등급인 A등급을 받으면서 전국에서 가장 높은 교통안전 인식 수준을 갖고 있는 것으로 나타났다.   \n",
       "32468                                                                                                                                                      중앙일보, JTBC 회장을 지낸 이후 중앙홀딩스 회장, 재단법인 한반도평화만들기 이사장, 한국기원 총재를 맡고 있다.   \n",
       "32469                                                                                                             화순군(군수 구충곤)은 17일 동면의 이장 20여 명이 코로나 19 예방을 위해 버스 승강장, 공중화장실 등 다중이용시설과 오동리 천운아파트 주변을 소독하는 방역 봉사활동을 펼쳤다고 밝혔다.   \n",
       "\n",
       "                                                             subject_entity  \\\n",
       "0            {'word': '비틀즈', 'start_idx': 24, 'end_idx': 26, 'type': 'ORG'}   \n",
       "1          {'word': '민주평화당', 'start_idx': 19, 'end_idx': 23, 'type': 'ORG'}   \n",
       "2           {'word': '광주FC', 'start_idx': 21, 'end_idx': 24, 'type': 'ORG'}   \n",
       "3          {'word': '아성다이소', 'start_idx': 13, 'end_idx': 17, 'type': 'ORG'}   \n",
       "4      {'word': '요미우리 자이언츠', 'start_idx': 22, 'end_idx': 30, 'type': 'ORG'}   \n",
       "...                                                                     ...   \n",
       "32465        {'word': '유기준', 'start_idx': 93, 'end_idx': 95, 'type': 'PER'}   \n",
       "32466          {'word': '최시형', 'start_idx': 7, 'end_idx': 9, 'type': 'PER'}   \n",
       "32467          {'word': '완도군', 'start_idx': 0, 'end_idx': 2, 'type': 'ORG'}   \n",
       "32468         {'word': 'JTBC', 'start_idx': 6, 'end_idx': 9, 'type': 'ORG'}   \n",
       "32469          {'word': '화순군', 'start_idx': 0, 'end_idx': 2, 'type': 'ORG'}   \n",
       "\n",
       "                                                               object_entity  \\\n",
       "0          {'word': '조지 해리슨', 'start_idx': 13, 'end_idx': 18, 'type': 'PER'}   \n",
       "1            {'word': '대안신당', 'start_idx': 14, 'end_idx': 17, 'type': 'ORG'}   \n",
       "2        {'word': '한국프로축구연맹', 'start_idx': 34, 'end_idx': 41, 'type': 'ORG'}   \n",
       "3             {'word': '박정부', 'start_idx': 22, 'end_idx': 24, 'type': 'PER'}   \n",
       "4              {'word': '1967', 'start_idx': 0, 'end_idx': 3, 'type': 'DAT'}   \n",
       "...                                                                      ...   \n",
       "32465  {'word': '부산 서구·동구', 'start_idx': 100, 'end_idx': 107, 'type': 'LOC'}   \n",
       "32466         {'word': '손병희', 'start_idx': 17, 'end_idx': 19, 'type': 'PER'}   \n",
       "32467           {'word': '신우철', 'start_idx': 7, 'end_idx': 9, 'type': 'PER'}   \n",
       "32468       {'word': '중앙홀딩스', 'start_idx': 21, 'end_idx': 25, 'type': 'ORG'}   \n",
       "32469           {'word': '구충곤', 'start_idx': 7, 'end_idx': 9, 'type': 'PER'}   \n",
       "\n",
       "                           label     source  \n",
       "0                    no_relation  wikipedia  \n",
       "1                    no_relation   wikitree  \n",
       "2                  org:member_of   wikitree  \n",
       "3      org:top_members/employees   wikitree  \n",
       "4                    no_relation  wikipedia  \n",
       "...                          ...        ...  \n",
       "32465            per:employee_of   wikitree  \n",
       "32466             per:colleagues  wikipedia  \n",
       "32467  org:top_members/employees   wikitree  \n",
       "32468                no_relation  wikipedia  \n",
       "32469  org:top_members/employees   wikitree  \n",
       "\n",
       "[32054 rows x 6 columns]"
      ]
     },
     "execution_count": 1239,
     "metadata": {},
     "output_type": "execute_result"
    }
   ],
   "source": [
    "df_droped"
   ]
  },
  {
   "cell_type": "code",
   "execution_count": 1270,
   "id": "02856f4d-84d9-4fb7-9e8d-9d79e3384a49",
   "metadata": {},
   "outputs": [
    {
     "name": "stdout",
     "output_type": "stream",
     "text": [
      "[43, 49, 61, 55, 38, 67, 62, 71, 89, 77, 36, 62, 128, 65, 81, 78, 102, 49, 54, 60, 36, 74, 66, 67, 45, 90, 65, 58, 38, 50, 64, 73, 146, 39, 70, 71, 46, 78, 66, 53, 36, 52, 85, 61, 116, 58, 62, 55, 150, 45, 55, 81, 57, 55, 41, 63, 53, 111, 41, 90, 51, 86, 38, 94, 61, 64, 93, 113, 48, 59, 39, 51, 56, 75, 100, 48, 73, 57, 87, 79, 47, 55, 59, 71, 72, 78, 32, 87, 91, 45, 50, 59, 76, 66, 68, 51, 38, 56, 41, 86]\n"
     ]
    }
   ],
   "source": [
    "l_withoutpad = []\n",
    "\n",
    "for tokenized_sen in tokenized_train.input_ids[:100]:\n",
    "    l_withoutpad.append(len(tokenized_sen) - list(tokenized_sen).count(1))\n",
    "\n",
    "print(l_withoutpad[:100])"
   ]
  },
  {
   "cell_type": "code",
   "execution_count": 1273,
   "id": "5e38cbd7-8b94-470a-8817-125382e3f06a",
   "metadata": {},
   "outputs": [],
   "source": [
    "# baseline 활용시 count_nonzero 를 빼줘서 길이를 구했었는데 klue/roberta-large 는 패딩이 1 으로 처리되서 문제 발생"
   ]
  },
  {
   "cell_type": "code",
   "execution_count": 1271,
   "id": "be9c0e59-f1a6-4ffd-8b62-67a8811fc142",
   "metadata": {},
   "outputs": [
    {
     "data": {
      "text/plain": [
       "[150,\n",
       " 146,\n",
       " 128,\n",
       " 116,\n",
       " 113,\n",
       " 111,\n",
       " 102,\n",
       " 100,\n",
       " 94,\n",
       " 93,\n",
       " 91,\n",
       " 90,\n",
       " 90,\n",
       " 89,\n",
       " 87,\n",
       " 87,\n",
       " 86,\n",
       " 86,\n",
       " 85,\n",
       " 81,\n",
       " 81,\n",
       " 79,\n",
       " 78,\n",
       " 78,\n",
       " 78,\n",
       " 77,\n",
       " 76,\n",
       " 75,\n",
       " 74,\n",
       " 73,\n",
       " 73,\n",
       " 72,\n",
       " 71,\n",
       " 71,\n",
       " 71,\n",
       " 70,\n",
       " 68,\n",
       " 67,\n",
       " 67,\n",
       " 66,\n",
       " 66,\n",
       " 66,\n",
       " 65,\n",
       " 65,\n",
       " 64,\n",
       " 64,\n",
       " 63,\n",
       " 62,\n",
       " 62,\n",
       " 62]"
      ]
     },
     "execution_count": 1271,
     "metadata": {},
     "output_type": "execute_result"
    }
   ],
   "source": [
    "sorted(l_withoutpad, reverse=1)[:50]"
   ]
  },
  {
   "cell_type": "code",
   "execution_count": 1262,
   "id": "3d14c660-9832-4cc5-a9ac-0c09a94d8ec2",
   "metadata": {},
   "outputs": [
    {
     "data": {
      "image/png": "[encoded data removed]",
      "text/plain": [
       "<Figure size 720x720 with 1 Axes>"
      ]
     },
     "metadata": {
      "needs_background": "light"
     },
     "output_type": "display_data"
    }
   ],
   "source": [
    "plt.figure(figsize=(10,10))\n",
    "plt.hist(l_withoutpad)\n",
    "plt.show()"
   ]
  },
  {
   "cell_type": "code",
   "execution_count": 1263,
   "id": "04da9b5f-9bc4-4c5e-99a6-09e32ef97a7a",
   "metadata": {},
   "outputs": [
    {
     "data": {
      "image/png": "[encoded data removed]",
      "text/plain": [
       "<Figure size 720x720 with 1 Axes>"
      ]
     },
     "metadata": {
      "needs_background": "light"
     },
     "output_type": "display_data"
    }
   ],
   "source": [
    "plt.figure(figsize=(10,10))\n",
    "plt.hist(df.sentence.str.len(), alpha=0.5, color='red',label = 'ori sentence len')\n",
    "plt.hist(l_withoutpad, alpha=0.5, color='blue',label = 'token len')\n",
    "plt.legend()\n",
    "plt.show()"
   ]
  },
  {
   "cell_type": "code",
   "execution_count": 1264,
   "id": "98121702-e921-4725-bb36-47fd2cacaadb",
   "metadata": {},
   "outputs": [],
   "source": [
    "tkn = pd.Series(l_withoutpad)"
   ]
  },
  {
   "cell_type": "code",
   "execution_count": 1265,
   "id": "3bb28bb7-afaf-4978-8f7c-659e5cb0f313",
   "metadata": {},
   "outputs": [
    {
     "data": {
      "text/plain": [
       "Series([], dtype: int64)"
      ]
     },
     "execution_count": 1265,
     "metadata": {},
     "output_type": "execute_result"
    }
   ],
   "source": [
    "tkn[tkn>150]"
   ]
  },
  {
   "cell_type": "code",
   "execution_count": 451,
   "id": "7a65684b-7517-4c31-b848-377ca4c15f7d",
   "metadata": {},
   "outputs": [
    {
     "data": {
      "text/plain": [
       "320"
      ]
     },
     "execution_count": 451,
     "metadata": {},
     "output_type": "execute_result"
    }
   ],
   "source": [
    "sum(tkn>150)"
   ]
  },
  {
   "cell_type": "code",
   "execution_count": 456,
   "id": "c43e91e3-31c1-4bbc-87ec-1b04ac956069",
   "metadata": {},
   "outputs": [
    {
     "data": {
      "text/plain": [
       "204            org:alternate_names\n",
       "254                    no_relation\n",
       "300      org:top_members/employees\n",
       "352                    no_relation\n",
       "532                    no_relation\n",
       "                   ...            \n",
       "31831                  no_relation\n",
       "32210                  no_relation\n",
       "32300                  no_relation\n",
       "32351                  org:members\n",
       "32400                  no_relation\n",
       "Name: label, Length: 320, dtype: object"
      ]
     },
     "execution_count": 456,
     "metadata": {},
     "output_type": "execute_result"
    }
   ],
   "source": [
    "df.label[tkn>150]"
   ]
  },
  {
   "cell_type": "code",
   "execution_count": 459,
   "id": "4dbec836-f93f-4eee-800d-8f346baca2ae",
   "metadata": {},
   "outputs": [
    {
     "data": {
      "text/plain": [
       "no_relation                        145\n",
       "per:employee_of                     34\n",
       "org:top_members/employees           22\n",
       "per:title                           19\n",
       "org:alternate_names                 18\n",
       "org:member_of                       18\n",
       "per:alternate_names                 10\n",
       "per:colleagues                       7\n",
       "per:parents                          7\n",
       "org:members                          7\n",
       "per:origin                           6\n",
       "per:children                         5\n",
       "per:spouse                           4\n",
       "per:date_of_birth                    3\n",
       "org:place_of_headquarters            3\n",
       "org:product                          2\n",
       "per:date_of_death                    2\n",
       "per:product                          2\n",
       "org:founded                          2\n",
       "per:other_family                     1\n",
       "org:number_of_employees/members      1\n",
       "per:schools_attended                 1\n",
       "per:place_of_residence               1\n",
       "Name: label, dtype: int64"
      ]
     },
     "execution_count": 459,
     "metadata": {},
     "output_type": "execute_result"
    }
   ],
   "source": [
    "df.label[tkn>150].value_counts()"
   ]
  },
  {
   "cell_type": "code",
   "execution_count": 483,
   "id": "220db68b-2622-4c66-8992-bd9a22fe1e9c",
   "metadata": {},
   "outputs": [
    {
     "data": {
      "image/png": "[encoded data removed]",
      "text/plain": [
       "<Figure size 720x720 with 1 Axes>"
      ]
     },
     "metadata": {
      "needs_background": "light"
     },
     "output_type": "display_data"
    }
   ],
   "source": [
    "plt.figure(figsize=(10,10))\n",
    "plt.barh(values.index, values, alpha=0.5, color='blue', label='labels')\n",
    "plt.barh(df.label[tkn>150].value_counts().index, df.label[tkn>150].value_counts(), \n",
    "         alpha=1, color='red', label='tkn>150 labels')\n",
    "plt.legend()\n",
    "plt.show()"
   ]
  },
  {
   "cell_type": "code",
   "execution_count": 480,
   "id": "b1cf78c1-3b36-48cb-b963-ba1c5b723871",
   "metadata": {},
   "outputs": [
    {
     "data": {
      "text/plain": [
       "23"
      ]
     },
     "execution_count": 480,
     "metadata": {},
     "output_type": "execute_result"
    }
   ],
   "source": [
    "len(df.label[tkn>150].value_counts().index)"
   ]
  },
  {
   "cell_type": "code",
   "execution_count": 488,
   "id": "39688f7f-4624-4ee0-bb18-841fbf737747",
   "metadata": {},
   "outputs": [
    {
     "data": {
      "image/png": "[encoded data removed]",
      "text/plain": [
       "<Figure size 432x288 with 2 Axes>"
      ]
     },
     "metadata": {
      "needs_background": "light"
     },
     "output_type": "display_data"
    }
   ],
   "source": [
    "fig, (ax1, ax2) = plt.subplots(1, 2, sharey=True) # 그래프 두 개를 한 figure 내에 그리기\n",
    "fig.subplots_adjust(hspace = 0.05) # 두 그래프 사이의 상하 간격 설정\n",
    "\n",
    "# 각각의 그래프 그리기\n",
    "ax1.barh(values.index, values, alpha=0.5, color='blue', label='labels')\n",
    "ax2.barh(df.label[tkn>150].value_counts().index, df.label[tkn>150].value_counts(), \n",
    "         alpha=1, color='red', label='tkn>150 labels')\n",
    "\n",
    "ax1.set_xlim(100, 120) # 윗 부분 y축 범위 설정\n",
    "ax2.set_xlim(0, 20) # 아랫 부분 y축 범위 설정\n",
    "\n",
    "plt.show()"
   ]
  },
  {
   "cell_type": "code",
   "execution_count": 495,
   "id": "a3cdde5e-7f4e-40bf-8695-35b05b24b200",
   "metadata": {},
   "outputs": [
    {
     "data": {
      "image/png": "[encoded data removed]",
      "text/plain": [
       "<Figure size 720x720 with 1 Axes>"
      ]
     },
     "metadata": {
      "needs_background": "light"
     },
     "output_type": "display_data"
    }
   ],
   "source": [
    "plt.figure(figsize=(10,10))\n",
    "plt.barh(df.label[tkn>150].value_counts().index, df.label[tkn>150].value_counts(), \n",
    "         alpha=0.5, color='red', label='tkn>150 labels')\n",
    "plt.legend()\n",
    "plt.show()"
   ]
  },
  {
   "cell_type": "code",
   "execution_count": 498,
   "id": "67d0af73-821c-41f0-8093-68ecdb0196d1",
   "metadata": {},
   "outputs": [
    {
     "data": {
      "text/plain": [
       "no_relation                        145\n",
       "per:employee_of                     34\n",
       "org:top_members/employees           22\n",
       "per:title                           19\n",
       "org:alternate_names                 18\n",
       "org:member_of                       18\n",
       "per:alternate_names                 10\n",
       "per:colleagues                       7\n",
       "per:parents                          7\n",
       "org:members                          7\n",
       "per:origin                           6\n",
       "per:children                         5\n",
       "per:spouse                           4\n",
       "per:date_of_birth                    3\n",
       "org:place_of_headquarters            3\n",
       "org:product                          2\n",
       "per:date_of_death                    2\n",
       "per:product                          2\n",
       "org:founded                          2\n",
       "per:other_family                     1\n",
       "org:number_of_employees/members      1\n",
       "per:schools_attended                 1\n",
       "per:place_of_residence               1\n",
       "Name: label, dtype: int64"
      ]
     },
     "execution_count": 498,
     "metadata": {},
     "output_type": "execute_result"
    }
   ],
   "source": [
    "df.label[tkn>150].value_counts()"
   ]
  },
  {
   "cell_type": "code",
   "execution_count": 497,
   "id": "71ae20a3-466f-48d7-83cb-7ec07e72cdf8",
   "metadata": {},
   "outputs": [
    {
     "data": {
      "text/plain": [
       "no_relation                            9534\n",
       "org:top_members/employees              4284\n",
       "per:employee_of                        3573\n",
       "per:title                              2103\n",
       "org:member_of                          1866\n",
       "org:alternate_names                    1320\n",
       "per:origin                             1234\n",
       "org:place_of_headquarters              1195\n",
       "per:date_of_birth                      1130\n",
       "per:alternate_names                    1001\n",
       "per:spouse                              795\n",
       "per:colleagues                          534\n",
       "per:parents                             520\n",
       "org:founded                             450\n",
       "org:members                             420\n",
       "per:date_of_death                       418\n",
       "org:product                             380\n",
       "per:children                            304\n",
       "per:place_of_residence                  193\n",
       "per:other_family                        190\n",
       "per:place_of_birth                      166\n",
       "org:founded_by                          155\n",
       "per:product                             139\n",
       "per:siblings                            136\n",
       "org:political/religious_affiliation      98\n",
       "per:religion                             96\n",
       "per:schools_attended                     82\n",
       "org:dissolved                            66\n",
       "org:number_of_employees/members          48\n",
       "per:place_of_death                       40\n",
       "Name: label, dtype: int64"
      ]
     },
     "execution_count": 497,
     "metadata": {},
     "output_type": "execute_result"
    }
   ],
   "source": [
    "values"
   ]
  },
  {
   "cell_type": "code",
   "execution_count": 500,
   "id": "74f350fc-009a-4dba-bd79-40610ba278fb",
   "metadata": {},
   "outputs": [
    {
     "data": {
      "text/plain": [
       "no_relation                            0.015209\n",
       "org:alternate_names                    0.013636\n",
       "org:dissolved                               NaN\n",
       "org:founded                            0.004444\n",
       "org:founded_by                              NaN\n",
       "org:member_of                          0.009646\n",
       "org:members                            0.016667\n",
       "org:number_of_employees/members        0.020833\n",
       "org:place_of_headquarters              0.002510\n",
       "org:political/religious_affiliation         NaN\n",
       "org:product                            0.005263\n",
       "org:top_members/employees              0.005135\n",
       "per:alternate_names                    0.009990\n",
       "per:children                           0.016447\n",
       "per:colleagues                         0.013109\n",
       "per:date_of_birth                      0.002655\n",
       "per:date_of_death                      0.004785\n",
       "per:employee_of                        0.009516\n",
       "per:origin                             0.004862\n",
       "per:other_family                       0.005263\n",
       "per:parents                            0.013462\n",
       "per:place_of_birth                          NaN\n",
       "per:place_of_death                          NaN\n",
       "per:place_of_residence                 0.005181\n",
       "per:product                            0.014388\n",
       "per:religion                                NaN\n",
       "per:schools_attended                   0.012195\n",
       "per:siblings                                NaN\n",
       "per:spouse                             0.005031\n",
       "per:title                              0.009035\n",
       "Name: label, dtype: float64"
      ]
     },
     "execution_count": 500,
     "metadata": {},
     "output_type": "execute_result"
    }
   ],
   "source": [
    "(df.label[tkn>150].value_counts() / values)"
   ]
  },
  {
   "cell_type": "code",
   "execution_count": 499,
   "id": "04080ab3-4e78-4987-9956-b6d16b55dbc4",
   "metadata": {},
   "outputs": [
    {
     "data": {
      "text/plain": [
       "org:dissolved                               NaN\n",
       "org:number_of_employees/members        0.020833\n",
       "org:political/religious_affiliation         NaN\n",
       "per:place_of_death                          NaN\n",
       "per:religion                                NaN\n",
       "per:schools_attended                   0.012195\n",
       "Name: label, dtype: float64"
      ]
     },
     "execution_count": 499,
     "metadata": {},
     "output_type": "execute_result"
    }
   ],
   "source": [
    "(df.label[tkn>150].value_counts() / values)[values<100]"
   ]
  },
  {
   "cell_type": "code",
   "execution_count": null,
   "id": "22488e5c-3618-46e6-a1c2-21ba5baa177a",
   "metadata": {},
   "outputs": [],
   "source": []
  },
  {
   "cell_type": "markdown",
   "id": "4335cb42-39e8-4627-961e-ffed2a1952a2",
   "metadata": {},
   "source": [
    "## 언노운 토큰 많은 문장 확인해 보기"
   ]
  },
  {
   "cell_type": "code",
   "execution_count": null,
   "id": "4cfc2a97-e7e9-4171-8096-3c1aa6a378b6",
   "metadata": {},
   "outputs": [],
   "source": []
  },
  {
   "cell_type": "markdown",
   "id": "2aa2c1dd-4aba-47fe-b8e2-0eb4b88aa42c",
   "metadata": {},
   "source": [
    "## tokenized sentence UNK 토큰 수 3개 초과한 데이터 drop 한 결과 csv 로 저장"
   ]
  },
  {
   "cell_type": "code",
   "execution_count": 901,
   "id": "32363a3a-68a1-46db-94b6-5bbea96ae5c2",
   "metadata": {},
   "outputs": [],
   "source": [
    "df_droped.to_csv('train_drop_unk_over_3.csv')"
   ]
  },
  {
   "cell_type": "code",
   "execution_count": 1274,
   "id": "c4944584-22a1-460e-94c0-24d43063fbb0",
   "metadata": {},
   "outputs": [],
   "source": [
    "from sklearn.model_selection import train_test_split\n",
    "\n",
    "data = df_droped\n",
    "target = df_droped['label']\n",
    "\n",
    "# train_test_split\n",
    "df_droped_train, df_droped_valid = train_test_split(data, test_size=0.2, shuffle=True, stratify=target, random_state=2023)"
   ]
  },
  {
   "cell_type": "code",
   "execution_count": 1275,
   "id": "91c148e1-a1f9-46ef-b040-6ed9c91b6e31",
   "metadata": {},
   "outputs": [
    {
     "name": "stdout",
     "output_type": "stream",
     "text": [
      "<class 'pandas.core.frame.DataFrame'>\n",
      "Int64Index: 25643 entries, 23908 to 8343\n",
      "Data columns (total 6 columns):\n",
      " #   Column          Non-Null Count  Dtype \n",
      "---  ------          --------------  ----- \n",
      " 0   id              25643 non-null  int64 \n",
      " 1   sentence        25643 non-null  object\n",
      " 2   subject_entity  25643 non-null  object\n",
      " 3   object_entity   25643 non-null  object\n",
      " 4   label           25643 non-null  object\n",
      " 5   source          25643 non-null  object\n",
      "dtypes: int64(1), object(5)\n",
      "memory usage: 1.4+ MB\n"
     ]
    }
   ],
   "source": [
    "df_droped_train.info()"
   ]
  },
  {
   "cell_type": "code",
   "execution_count": 1276,
   "id": "78c5f882-4117-49cc-a2e2-72b1d0cf6fce",
   "metadata": {},
   "outputs": [
    {
     "name": "stdout",
     "output_type": "stream",
     "text": [
      "<class 'pandas.core.frame.DataFrame'>\n",
      "Int64Index: 6411 entries, 10920 to 19363\n",
      "Data columns (total 6 columns):\n",
      " #   Column          Non-Null Count  Dtype \n",
      "---  ------          --------------  ----- \n",
      " 0   id              6411 non-null   int64 \n",
      " 1   sentence        6411 non-null   object\n",
      " 2   subject_entity  6411 non-null   object\n",
      " 3   object_entity   6411 non-null   object\n",
      " 4   label           6411 non-null   object\n",
      " 5   source          6411 non-null   object\n",
      "dtypes: int64(1), object(5)\n",
      "memory usage: 350.6+ KB\n"
     ]
    }
   ],
   "source": [
    "df_droped_valid.info()"
   ]
  },
  {
   "cell_type": "code",
   "execution_count": 1277,
   "id": "c6224707-a225-42b7-9062-1db6e8d78feb",
   "metadata": {},
   "outputs": [],
   "source": [
    "df_droped_train.to_csv('roberta-large_unk_3_train.csv')\n",
    "df_droped_valid.to_csv('roberta-large_unk_3_dev.csv')"
   ]
  },
  {
   "cell_type": "code",
   "execution_count": 1278,
   "id": "c185472e-a688-420d-911b-7b09f4590e49",
   "metadata": {},
   "outputs": [
    {
     "data": {
      "text/plain": [
       "no_relation                            0.200063\n",
       "org:top_members/employees              0.199953\n",
       "per:employee_of                        0.200056\n",
       "per:title                              0.200000\n",
       "org:member_of                          0.199892\n",
       "org:alternate_names                    0.200312\n",
       "per:origin                             0.200165\n",
       "org:place_of_headquarters              0.199831\n",
       "per:date_of_birth                      0.200544\n",
       "per:alternate_names                    0.200429\n",
       "per:spouse                             0.199485\n",
       "per:colleagues                         0.200000\n",
       "per:parents                            0.200000\n",
       "org:founded                            0.200000\n",
       "org:members                            0.199041\n",
       "per:date_of_death                      0.201031\n",
       "org:product                            0.200000\n",
       "per:children                           0.198630\n",
       "per:place_of_residence                 0.200000\n",
       "per:other_family                       0.197802\n",
       "per:place_of_birth                     0.202454\n",
       "org:founded_by                         0.201299\n",
       "per:product                            0.198529\n",
       "per:siblings                           0.196970\n",
       "org:political/religious_affiliation    0.204082\n",
       "per:religion                           0.200000\n",
       "per:schools_attended                   0.195122\n",
       "org:dissolved                          0.196970\n",
       "org:number_of_employees/members        0.191489\n",
       "per:place_of_death                     0.205128\n",
       "Name: label, dtype: float64"
      ]
     },
     "execution_count": 1278,
     "metadata": {},
     "output_type": "execute_result"
    }
   ],
   "source": [
    "df_droped_valid.label.value_counts()/(df_droped_train.label.value_counts()+df_droped_valid.label.value_counts())"
   ]
  },
  {
   "cell_type": "code",
   "execution_count": 954,
   "id": "cbee4da9-1e9d-4622-b74c-81586a811468",
   "metadata": {},
   "outputs": [],
   "source": [
    "def sub_obj(dataset):\n",
    "  \"\"\" 처음 불러온 csv 파일을 원하는 형태의 DataFrame으로 변경 시켜줍니다.\"\"\"\n",
    "  subject_entity = []\n",
    "  object_entity = []\n",
    "  for i,j in zip(dataset['subject_entity'], dataset['object_entity']):\n",
    "    i = i[1:-1].split(',')[0].split(':')[1].lstrip(\" '\").rstrip(\"'\")\n",
    "    j = j[1:-1].split(',')[0].split(':')[1].lstrip(\" '\").rstrip(\"'\")\n",
    "    subject_entity.append(i)\n",
    "    object_entity.append(j)\n",
    "    \n",
    "  return subject_entity, object_entity"
   ]
  },
  {
   "cell_type": "code",
   "execution_count": 955,
   "id": "67dba3ce-b557-47ac-94b5-63ef6c9fcf49",
   "metadata": {},
   "outputs": [],
   "source": [
    "df_sub, df_obj = sub_obj(df)"
   ]
  },
  {
   "cell_type": "code",
   "execution_count": 956,
   "id": "a198aa3c-53f2-4dd3-8e6d-3d754a9e5a9b",
   "metadata": {},
   "outputs": [],
   "source": [
    "df_sub = pd.Series(df_sub)"
   ]
  },
  {
   "cell_type": "code",
   "execution_count": 958,
   "id": "484980e0-d6b0-4166-af61-1e7a10c54e9a",
   "metadata": {},
   "outputs": [
    {
     "data": {
      "text/plain": [
       "0              비틀즈\n",
       "1            민주평화당\n",
       "2             광주FC\n",
       "3            아성다이소\n",
       "4        요미우리 자이언츠\n",
       "           ...    \n",
       "32465          유기준\n",
       "32466          최시형\n",
       "32467          완도군\n",
       "32468         JTBC\n",
       "32469          화순군\n",
       "Length: 32470, dtype: object"
      ]
     },
     "execution_count": 958,
     "metadata": {},
     "output_type": "execute_result"
    }
   ],
   "source": [
    "df_sub"
   ]
  },
  {
   "cell_type": "code",
   "execution_count": 959,
   "id": "6cdd3b45-f533-4eb5-a052-2f9936508b33",
   "metadata": {},
   "outputs": [],
   "source": [
    "df_obj = pd.Series(df_obj)"
   ]
  },
  {
   "cell_type": "code",
   "execution_count": 960,
   "id": "98b77170-b12c-463c-82ac-24c72380e55c",
   "metadata": {},
   "outputs": [
    {
     "data": {
      "text/plain": [
       "0          조지 해리슨\n",
       "1            대안신당\n",
       "2        한국프로축구연맹\n",
       "3             박정부\n",
       "4            1967\n",
       "           ...   \n",
       "32465    부산 서구·동구\n",
       "32466         손병희\n",
       "32467         신우철\n",
       "32468       중앙홀딩스\n",
       "32469         구충곤\n",
       "Length: 32470, dtype: object"
      ]
     },
     "execution_count": 960,
     "metadata": {},
     "output_type": "execute_result"
    }
   ],
   "source": [
    "df_obj"
   ]
  },
  {
   "cell_type": "code",
   "execution_count": 961,
   "id": "2cc50812-663c-441e-9dd2-bb4145d08963",
   "metadata": {},
   "outputs": [],
   "source": [
    "sub_in_sen = []\n",
    "obj_in_sen = []\n",
    "\n",
    "for sen, sub, obj in zip(df.sentence, df_sub, df_obj):\n",
    "    sub_in_sen.append(sen.count(sub))\n",
    "    obj_in_sen.append(sen.count(obj))"
   ]
  },
  {
   "cell_type": "code",
   "execution_count": 964,
   "id": "16042e0b-9387-4e2e-9c4e-339acf21cebe",
   "metadata": {},
   "outputs": [],
   "source": [
    "sub_in_sen = pd.Series(sub_in_sen)\n",
    "obj_in_sen = pd.Series(obj_in_sen)"
   ]
  },
  {
   "cell_type": "code",
   "execution_count": 972,
   "id": "55cf02e4-2531-4e0f-9a07-5f3511acf53f",
   "metadata": {},
   "outputs": [
    {
     "data": {
      "text/plain": [
       "3066"
      ]
     },
     "execution_count": 972,
     "metadata": {},
     "output_type": "execute_result"
    }
   ],
   "source": [
    "sum(sub_in_sen>1)"
   ]
  },
  {
   "cell_type": "code",
   "execution_count": 973,
   "id": "06699121-abae-4f52-9bf9-7320d2deb647",
   "metadata": {},
   "outputs": [],
   "source": [
    "sub_over_2 = df[sub_in_sen>1]"
   ]
  },
  {
   "cell_type": "code",
   "execution_count": 975,
   "id": "1ddcf5aa-7b1d-4aef-b5d9-7609f894e462",
   "metadata": {},
   "outputs": [
    {
     "data": {
      "text/html": [
       "<div>\n",
       "<style scoped>\n",
       "    .dataframe tbody tr th:only-of-type {\n",
       "        vertical-align: middle;\n",
       "    }\n",
       "\n",
       "    .dataframe tbody tr th {\n",
       "        vertical-align: top;\n",
       "    }\n",
       "\n",
       "    .dataframe thead th {\n",
       "        text-align: right;\n",
       "    }\n",
       "</style>\n",
       "<table border=\"1\" class=\"dataframe\">\n",
       "  <thead>\n",
       "    <tr style=\"text-align: right;\">\n",
       "      <th></th>\n",
       "      <th>id</th>\n",
       "      <th>sentence</th>\n",
       "      <th>subject_entity</th>\n",
       "      <th>object_entity</th>\n",
       "      <th>label</th>\n",
       "      <th>source</th>\n",
       "    </tr>\n",
       "  </thead>\n",
       "  <tbody>\n",
       "    <tr>\n",
       "      <th>8</th>\n",
       "      <td>8</td>\n",
       "      <td>중공군에게 온전히 대항할 수 없을 정도로 약해진 국민당은 타이베이로 수도를 옮기는 것을 결정해, 남아있는 중화민국군의 병력이나 국가, 개인의 재산등을 속속 타이완으로 옮기기 시작해, 12월에는 중앙 정부 기구도 모두 이전해 타이베이 시를 중화민국의 새로운 수도로 삼았다.</td>\n",
       "      <td>{'word': '중화민국', 'start_idx': 59, 'end_idx': 62, 'type': 'ORG'}</td>\n",
       "      <td>{'word': '타이베이', 'start_idx': 32, 'end_idx': 35, 'type': 'LOC'}</td>\n",
       "      <td>org:place_of_headquarters</td>\n",
       "      <td>wikipedia</td>\n",
       "    </tr>\n",
       "    <tr>\n",
       "      <th>23</th>\n",
       "      <td>23</td>\n",
       "      <td>스포츠계에서도 막강한 영향력을 펼치고 있어 2008년 9월 만수르 빈 자이드 알나하얀 소유의 에 맨체스터 시티 FC의 인수를 제안했고 인수 완료 후 잉글랜드 프리미어리그의 맨체스터 시티 FC의 구단주가 되었다.</td>\n",
       "      <td>{'word': '맨체스터 시티 FC', 'start_idx': 96, 'end_idx': 105, 'type': 'ORG'}</td>\n",
       "      <td>{'word': '프리미어리그', 'start_idx': 88, 'end_idx': 93, 'type': 'ORG'}</td>\n",
       "      <td>org:member_of</td>\n",
       "      <td>wikipedia</td>\n",
       "    </tr>\n",
       "    <tr>\n",
       "      <th>51</th>\n",
       "      <td>51</td>\n",
       "      <td>새정치국민회의는 한나라당 내 민주계 의원들을, 자유민주연합은 민정계 의원들을 각각 접촉하여 반란 표를 부탁했으며, 한나라당은 반대로 자유민주연합 내 충청권 의원들을 접촉하여 \"국회의장을 내주지 않으면 총리 인준도 없다\"는 식의 압박을 가했다.</td>\n",
       "      <td>{'word': '자유민주연합', 'start_idx': 26, 'end_idx': 31, 'type': 'ORG'}</td>\n",
       "      <td>{'word': '한나라당', 'start_idx': 9, 'end_idx': 12, 'type': 'ORG'}</td>\n",
       "      <td>no_relation</td>\n",
       "      <td>wikipedia</td>\n",
       "    </tr>\n",
       "    <tr>\n",
       "      <th>61</th>\n",
       "      <td>61</td>\n",
       "      <td>한편 서정성 예비후보는 문재인 대통령직속 국가균형발전위원회 국민소통 특별위원과 더불어민주당 국민통합위원회 부위원장으로 활동하며 문재인 정부의 소통 창구 역할과 더불어 광주 남구의사회장, 아이안과 대표원장 및 민족화해협력범국민협의회 의료보건위원장으로 활동하고 있다.</td>\n",
       "      <td>{'word': '문재인', 'start_idx': 71, 'end_idx': 73, 'type': 'PER'}</td>\n",
       "      <td>{'word': '더불어민주당', 'start_idx': 44, 'end_idx': 49, 'type': 'ORG'}</td>\n",
       "      <td>no_relation</td>\n",
       "      <td>wikitree</td>\n",
       "    </tr>\n",
       "    <tr>\n",
       "      <th>65</th>\n",
       "      <td>65</td>\n",
       "      <td>김종식 목포시장을 비롯한 목포시청 직원 150여명은 2020학년도 대학수학능력시험이 치러진 14일 아침 목포마리아회고등학교를 비롯한 7개 시험장을 찾아 수험생을 응원하고 학부모를 격려했다.</td>\n",
       "      <td>{'word': '목포시', 'start_idx': 14, 'end_idx': 16, 'type': 'ORG'}</td>\n",
       "      <td>{'word': '김종식', 'start_idx': 0, 'end_idx': 2, 'type': 'PER'}</td>\n",
       "      <td>org:top_members/employees</td>\n",
       "      <td>wikitree</td>\n",
       "    </tr>\n",
       "    <tr>\n",
       "      <th>...</th>\n",
       "      <td>...</td>\n",
       "      <td>...</td>\n",
       "      <td>...</td>\n",
       "      <td>...</td>\n",
       "      <td>...</td>\n",
       "      <td>...</td>\n",
       "    </tr>\n",
       "    <tr>\n",
       "      <th>32416</th>\n",
       "      <td>32416</td>\n",
       "      <td>광주ㆍ호남 지역에서 신세계백화점과 이마트를 운영하는 별도의 법인으로, 신세계ㆍ이마트 계열사지만 직접 자회사로 포함되지는 않고 현지에서 별도로 운영된다.</td>\n",
       "      <td>{'word': '신세계', 'start_idx': 11, 'end_idx': 13, 'type': 'ORG'}</td>\n",
       "      <td>{'word': '이마트', 'start_idx': 19, 'end_idx': 21, 'type': 'ORG'}</td>\n",
       "      <td>no_relation</td>\n",
       "      <td>wikipedia</td>\n",
       "    </tr>\n",
       "    <tr>\n",
       "      <th>32417</th>\n",
       "      <td>32417</td>\n",
       "      <td>강원도 평창군은 오는 28일부터 내년 2월 2일까지 평창군 진부면 오대천 일원에서 송어축제를 진행한다.</td>\n",
       "      <td>{'word': '평창군', 'start_idx': 4, 'end_idx': 6, 'type': 'ORG'}</td>\n",
       "      <td>{'word': '강원도', 'start_idx': 0, 'end_idx': 2, 'type': 'LOC'}</td>\n",
       "      <td>org:member_of</td>\n",
       "      <td>wikitree</td>\n",
       "    </tr>\n",
       "    <tr>\n",
       "      <th>32420</th>\n",
       "      <td>32420</td>\n",
       "      <td>그러나 김양상의 친형제로 보기는 어렵고 사촌형제라고 보기도 어려운데, 이는 삼국사기, 삼국유사의 원성왕조에 보면 원성왕 즉위 후 선덕왕의 할아버지인 원훈의 사당을 폐쇄한 기록이 있다.</td>\n",
       "      <td>{'word': '원성왕', 'start_idx': 63, 'end_idx': 65, 'type': 'PER'}</td>\n",
       "      <td>{'word': '선덕왕', 'start_idx': 72, 'end_idx': 74, 'type': 'PER'}</td>\n",
       "      <td>per:other_family</td>\n",
       "      <td>wikipedia</td>\n",
       "    </tr>\n",
       "    <tr>\n",
       "      <th>32429</th>\n",
       "      <td>32429</td>\n",
       "      <td>다른 아들 고종후 역시 상중에 기복하여 다시 의병을 이끌고 진주성에서 싸우다가, 패하고 강물에 투신하여 자결했다. 고종후는 승정원도승지에 추증되었다.</td>\n",
       "      <td>{'word': '고종후', 'start_idx': 6, 'end_idx': 8, 'type': 'PER'}</td>\n",
       "      <td>{'word': '진주성', 'start_idx': 33, 'end_idx': 35, 'type': 'POH'}</td>\n",
       "      <td>no_relation</td>\n",
       "      <td>wikipedia</td>\n",
       "    </tr>\n",
       "    <tr>\n",
       "      <th>32439</th>\n",
       "      <td>32439</td>\n",
       "      <td>서울 영등포구에 위치한 웨딩홀에서 진행된 이날 행사에는 김재겸 롯데홈쇼핑 지원본부장, 채현일 영등포구청장, 정진원 영등포구사회복지협의회 회장을 비롯한 관계자들이 참석했다.</td>\n",
       "      <td>{'word': '영등포구', 'start_idx': 64, 'end_idx': 67, 'type': 'ORG'}</td>\n",
       "      <td>{'word': '채현일', 'start_idx': 48, 'end_idx': 50, 'type': 'PER'}</td>\n",
       "      <td>org:top_members/employees</td>\n",
       "      <td>wikitree</td>\n",
       "    </tr>\n",
       "  </tbody>\n",
       "</table>\n",
       "<p>3066 rows × 6 columns</p>\n",
       "</div>"
      ],
      "text/plain": [
       "          id  \\\n",
       "8          8   \n",
       "23        23   \n",
       "51        51   \n",
       "61        61   \n",
       "65        65   \n",
       "...      ...   \n",
       "32416  32416   \n",
       "32417  32417   \n",
       "32420  32420   \n",
       "32429  32429   \n",
       "32439  32439   \n",
       "\n",
       "                                                                                                                                                      sentence  \\\n",
       "8      중공군에게 온전히 대항할 수 없을 정도로 약해진 국민당은 타이베이로 수도를 옮기는 것을 결정해, 남아있는 중화민국군의 병력이나 국가, 개인의 재산등을 속속 타이완으로 옮기기 시작해, 12월에는 중앙 정부 기구도 모두 이전해 타이베이 시를 중화민국의 새로운 수도로 삼았다.   \n",
       "23                                       스포츠계에서도 막강한 영향력을 펼치고 있어 2008년 9월 만수르 빈 자이드 알나하얀 소유의 에 맨체스터 시티 FC의 인수를 제안했고 인수 완료 후 잉글랜드 프리미어리그의 맨체스터 시티 FC의 구단주가 되었다.   \n",
       "51                     새정치국민회의는 한나라당 내 민주계 의원들을, 자유민주연합은 민정계 의원들을 각각 접촉하여 반란 표를 부탁했으며, 한나라당은 반대로 자유민주연합 내 충청권 의원들을 접촉하여 \"국회의장을 내주지 않으면 총리 인준도 없다\"는 식의 압박을 가했다.   \n",
       "61         한편 서정성 예비후보는 문재인 대통령직속 국가균형발전위원회 국민소통 특별위원과 더불어민주당 국민통합위원회 부위원장으로 활동하며 문재인 정부의 소통 창구 역할과 더불어 광주 남구의사회장, 아이안과 대표원장 및 민족화해협력범국민협의회 의료보건위원장으로 활동하고 있다.   \n",
       "65                                                   김종식 목포시장을 비롯한 목포시청 직원 150여명은 2020학년도 대학수학능력시험이 치러진 14일 아침 목포마리아회고등학교를 비롯한 7개 시험장을 찾아 수험생을 응원하고 학부모를 격려했다.   \n",
       "...                                                                                                                                                        ...   \n",
       "32416                                                                     광주ㆍ호남 지역에서 신세계백화점과 이마트를 운영하는 별도의 법인으로, 신세계ㆍ이마트 계열사지만 직접 자회사로 포함되지는 않고 현지에서 별도로 운영된다.   \n",
       "32417                                                                                                강원도 평창군은 오는 28일부터 내년 2월 2일까지 평창군 진부면 오대천 일원에서 송어축제를 진행한다.   \n",
       "32420                                                   그러나 김양상의 친형제로 보기는 어렵고 사촌형제라고 보기도 어려운데, 이는 삼국사기, 삼국유사의 원성왕조에 보면 원성왕 즉위 후 선덕왕의 할아버지인 원훈의 사당을 폐쇄한 기록이 있다.   \n",
       "32429                                                                      다른 아들 고종후 역시 상중에 기복하여 다시 의병을 이끌고 진주성에서 싸우다가, 패하고 강물에 투신하여 자결했다. 고종후는 승정원도승지에 추증되었다.   \n",
       "32439                                                          서울 영등포구에 위치한 웨딩홀에서 진행된 이날 행사에는 김재겸 롯데홈쇼핑 지원본부장, 채현일 영등포구청장, 정진원 영등포구사회복지협의회 회장을 비롯한 관계자들이 참석했다.   \n",
       "\n",
       "                                                               subject_entity  \\\n",
       "8             {'word': '중화민국', 'start_idx': 59, 'end_idx': 62, 'type': 'ORG'}   \n",
       "23     {'word': '맨체스터 시티 FC', 'start_idx': 96, 'end_idx': 105, 'type': 'ORG'}   \n",
       "51          {'word': '자유민주연합', 'start_idx': 26, 'end_idx': 31, 'type': 'ORG'}   \n",
       "61             {'word': '문재인', 'start_idx': 71, 'end_idx': 73, 'type': 'PER'}   \n",
       "65             {'word': '목포시', 'start_idx': 14, 'end_idx': 16, 'type': 'ORG'}   \n",
       "...                                                                       ...   \n",
       "32416          {'word': '신세계', 'start_idx': 11, 'end_idx': 13, 'type': 'ORG'}   \n",
       "32417            {'word': '평창군', 'start_idx': 4, 'end_idx': 6, 'type': 'ORG'}   \n",
       "32420          {'word': '원성왕', 'start_idx': 63, 'end_idx': 65, 'type': 'PER'}   \n",
       "32429            {'word': '고종후', 'start_idx': 6, 'end_idx': 8, 'type': 'PER'}   \n",
       "32439         {'word': '영등포구', 'start_idx': 64, 'end_idx': 67, 'type': 'ORG'}   \n",
       "\n",
       "                                                           object_entity  \\\n",
       "8        {'word': '타이베이', 'start_idx': 32, 'end_idx': 35, 'type': 'LOC'}   \n",
       "23     {'word': '프리미어리그', 'start_idx': 88, 'end_idx': 93, 'type': 'ORG'}   \n",
       "51        {'word': '한나라당', 'start_idx': 9, 'end_idx': 12, 'type': 'ORG'}   \n",
       "61     {'word': '더불어민주당', 'start_idx': 44, 'end_idx': 49, 'type': 'ORG'}   \n",
       "65          {'word': '김종식', 'start_idx': 0, 'end_idx': 2, 'type': 'PER'}   \n",
       "...                                                                  ...   \n",
       "32416     {'word': '이마트', 'start_idx': 19, 'end_idx': 21, 'type': 'ORG'}   \n",
       "32417       {'word': '강원도', 'start_idx': 0, 'end_idx': 2, 'type': 'LOC'}   \n",
       "32420     {'word': '선덕왕', 'start_idx': 72, 'end_idx': 74, 'type': 'PER'}   \n",
       "32429     {'word': '진주성', 'start_idx': 33, 'end_idx': 35, 'type': 'POH'}   \n",
       "32439     {'word': '채현일', 'start_idx': 48, 'end_idx': 50, 'type': 'PER'}   \n",
       "\n",
       "                           label     source  \n",
       "8      org:place_of_headquarters  wikipedia  \n",
       "23                 org:member_of  wikipedia  \n",
       "51                   no_relation  wikipedia  \n",
       "61                   no_relation   wikitree  \n",
       "65     org:top_members/employees   wikitree  \n",
       "...                          ...        ...  \n",
       "32416                no_relation  wikipedia  \n",
       "32417              org:member_of   wikitree  \n",
       "32420           per:other_family  wikipedia  \n",
       "32429                no_relation  wikipedia  \n",
       "32439  org:top_members/employees   wikitree  \n",
       "\n",
       "[3066 rows x 6 columns]"
      ]
     },
     "execution_count": 975,
     "metadata": {},
     "output_type": "execute_result"
    }
   ],
   "source": [
    "sub_over_2"
   ]
  },
  {
   "cell_type": "code",
   "execution_count": 1158,
   "id": "36c83305-7f25-4eb3-9151-38d73ba77017",
   "metadata": {},
   "outputs": [],
   "source": [
    "subject_start = []\n",
    "subject_end = []\n",
    "subject_type = []\n",
    "\n",
    "for i in df['subject_entity']:\n",
    "    i = int(i[1:-1].split(\"'start_idx': \")[1].split(',')[0])\n",
    "\n",
    "    subject_start.append(i)\n",
    "\n",
    "for j in df['subject_entity']:\n",
    "    j = int(j[1:-1].split(\"'end_idx': \")[1].split(',')[0])+1\n",
    "\n",
    "    subject_end.append(j)\n",
    "    \n",
    "for k in df['subject_entity']:\n",
    "    k = str(k[1:-1].split(\"'type': \")[1][1:4])\n",
    "\n",
    "    subject_type.append(k)\n",
    "    \n",
    "subject_start = pd.Series(subject_start)\n",
    "subject_end = pd.Series(subject_end)\n",
    "subject_type = pd.Series(subject_type)"
   ]
  },
  {
   "cell_type": "code",
   "execution_count": 1159,
   "id": "dd2288d9-afa9-4266-ac41-65381253bc26",
   "metadata": {},
   "outputs": [],
   "source": [
    "df_sub_position = pd.DataFrame({'subject_start':subject_start, 'subject_end':subject_end, 'subject_type':subject_type})"
   ]
  },
  {
   "cell_type": "code",
   "execution_count": 1160,
   "id": "6a6fc1bf-9265-48e1-bef6-d7046b6a53c7",
   "metadata": {},
   "outputs": [
    {
     "data": {
      "text/html": [
       "<div>\n",
       "<style scoped>\n",
       "    .dataframe tbody tr th:only-of-type {\n",
       "        vertical-align: middle;\n",
       "    }\n",
       "\n",
       "    .dataframe tbody tr th {\n",
       "        vertical-align: top;\n",
       "    }\n",
       "\n",
       "    .dataframe thead th {\n",
       "        text-align: right;\n",
       "    }\n",
       "</style>\n",
       "<table border=\"1\" class=\"dataframe\">\n",
       "  <thead>\n",
       "    <tr style=\"text-align: right;\">\n",
       "      <th></th>\n",
       "      <th>subject_start</th>\n",
       "      <th>subject_end</th>\n",
       "      <th>subject_type</th>\n",
       "    </tr>\n",
       "  </thead>\n",
       "  <tbody>\n",
       "    <tr>\n",
       "      <th>0</th>\n",
       "      <td>24</td>\n",
       "      <td>27</td>\n",
       "      <td>ORG</td>\n",
       "    </tr>\n",
       "    <tr>\n",
       "      <th>1</th>\n",
       "      <td>19</td>\n",
       "      <td>24</td>\n",
       "      <td>ORG</td>\n",
       "    </tr>\n",
       "    <tr>\n",
       "      <th>2</th>\n",
       "      <td>21</td>\n",
       "      <td>25</td>\n",
       "      <td>ORG</td>\n",
       "    </tr>\n",
       "    <tr>\n",
       "      <th>3</th>\n",
       "      <td>13</td>\n",
       "      <td>18</td>\n",
       "      <td>ORG</td>\n",
       "    </tr>\n",
       "    <tr>\n",
       "      <th>4</th>\n",
       "      <td>22</td>\n",
       "      <td>31</td>\n",
       "      <td>ORG</td>\n",
       "    </tr>\n",
       "    <tr>\n",
       "      <th>...</th>\n",
       "      <td>...</td>\n",
       "      <td>...</td>\n",
       "      <td>...</td>\n",
       "    </tr>\n",
       "    <tr>\n",
       "      <th>32465</th>\n",
       "      <td>93</td>\n",
       "      <td>96</td>\n",
       "      <td>PER</td>\n",
       "    </tr>\n",
       "    <tr>\n",
       "      <th>32466</th>\n",
       "      <td>7</td>\n",
       "      <td>10</td>\n",
       "      <td>PER</td>\n",
       "    </tr>\n",
       "    <tr>\n",
       "      <th>32467</th>\n",
       "      <td>0</td>\n",
       "      <td>3</td>\n",
       "      <td>ORG</td>\n",
       "    </tr>\n",
       "    <tr>\n",
       "      <th>32468</th>\n",
       "      <td>6</td>\n",
       "      <td>10</td>\n",
       "      <td>ORG</td>\n",
       "    </tr>\n",
       "    <tr>\n",
       "      <th>32469</th>\n",
       "      <td>0</td>\n",
       "      <td>3</td>\n",
       "      <td>ORG</td>\n",
       "    </tr>\n",
       "  </tbody>\n",
       "</table>\n",
       "<p>32470 rows × 3 columns</p>\n",
       "</div>"
      ],
      "text/plain": [
       "       subject_start  subject_end subject_type\n",
       "0                 24           27          ORG\n",
       "1                 19           24          ORG\n",
       "2                 21           25          ORG\n",
       "3                 13           18          ORG\n",
       "4                 22           31          ORG\n",
       "...              ...          ...          ...\n",
       "32465             93           96          PER\n",
       "32466              7           10          PER\n",
       "32467              0            3          ORG\n",
       "32468              6           10          ORG\n",
       "32469              0            3          ORG\n",
       "\n",
       "[32470 rows x 3 columns]"
      ]
     },
     "execution_count": 1160,
     "metadata": {},
     "output_type": "execute_result"
    }
   ],
   "source": [
    "df_sub_position"
   ]
  },
  {
   "cell_type": "code",
   "execution_count": 1089,
   "id": "13491103-bf48-4287-9386-b65c02468ee9",
   "metadata": {},
   "outputs": [],
   "source": [
    "sub = []\n",
    "\n",
    "for sen, i, j in zip(df.sentence, df_sub_position.subject_start, df_sub_position.subject_end):\n",
    "    sub.append(sen[i:j])"
   ]
  },
  {
   "cell_type": "code",
   "execution_count": 1090,
   "id": "5ad6baf3-9ad0-435b-a1d2-314d7807bd36",
   "metadata": {},
   "outputs": [],
   "source": [
    "sub = pd.Series(sub)"
   ]
  },
  {
   "cell_type": "code",
   "execution_count": 1091,
   "id": "13810325-8c4a-4b94-b9c4-3ba8480e0be2",
   "metadata": {},
   "outputs": [
    {
     "data": {
      "text/plain": [
       "0              비틀즈\n",
       "1            민주평화당\n",
       "2             광주FC\n",
       "3            아성다이소\n",
       "4        요미우리 자이언츠\n",
       "           ...    \n",
       "32465          유기준\n",
       "32466          최시형\n",
       "32467          완도군\n",
       "32468         JTBC\n",
       "32469          화순군\n",
       "Length: 32470, dtype: object"
      ]
     },
     "execution_count": 1091,
     "metadata": {},
     "output_type": "execute_result"
    }
   ],
   "source": [
    "sub"
   ]
  },
  {
   "cell_type": "code",
   "execution_count": 1171,
   "id": "6277927b-2e58-4d3a-8db1-b3c875f83bfa",
   "metadata": {},
   "outputs": [],
   "source": [
    "object_start = []\n",
    "object_end = []\n",
    "object_type = []\n",
    "\n",
    "for i in df['object_entity']:\n",
    "    i = int(i[1:-1].split(\"'start_idx': \")[1].split(',')[0])\n",
    "\n",
    "    object_start.append(i)\n",
    "\n",
    "for j in df['object_entity']:\n",
    "    j = int(j[1:-1].split(\"'end_idx': \")[1].split(',')[0])+1\n",
    "\n",
    "    object_end.append(j)\n",
    "    \n",
    "for k in df['object_entity']:\n",
    "    k = str(k[1:-1].split(\"'type': \")[1][1:4])\n",
    "\n",
    "    object_type.append(k)\n",
    "    \n",
    "object_start = pd.Series(object_start)\n",
    "object_end = pd.Series(object_end)\n",
    "object_type = pd.Series(object_type)"
   ]
  },
  {
   "cell_type": "code",
   "execution_count": 1172,
   "id": "7ba8c074-358e-4c86-8896-558b0cc20e77",
   "metadata": {},
   "outputs": [],
   "source": [
    "df_obj_position = pd.DataFrame({'object_start':object_start, 'object_end':object_end, 'object_type':object_type})"
   ]
  },
  {
   "cell_type": "code",
   "execution_count": 1173,
   "id": "876b9701-c9f4-40c7-980e-3fea3a72c8cf",
   "metadata": {},
   "outputs": [],
   "source": [
    "obj = []\n",
    "\n",
    "for sen, i, j in zip(df.sentence, df_obj_position.object_start, df_obj_position.object_end):\n",
    "    obj.append(sen[i:j])"
   ]
  },
  {
   "cell_type": "code",
   "execution_count": 1174,
   "id": "cc235e8a-fa1a-45dd-b803-a4e6f53fbdc4",
   "metadata": {},
   "outputs": [],
   "source": [
    "obj = pd.Series(obj)"
   ]
  },
  {
   "cell_type": "code",
   "execution_count": 1175,
   "id": "e6f44e2a-971a-4042-b3a7-58646aea2003",
   "metadata": {},
   "outputs": [
    {
     "data": {
      "text/plain": [
       "0          조지 해리슨\n",
       "1            대안신당\n",
       "2        한국프로축구연맹\n",
       "3             박정부\n",
       "4            1967\n",
       "           ...   \n",
       "32465    부산 서구·동구\n",
       "32466         손병희\n",
       "32467         신우철\n",
       "32468       중앙홀딩스\n",
       "32469         구충곤\n",
       "Length: 32470, dtype: object"
      ]
     },
     "execution_count": 1175,
     "metadata": {},
     "output_type": "execute_result"
    }
   ],
   "source": [
    "obj"
   ]
  },
  {
   "cell_type": "code",
   "execution_count": 1181,
   "id": "5583f434-72ca-48fc-baa0-c19fd820ae73",
   "metadata": {},
   "outputs": [],
   "source": [
    "replace_sub = []\n",
    "\n",
    "for sen, i, j, k, word in zip(df.sentence, df_sub_position.subject_start, df_sub_position.subject_end, df_sub_position.subject_type, sub):\n",
    "    replace_sub.append(sen[:i]+f'@ {k} '+word+' @'+sen[j:])\n",
    "    \n",
    "replace_sub = pd.Series(replace_sub)"
   ]
  },
  {
   "cell_type": "code",
   "execution_count": 1182,
   "id": "49b230e2-150d-4815-912a-a464fbd2119d",
   "metadata": {},
   "outputs": [
    {
     "data": {
      "text/plain": [
       "0                                                                                                                                                                  〈Something〉는 조지 해리슨이 쓰고 @ ORG 비틀즈 @가 1969년 앨범 《Abbey Road》에 담은 노래다.\n",
       "1                                                                                                                                                                       호남이 기반인 바른미래당·대안신당·@ ORG 민주평화당 @이 우여곡절 끝에 합당해 민생당(가칭)으로 재탄생한다.\n",
       "2                                                                                                                          K리그2에서 성적 1위를 달리고 있는 @ ORG 광주FC @는 지난 26일 한국프로축구연맹으로부터 관중 유치 성과와 마케팅 성과를 인정받아 ‘풀 스타디움상’과 ‘플러스 스타디움상’을 수상했다.\n",
       "3                                                                                                                                               균일가 생활용품점 (주)@ ORG 아성다이소 @(대표 박정부)는 코로나19 바이러스로 어려움을 겪고 있는 대구광역시에 행복박스를 전달했다고 10일 밝혔다.\n",
       "4                                                                                                                                                                     1967년 프로 야구 드래프트 1순위로 @ ORG 요미우리 자이언츠 @에게 입단하면서 등번호는 8번으로 배정되었다.\n",
       "                                                                                                                     ...                                                                                                              \n",
       "32465    한국당은 7일 오전 9시부터 오후 5시까지 진행된 원내대표 및 정책위의장 후보자 등록 마감 결과, 강석호(3선·경북 영양·영덕·봉화·울진)-이장우(재선·대전 동구), @ PER 유기준 @(4선·부산 서구·동구)-박성중(초선·서울 서초을), 김선동(재선·서울 도봉을)-김종석(초선·비례), 심재철(5선·경기 안양시동안구을)-김재원(3선·경북 상주·군위·의성·청송) 등 4개 조가 등록했다고 밝혔다.\n",
       "32466                                                                                                                                                      법포는 다시 @ PER 최시형 @, 서병학, 손병희 직계인 북접과 다시 서장옥, 전봉준, 김개남을 지도자로 하는 남접으로 나뉘게 된다.\n",
       "32467                                                                                                      @ ORG 완도군 @(군수 신우철)이 국토교통부에서 실시한 '2019 교통문화지수 실태조사'에서 229개 기초지자체 중 최상위 등급인 A등급을 받으면서 전국에서 가장 높은 교통안전 인식 수준을 갖고 있는 것으로 나타났다.\n",
       "32468                                                                                                                                                        중앙일보, @ ORG JTBC @ 회장을 지낸 이후 중앙홀딩스 회장, 재단법인 한반도평화만들기 이사장, 한국기원 총재를 맡고 있다.\n",
       "32469                                                                                                               @ ORG 화순군 @(군수 구충곤)은 17일 동면의 이장 20여 명이 코로나 19 예방을 위해 버스 승강장, 공중화장실 등 다중이용시설과 오동리 천운아파트 주변을 소독하는 방역 봉사활동을 펼쳤다고 밝혔다.\n",
       "Length: 32470, dtype: object"
      ]
     },
     "execution_count": 1182,
     "metadata": {},
     "output_type": "execute_result"
    }
   ],
   "source": [
    "replace_sub"
   ]
  },
  {
   "cell_type": "code",
   "execution_count": 1185,
   "id": "aa697f49-17fb-4444-8272-b28df2e74a64",
   "metadata": {},
   "outputs": [],
   "source": [
    "replace_sub_obj = []\n",
    "\n",
    "for sen, i, j, k, word in zip(replace_sub, df_obj_position.object_start, df_obj_position.object_end, df_obj_position.object_type, obj):\n",
    "    if sen[i:j]==word:\n",
    "        replace_sub_obj.append(sen[:i]+f'# {k} '+word+' #'+sen[j:])\n",
    "    else:\n",
    "        replace_sub_obj.append(sen[:i+8]+f'# {k} '+word+' #'+sen[j+8:])\n",
    "    \n",
    "replace_sub_obj = pd.Series(replace_sub_obj)"
   ]
  },
  {
   "cell_type": "code",
   "execution_count": 1186,
   "id": "be1dc52c-302f-4623-932d-d5bb902461d0",
   "metadata": {},
   "outputs": [
    {
     "data": {
      "text/plain": [
       "0                                                                                                                                                                  〈Something〉는 # PER 조지 해리슨 #이 쓰고 @ ORG 비틀즈 @가 1969년 앨범 《Abbey Road》에 담은 노래다.\n",
       "1                                                                                                                                                                       호남이 기반인 바른미래당·# ORG 대안신당 #·@ ORG 민주평화당 @이 우여곡절 끝에 합당해 민생당(가칭)으로 재탄생한다.\n",
       "2                                                                                                                          K리그2에서 성적 1위를 달리고 있는 @ ORG 광주FC @는 지난 26일 # ORG 한국프로축구연맹 #으로부터 관중 유치 성과와 마케팅 성과를 인정받아 ‘풀 스타디움상’과 ‘플러스 스타디움상’을 수상했다.\n",
       "3                                                                                                                                               균일가 생활용품점 (주)@ ORG 아성다이소 @(대표 # PER 박정부 #)는 코로나19 바이러스로 어려움을 겪고 있는 대구광역시에 행복박스를 전달했다고 10일 밝혔다.\n",
       "4                                                                                                                                                                     # DAT 1967 #년 프로 야구 드래프트 1순위로 @ ORG 요미우리 자이언츠 @에게 입단하면서 등번호는 8번으로 배정되었다.\n",
       "                                                                                                                         ...                                                                                                                  \n",
       "32465    한국당은 7일 오전 9시부터 오후 5시까지 진행된 원내대표 및 정책위의장 후보자 등록 마감 결과, 강석호(3선·경북 영양·영덕·봉화·울진)-이장우(재선·대전 동구), @ PER 유기준 @(4선·# LOC 부산 서구·동구 #)-박성중(초선·서울 서초을), 김선동(재선·서울 도봉을)-김종석(초선·비례), 심재철(5선·경기 안양시동안구을)-김재원(3선·경북 상주·군위·의성·청송) 등 4개 조가 등록했다고 밝혔다.\n",
       "32466                                                                                                                                                      법포는 다시 @ PER 최시형 @, 서병학, # PER 손병희 # 직계인 북접과 다시 서장옥, 전봉준, 김개남을 지도자로 하는 남접으로 나뉘게 된다.\n",
       "32467                                                                                                      @ ORG 완도군 @(군수 # PER 신우철 #)이 국토교통부에서 실시한 '2019 교통문화지수 실태조사'에서 229개 기초지자체 중 최상위 등급인 A등급을 받으면서 전국에서 가장 높은 교통안전 인식 수준을 갖고 있는 것으로 나타났다.\n",
       "32468                                                                                                                                                        중앙일보, @ ORG JTBC @ 회장을 지낸 이후 # ORG 중앙홀딩스 # 회장, 재단법인 한반도평화만들기 이사장, 한국기원 총재를 맡고 있다.\n",
       "32469                                                                                                               @ ORG 화순군 @(군수 # PER 구충곤 #)은 17일 동면의 이장 20여 명이 코로나 19 예방을 위해 버스 승강장, 공중화장실 등 다중이용시설과 오동리 천운아파트 주변을 소독하는 방역 봉사활동을 펼쳤다고 밝혔다.\n",
       "Length: 32470, dtype: object"
      ]
     },
     "execution_count": 1186,
     "metadata": {},
     "output_type": "execute_result"
    }
   ],
   "source": [
    "replace_sub_obj"
   ]
  },
  {
   "cell_type": "code",
   "execution_count": 1187,
   "id": "b4d3a407-8d81-4280-b3ab-08464f9704b2",
   "metadata": {},
   "outputs": [],
   "source": [
    "df_label = df.label"
   ]
  },
  {
   "cell_type": "code",
   "execution_count": 1188,
   "id": "07650c65-56df-46c6-9a88-6d94bb6e1ce2",
   "metadata": {},
   "outputs": [
    {
     "data": {
      "text/plain": [
       "0                      no_relation\n",
       "1                      no_relation\n",
       "2                    org:member_of\n",
       "3        org:top_members/employees\n",
       "4                      no_relation\n",
       "                   ...            \n",
       "32465              per:employee_of\n",
       "32466               per:colleagues\n",
       "32467    org:top_members/employees\n",
       "32468                  no_relation\n",
       "32469    org:top_members/employees\n",
       "Name: label, Length: 32470, dtype: object"
      ]
     },
     "execution_count": 1188,
     "metadata": {},
     "output_type": "execute_result"
    }
   ],
   "source": [
    "df_label"
   ]
  },
  {
   "cell_type": "code",
   "execution_count": 1189,
   "id": "ef519408-07b5-4e32-bdf2-00cd5bce1bb2",
   "metadata": {},
   "outputs": [
    {
     "data": {
      "text/plain": [
       "pandas.core.series.Series"
      ]
     },
     "execution_count": 1189,
     "metadata": {},
     "output_type": "execute_result"
    }
   ],
   "source": [
    "type(df_label)"
   ]
  },
  {
   "cell_type": "code",
   "execution_count": 1190,
   "id": "f0876206-adea-469d-bdaf-d3b0f287528e",
   "metadata": {},
   "outputs": [],
   "source": [
    "df_replace_sub_obj = pd.DataFrame({'id':df.index, 'sentence':replace_sub_obj, 'label':df_label})"
   ]
  },
  {
   "cell_type": "code",
   "execution_count": 1282,
   "id": "f6fa2331-da24-48b1-9bd5-0f62a01e83af",
   "metadata": {},
   "outputs": [
    {
     "data": {
      "text/html": [
       "<div>\n",
       "<style scoped>\n",
       "    .dataframe tbody tr th:only-of-type {\n",
       "        vertical-align: middle;\n",
       "    }\n",
       "\n",
       "    .dataframe tbody tr th {\n",
       "        vertical-align: top;\n",
       "    }\n",
       "\n",
       "    .dataframe thead th {\n",
       "        text-align: right;\n",
       "    }\n",
       "</style>\n",
       "<table border=\"1\" class=\"dataframe\">\n",
       "  <thead>\n",
       "    <tr style=\"text-align: right;\">\n",
       "      <th></th>\n",
       "      <th>id</th>\n",
       "      <th>sentence</th>\n",
       "      <th>label</th>\n",
       "    </tr>\n",
       "  </thead>\n",
       "  <tbody>\n",
       "    <tr>\n",
       "      <th>0</th>\n",
       "      <td>0</td>\n",
       "      <td>〈Something〉는 # PER 조지 해리슨 #이 쓰고 @ ORG 비틀즈 @가 1969년 앨범 《Abbey Road》에 담은 노래다.</td>\n",
       "      <td>no_relation</td>\n",
       "    </tr>\n",
       "    <tr>\n",
       "      <th>1</th>\n",
       "      <td>1</td>\n",
       "      <td>호남이 기반인 바른미래당·# ORG 대안신당 #·@ ORG 민주평화당 @이 우여곡절 끝에 합당해 민생당(가칭)으로 재탄생한다.</td>\n",
       "      <td>no_relation</td>\n",
       "    </tr>\n",
       "    <tr>\n",
       "      <th>2</th>\n",
       "      <td>2</td>\n",
       "      <td>K리그2에서 성적 1위를 달리고 있는 @ ORG 광주FC @는 지난 26일 # ORG 한국프로축구연맹 #으로부터 관중 유치 성과와 마케팅 성과를 인정받아 ‘풀 스타디움상’과 ‘플러스 스타디움상’을 수상했다.</td>\n",
       "      <td>org:member_of</td>\n",
       "    </tr>\n",
       "    <tr>\n",
       "      <th>3</th>\n",
       "      <td>3</td>\n",
       "      <td>균일가 생활용품점 (주)@ ORG 아성다이소 @(대표 # PER 박정부 #)는 코로나19 바이러스로 어려움을 겪고 있는 대구광역시에 행복박스를 전달했다고 10일 밝혔다.</td>\n",
       "      <td>org:top_members/employees</td>\n",
       "    </tr>\n",
       "    <tr>\n",
       "      <th>4</th>\n",
       "      <td>4</td>\n",
       "      <td># DAT 1967 #년 프로 야구 드래프트 1순위로 @ ORG 요미우리 자이언츠 @에게 입단하면서 등번호는 8번으로 배정되었다.</td>\n",
       "      <td>no_relation</td>\n",
       "    </tr>\n",
       "    <tr>\n",
       "      <th>...</th>\n",
       "      <td>...</td>\n",
       "      <td>...</td>\n",
       "      <td>...</td>\n",
       "    </tr>\n",
       "    <tr>\n",
       "      <th>32465</th>\n",
       "      <td>32465</td>\n",
       "      <td>한국당은 7일 오전 9시부터 오후 5시까지 진행된 원내대표 및 정책위의장 후보자 등록 마감 결과, 강석호(3선·경북 영양·영덕·봉화·울진)-이장우(재선·대전 동구), @ PER 유기준 @(4선·# LOC 부산 서구·동구 #)-박성중(초선·서울 서초을), 김선동(재선·서울 도봉을)-김종석(초선·비례), 심재철(5선·경기 안양시동안구을)-김재원(3선·경북 상주·군위·의성·청송) 등 4개 조가 등록했다고 밝혔다.</td>\n",
       "      <td>per:employee_of</td>\n",
       "    </tr>\n",
       "    <tr>\n",
       "      <th>32466</th>\n",
       "      <td>32466</td>\n",
       "      <td>법포는 다시 @ PER 최시형 @, 서병학, # PER 손병희 # 직계인 북접과 다시 서장옥, 전봉준, 김개남을 지도자로 하는 남접으로 나뉘게 된다.</td>\n",
       "      <td>per:colleagues</td>\n",
       "    </tr>\n",
       "    <tr>\n",
       "      <th>32467</th>\n",
       "      <td>32467</td>\n",
       "      <td>@ ORG 완도군 @(군수 # PER 신우철 #)이 국토교통부에서 실시한 '2019 교통문화지수 실태조사'에서 229개 기초지자체 중 최상위 등급인 A등급을 받으면서 전국에서 가장 높은 교통안전 인식 수준을 갖고 있는 것으로 나타났다.</td>\n",
       "      <td>org:top_members/employees</td>\n",
       "    </tr>\n",
       "    <tr>\n",
       "      <th>32468</th>\n",
       "      <td>32468</td>\n",
       "      <td>중앙일보, @ ORG JTBC @ 회장을 지낸 이후 # ORG 중앙홀딩스 # 회장, 재단법인 한반도평화만들기 이사장, 한국기원 총재를 맡고 있다.</td>\n",
       "      <td>no_relation</td>\n",
       "    </tr>\n",
       "    <tr>\n",
       "      <th>32469</th>\n",
       "      <td>32469</td>\n",
       "      <td>@ ORG 화순군 @(군수 # PER 구충곤 #)은 17일 동면의 이장 20여 명이 코로나 19 예방을 위해 버스 승강장, 공중화장실 등 다중이용시설과 오동리 천운아파트 주변을 소독하는 방역 봉사활동을 펼쳤다고 밝혔다.</td>\n",
       "      <td>org:top_members/employees</td>\n",
       "    </tr>\n",
       "  </tbody>\n",
       "</table>\n",
       "<p>32470 rows × 3 columns</p>\n",
       "</div>"
      ],
      "text/plain": [
       "          id  \\\n",
       "0          0   \n",
       "1          1   \n",
       "2          2   \n",
       "3          3   \n",
       "4          4   \n",
       "...      ...   \n",
       "32465  32465   \n",
       "32466  32466   \n",
       "32467  32467   \n",
       "32468  32468   \n",
       "32469  32469   \n",
       "\n",
       "                                                                                                                                                                                                                                    sentence  \\\n",
       "0                                                                                                                                                                〈Something〉는 # PER 조지 해리슨 #이 쓰고 @ ORG 비틀즈 @가 1969년 앨범 《Abbey Road》에 담은 노래다.   \n",
       "1                                                                                                                                                                     호남이 기반인 바른미래당·# ORG 대안신당 #·@ ORG 민주평화당 @이 우여곡절 끝에 합당해 민생당(가칭)으로 재탄생한다.   \n",
       "2                                                                                                                        K리그2에서 성적 1위를 달리고 있는 @ ORG 광주FC @는 지난 26일 # ORG 한국프로축구연맹 #으로부터 관중 유치 성과와 마케팅 성과를 인정받아 ‘풀 스타디움상’과 ‘플러스 스타디움상’을 수상했다.   \n",
       "3                                                                                                                                             균일가 생활용품점 (주)@ ORG 아성다이소 @(대표 # PER 박정부 #)는 코로나19 바이러스로 어려움을 겪고 있는 대구광역시에 행복박스를 전달했다고 10일 밝혔다.   \n",
       "4                                                                                                                                                                   # DAT 1967 #년 프로 야구 드래프트 1순위로 @ ORG 요미우리 자이언츠 @에게 입단하면서 등번호는 8번으로 배정되었다.   \n",
       "...                                                                                                                                                                                                                                      ...   \n",
       "32465  한국당은 7일 오전 9시부터 오후 5시까지 진행된 원내대표 및 정책위의장 후보자 등록 마감 결과, 강석호(3선·경북 영양·영덕·봉화·울진)-이장우(재선·대전 동구), @ PER 유기준 @(4선·# LOC 부산 서구·동구 #)-박성중(초선·서울 서초을), 김선동(재선·서울 도봉을)-김종석(초선·비례), 심재철(5선·경기 안양시동안구을)-김재원(3선·경북 상주·군위·의성·청송) 등 4개 조가 등록했다고 밝혔다.   \n",
       "32466                                                                                                                                                    법포는 다시 @ PER 최시형 @, 서병학, # PER 손병희 # 직계인 북접과 다시 서장옥, 전봉준, 김개남을 지도자로 하는 남접으로 나뉘게 된다.   \n",
       "32467                                                                                                    @ ORG 완도군 @(군수 # PER 신우철 #)이 국토교통부에서 실시한 '2019 교통문화지수 실태조사'에서 229개 기초지자체 중 최상위 등급인 A등급을 받으면서 전국에서 가장 높은 교통안전 인식 수준을 갖고 있는 것으로 나타났다.   \n",
       "32468                                                                                                                                                      중앙일보, @ ORG JTBC @ 회장을 지낸 이후 # ORG 중앙홀딩스 # 회장, 재단법인 한반도평화만들기 이사장, 한국기원 총재를 맡고 있다.   \n",
       "32469                                                                                                             @ ORG 화순군 @(군수 # PER 구충곤 #)은 17일 동면의 이장 20여 명이 코로나 19 예방을 위해 버스 승강장, 공중화장실 등 다중이용시설과 오동리 천운아파트 주변을 소독하는 방역 봉사활동을 펼쳤다고 밝혔다.   \n",
       "\n",
       "                           label  \n",
       "0                    no_relation  \n",
       "1                    no_relation  \n",
       "2                  org:member_of  \n",
       "3      org:top_members/employees  \n",
       "4                    no_relation  \n",
       "...                          ...  \n",
       "32465            per:employee_of  \n",
       "32466             per:colleagues  \n",
       "32467  org:top_members/employees  \n",
       "32468                no_relation  \n",
       "32469  org:top_members/employees  \n",
       "\n",
       "[32470 rows x 3 columns]"
      ]
     },
     "execution_count": 1282,
     "metadata": {},
     "output_type": "execute_result"
    }
   ],
   "source": [
    "df_replace_sub_obj"
   ]
  },
  {
   "cell_type": "code",
   "execution_count": 1192,
   "id": "10dab81d-28fe-442f-8354-c0bf2569ad6c",
   "metadata": {},
   "outputs": [],
   "source": [
    "data = df_replace_sub_obj\n",
    "target = df_replace_sub_obj['label']\n",
    "\n",
    "# train_test_split\n",
    "df_replace_sub_obj_train, df_replace_sub_obj_valid = train_test_split(data, test_size=0.2, shuffle=True, stratify=target, random_state=2023)\n",
    "\n",
    "df_replace_sub_obj_train.to_csv('replace_sub_obj_type_train.csv')\n",
    "df_replace_sub_obj_valid.to_csv('replace_sub_obj_type_dev.csv')"
   ]
  },
  {
   "cell_type": "code",
   "execution_count": 1132,
   "id": "8ac655c7-6570-4e97-8b62-c0a551815a3d",
   "metadata": {},
   "outputs": [],
   "source": [
    "sub_type = []\n",
    "for i in df.subject_entity:\n",
    "    sub_type.append(i[-5:-2])\n",
    "    \n",
    "sub_type = pd.Series(sub_type)"
   ]
  },
  {
   "cell_type": "code",
   "execution_count": 1135,
   "id": "dafcfc35-dbfb-4a98-a760-b22c2123df18",
   "metadata": {},
   "outputs": [
    {
     "data": {
      "text/plain": [
       "PER    16786\n",
       "ORG    15684\n",
       "dtype: int64"
      ]
     },
     "execution_count": 1135,
     "metadata": {},
     "output_type": "execute_result"
    }
   ],
   "source": [
    "sub_type.value_counts()"
   ]
  },
  {
   "cell_type": "code",
   "execution_count": 1136,
   "id": "5d4131a8-11ca-4326-b79f-dd96b57c821b",
   "metadata": {},
   "outputs": [],
   "source": [
    "obj_type = []\n",
    "for i in df.object_entity:\n",
    "    obj_type.append(i[-5:-2])\n",
    "    \n",
    "obj_type = pd.Series(obj_type)"
   ]
  },
  {
   "cell_type": "code",
   "execution_count": 1137,
   "id": "985bec2e-044b-42dd-8356-477b97ea5b58",
   "metadata": {},
   "outputs": [
    {
     "data": {
      "text/plain": [
       "PER    9788\n",
       "ORG    9346\n",
       "POH    5113\n",
       "DAT    4249\n",
       "LOC    3561\n",
       "NOH     413\n",
       "dtype: int64"
      ]
     },
     "execution_count": 1137,
     "metadata": {},
     "output_type": "execute_result"
    }
   ],
   "source": [
    "obj_type.value_counts()"
   ]
  },
  {
   "cell_type": "code",
   "execution_count": 1152,
   "id": "d213155d-0778-4131-a065-594e8889beba",
   "metadata": {},
   "outputs": [],
   "source": [
    "test = pd.read_csv('../dataset/test/test_data.csv')"
   ]
  },
  {
   "cell_type": "markdown",
   "id": "8b915e16-e77a-4626-8bf2-6ae6417bf90b",
   "metadata": {
    "tags": []
   },
   "source": [
    "## \\@ type entity \\@ 에서 UNK > 3 인 행 삭제한 데이터 생성"
   ]
  },
  {
   "cell_type": "code",
   "execution_count": 1284,
   "id": "264c105d-da30-47f1-8d0e-574fda06031b",
   "metadata": {},
   "outputs": [],
   "source": [
    "df_replace_sub_obj_droped = df_replace_sub_obj.drop(labels=df.index[(input_ids_pd==3).sum(axis=1)>3], axis=0)"
   ]
  },
  {
   "cell_type": "code",
   "execution_count": 1285,
   "id": "a8637c7a-1025-469f-acf4-4e70ca60a4d6",
   "metadata": {},
   "outputs": [
    {
     "data": {
      "text/plain": [
       "id                                                                                                                4658\n",
       "sentence    @ ORG 하이트진로 @(대표 # PER 김인규 #)가 지난해 11월 싱가포르에 이어 미국에서 본격적으로 해외 기업설명회(NDR: Non-Deal Roadshow)에 나선다고 18일 밝혔다.\n",
       "label                                                                                        org:top_members/employees\n",
       "Name: 4658, dtype: object"
      ]
     },
     "execution_count": 1285,
     "metadata": {},
     "output_type": "execute_result"
    }
   ],
   "source": [
    "df_replace_sub_obj_droped.iloc[4597]"
   ]
  },
  {
   "cell_type": "code",
   "execution_count": 1286,
   "id": "59b47064-c58f-49e5-84d2-46faf157476f",
   "metadata": {},
   "outputs": [],
   "source": [
    "data = df_replace_sub_obj_droped\n",
    "target = df_replace_sub_obj_droped['label']\n",
    "\n",
    "# train_test_split\n",
    "df_replace_sub_obj_droped_train, df_replace_sub_obj_droped_valid = train_test_split(data, test_size=0.2, shuffle=True, stratify=target, random_state=2023)\n",
    "\n",
    "df_replace_sub_obj_droped_train.to_csv('replace_and_drop_train.csv')\n",
    "df_replace_sub_obj_droped_valid.to_csv('replace_and_drop_dev.csv')"
   ]
  },
  {
   "cell_type": "code",
   "execution_count": null,
   "id": "428e9f58-02e5-47b5-8c5e-00aac07faf50",
   "metadata": {},
   "outputs": [],
   "source": []
  }
 ],
 "metadata": {
  "kernelspec": {
   "display_name": "Python 3 (ipykernel)",
   "language": "python",
   "name": "python3"
  },
  "language_info": {
   "codemirror_mode": {
    "name": "ipython",
    "version": 3
   },
   "file_extension": ".py",
   "mimetype": "text/x-python",
   "name": "python",
   "nbconvert_exporter": "python",
   "pygments_lexer": "ipython3",
   "version": "3.8.5"
  }
 },
 "nbformat": 4,
 "nbformat_minor": 5
}
