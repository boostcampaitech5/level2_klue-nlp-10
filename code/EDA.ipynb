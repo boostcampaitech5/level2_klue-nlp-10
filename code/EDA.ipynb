{
 "cells": [
  {
   "cell_type": "code",
   "execution_count": 2,
   "metadata": {},
   "outputs": [],
   "source": [
    "import numpy as np\n",
    "import pandas as pd\n",
    "import matplotlib.pyplot as plt"
   ]
  },
  {
   "cell_type": "code",
   "execution_count": 49,
   "metadata": {},
   "outputs": [],
   "source": [
    "df = pd.read_csv('../data/train.csv')"
   ]
  },
  {
   "cell_type": "code",
   "execution_count": 61,
   "metadata": {},
   "outputs": [
    {
     "data": {
      "text/html": [
       "<div>\n",
       "<style scoped>\n",
       "    .dataframe tbody tr th:only-of-type {\n",
       "        vertical-align: middle;\n",
       "    }\n",
       "\n",
       "    .dataframe tbody tr th {\n",
       "        vertical-align: top;\n",
       "    }\n",
       "\n",
       "    .dataframe thead th {\n",
       "        text-align: right;\n",
       "    }\n",
       "</style>\n",
       "<table border=\"1\" class=\"dataframe\">\n",
       "  <thead>\n",
       "    <tr style=\"text-align: right;\">\n",
       "      <th></th>\n",
       "      <th>ID</th>\n",
       "      <th>input_text</th>\n",
       "      <th>label_text</th>\n",
       "      <th>target</th>\n",
       "      <th>predefined_news_category</th>\n",
       "      <th>annotations</th>\n",
       "      <th>url</th>\n",
       "      <th>date</th>\n",
       "    </tr>\n",
       "  </thead>\n",
       "  <tbody>\n",
       "    <tr>\n",
       "      <th>6954</th>\n",
       "      <td>ynat-v1_train_06035</td>\n",
       "      <td>美경제 감속…GDP 증가율 1분기 3.1%→2분기 2.1%종합</td>\n",
       "      <td>World</td>\n",
       "      <td>4</td>\n",
       "      <td>세계</td>\n",
       "      <td>{'annotators': ['16', '07', '08'], 'annotation...</td>\n",
       "      <td>https://news.naver.com/main/read.nhn?mode=LS2D...</td>\n",
       "      <td>2019.07.26. 오후 11:36</td>\n",
       "    </tr>\n",
       "    <tr>\n",
       "      <th>13778</th>\n",
       "      <td>ynat-v1_train_11992</td>\n",
       "      <td>카톡 메시지 송·수신 일시 지연…시스템 과부하종합</td>\n",
       "      <td>IT/Science</td>\n",
       "      <td>5</td>\n",
       "      <td>IT과학</td>\n",
       "      <td>{'annotators': ['08', '12', '02'], 'annotation...</td>\n",
       "      <td>https://news.naver.com/main/read.nhn?mode=LS2D...</td>\n",
       "      <td>2017.02.13. 오후 4:08</td>\n",
       "    </tr>\n",
       "    <tr>\n",
       "      <th>35314</th>\n",
       "      <td>ynat-v1_train_30728</td>\n",
       "      <td>4.27 남북정상회담 1주년 학술회의</td>\n",
       "      <td>Politics</td>\n",
       "      <td>0</td>\n",
       "      <td>사회</td>\n",
       "      <td>{'annotators': ['08', '02', '07'], 'annotation...</td>\n",
       "      <td>https://news.naver.com/main/read.nhn?mode=LS2D...</td>\n",
       "      <td>2019.04.24. 오후 2:52</td>\n",
       "    </tr>\n",
       "    <tr>\n",
       "      <th>25803</th>\n",
       "      <td>ynat-v1_train_22470</td>\n",
       "      <td>랜섬웨어 공포 ② 내 컴퓨터 어떻게 지키나…보안 기본원칙 충실해야</td>\n",
       "      <td>IT/Science</td>\n",
       "      <td>5</td>\n",
       "      <td>IT과학</td>\n",
       "      <td>{'annotators': ['07', '16', '13'], 'annotation...</td>\n",
       "      <td>https://news.naver.com/main/read.nhn?mode=LS2D...</td>\n",
       "      <td>2017.06.18. 오후 1:00</td>\n",
       "    </tr>\n",
       "    <tr>\n",
       "      <th>17752</th>\n",
       "      <td>ynat-v1_train_15455</td>\n",
       "      <td>伊 난민 구조 NGO에 벌금 부과 추진…1인당 최대 730만원</td>\n",
       "      <td>World</td>\n",
       "      <td>4</td>\n",
       "      <td>세계</td>\n",
       "      <td>{'annotators': ['16', '07', '10'], 'annotation...</td>\n",
       "      <td>https://news.naver.com/main/read.nhn?mode=LS2D...</td>\n",
       "      <td>2019.05.14. 오전 11:59</td>\n",
       "    </tr>\n",
       "  </tbody>\n",
       "</table>\n",
       "</div>"
      ],
      "text/plain": [
       "                        ID                            input_text  label_text   \n",
       "6954   ynat-v1_train_06035    美경제 감속…GDP 증가율 1분기 3.1%→2분기 2.1%종합       World  \\\n",
       "13778  ynat-v1_train_11992           카톡 메시지 송·수신 일시 지연…시스템 과부하종합  IT/Science   \n",
       "35314  ynat-v1_train_30728                  4.27 남북정상회담 1주년 학술회의    Politics   \n",
       "25803  ynat-v1_train_22470  랜섬웨어 공포 ② 내 컴퓨터 어떻게 지키나…보안 기본원칙 충실해야  IT/Science   \n",
       "17752  ynat-v1_train_15455    伊 난민 구조 NGO에 벌금 부과 추진…1인당 최대 730만원       World   \n",
       "\n",
       "       target predefined_news_category   \n",
       "6954        4                       세계  \\\n",
       "13778       5                     IT과학   \n",
       "35314       0                       사회   \n",
       "25803       5                     IT과학   \n",
       "17752       4                       세계   \n",
       "\n",
       "                                             annotations   \n",
       "6954   {'annotators': ['16', '07', '08'], 'annotation...  \\\n",
       "13778  {'annotators': ['08', '12', '02'], 'annotation...   \n",
       "35314  {'annotators': ['08', '02', '07'], 'annotation...   \n",
       "25803  {'annotators': ['07', '16', '13'], 'annotation...   \n",
       "17752  {'annotators': ['16', '07', '10'], 'annotation...   \n",
       "\n",
       "                                                     url                  date  \n",
       "6954   https://news.naver.com/main/read.nhn?mode=LS2D...  2019.07.26. 오후 11:36  \n",
       "13778  https://news.naver.com/main/read.nhn?mode=LS2D...   2017.02.13. 오후 4:08  \n",
       "35314  https://news.naver.com/main/read.nhn?mode=LS2D...   2019.04.24. 오후 2:52  \n",
       "25803  https://news.naver.com/main/read.nhn?mode=LS2D...   2017.06.18. 오후 1:00  \n",
       "17752  https://news.naver.com/main/read.nhn?mode=LS2D...  2019.05.14. 오전 11:59  "
      ]
     },
     "execution_count": 61,
     "metadata": {},
     "output_type": "execute_result"
    }
   ],
   "source": [
    "df.sample(5)"
   ]
  },
  {
   "cell_type": "code",
   "execution_count": 36,
   "metadata": {},
   "outputs": [],
   "source": [
    "# drop duplicates by input_text\n",
    "df = df.drop_duplicates(subset=['input_text'])"
   ]
  },
  {
   "cell_type": "code",
   "execution_count": 41,
   "metadata": {},
   "outputs": [
    {
     "data": {
      "text/plain": [
       "array(['생활문화', '사회', 'IT과학', '스포츠', '세계', '정치', '경제'], dtype=object)"
      ]
     },
     "execution_count": 41,
     "metadata": {},
     "output_type": "execute_result"
    }
   ],
   "source": [
    "df.label_text.unique()"
   ]
  },
  {
   "cell_type": "code",
   "execution_count": 42,
   "metadata": {},
   "outputs": [],
   "source": [
    "col_to_eng = {\n",
    "    \"생활문화\" : \"Culture\",\n",
    "    \"정치\" : \"Politics\",\n",
    "    \"경제\" : \"Economy\",\n",
    "    \"IT과학\" : \"IT/Science\",\n",
    "    \"사회\" : \"Society\",\n",
    "    \"스포츠\" : \"Sports\",\n",
    "    \"세계\" : \"World\",\n",
    "}"
   ]
  },
  {
   "cell_type": "code",
   "execution_count": 56,
   "metadata": {},
   "outputs": [],
   "source": [
    "df.label_text = df.label_text.map(lambda x: col_to_eng[x])"
   ]
  },
  {
   "cell_type": "code",
   "execution_count": 58,
   "metadata": {},
   "outputs": [
    {
     "data": {
      "text/plain": [
       "<Axes: xlabel='label_text'>"
      ]
     },
     "execution_count": 58,
     "metadata": {},
     "output_type": "execute_result"
    },
    {
     "data": {
      "image/png": "[encoded data removed]",
      "text/plain": [
       "<Figure size 640x480 with 1 Axes>"
      ]
     },
     "metadata": {},
     "output_type": "display_data"
    }
   ],
   "source": [
    "df.label_text.value_counts().plot(kind='bar')"
   ]
  },
  {
   "cell_type": "code",
   "execution_count": 64,
   "metadata": {},
   "outputs": [],
   "source": [
    "# find unique anotator\n",
    "df.annotations = df.annotations.map(lambda x: eval(x))"
   ]
  },
  {
   "cell_type": "code",
   "execution_count": 65,
   "metadata": {},
   "outputs": [
    {
     "data": {
      "text/plain": [
       "{'annotators': ['08', '13', '07'],\n",
       " 'annotations': {'first-scope': ['생활문화', '생활문화', 'IT과학'],\n",
       "  'second-scope': ['IT과학', '해당없음', '해당없음'],\n",
       "  'third-scope': ['해당없음', '해당없음', '해당없음']}}"
      ]
     },
     "execution_count": 65,
     "metadata": {},
     "output_type": "execute_result"
    }
   ],
   "source": [
    "df.annotations[0]"
   ]
  },
  {
   "cell_type": "code",
   "execution_count": null,
   "metadata": {},
   "outputs": [],
   "source": []
  }
 ],
 "metadata": {
  "kernelspec": {
   "display_name": "base",
   "language": "python",
   "name": "python3"
  },
  "language_info": {
   "codemirror_mode": {
    "name": "ipython",
    "version": 3
   },
   "file_extension": ".py",
   "mimetype": "text/x-python",
   "name": "python",
   "nbconvert_exporter": "python",
   "pygments_lexer": "ipython3",
   "version": "3.8.5"
  },
  "orig_nbformat": 4
 },
 "nbformat": 4,
 "nbformat_minor": 2
}
