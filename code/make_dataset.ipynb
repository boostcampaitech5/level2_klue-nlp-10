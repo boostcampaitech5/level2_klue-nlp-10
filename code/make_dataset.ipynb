{
 "cells": [
  {
   "cell_type": "markdown",
   "id": "ad950a36-168c-470d-9ad5-9bc101b319e8",
   "metadata": {},
   "source": [
    "# 데이터셋 만드는 부분만 추려놓은 코드"
   ]
  },
  {
   "cell_type": "markdown",
   "id": "34f80c3c-de8a-4b49-afff-e17a5269b460",
   "metadata": {},
   "source": [
    "## entity 앞뒤에 @, # 으로 표시, type 삽입"
   ]
  },
  {
   "cell_type": "code",
   "execution_count": 145,
   "id": "374c6695-64b7-44c8-aea9-9826edb172e3",
   "metadata": {},
   "outputs": [],
   "source": [
    "import pandas as pd\n",
    "import numpy as np\n",
    "import matplotlib.pyplot as plt\n",
    "import seaborn as sns"
   ]
  },
  {
   "cell_type": "code",
   "execution_count": 146,
   "id": "ce6dacd6-39ec-4060-a36e-cf125a81c045",
   "metadata": {},
   "outputs": [],
   "source": [
    "pd.set_option('display.max_colwidth', None)"
   ]
  },
  {
   "cell_type": "markdown",
   "id": "ab894670-55e1-4ae6-813a-7aadf8df236b",
   "metadata": {
    "tags": []
   },
   "source": [
    "### test data"
   ]
  },
  {
   "cell_type": "code",
   "execution_count": 166,
   "id": "063dbf53-903d-410e-92cf-818bd58424e1",
   "metadata": {},
   "outputs": [],
   "source": [
    "df = pd.read_csv('../dataset/test/test_data.csv')"
   ]
  },
  {
   "cell_type": "code",
   "execution_count": 167,
   "id": "12324f6f-224e-44ff-a330-b63e97f5c627",
   "metadata": {},
   "outputs": [],
   "source": [
    "# subject_entity index 와 타입을 받아서 DataFrame 에 저장\n",
    "\n",
    "subject_start = []\n",
    "subject_end = []\n",
    "subject_type = []\n",
    "\n",
    "for i in df['subject_entity']:\n",
    "    i = int(i[1:-1].split(\"'start_idx': \")[1].split(',')[0])\n",
    "\n",
    "    subject_start.append(i)\n",
    "\n",
    "for j in df['subject_entity']:\n",
    "    j = int(j[1:-1].split(\"'end_idx': \")[1].split(',')[0])+1\n",
    "\n",
    "    subject_end.append(j)\n",
    "    \n",
    "for k in df['subject_entity']:\n",
    "    k = str(k[1:-1].split(\"'type': \")[1][1:4])\n",
    "\n",
    "    subject_type.append(k)\n",
    "    \n",
    "subject_start = pd.Series(subject_start)\n",
    "subject_end = pd.Series(subject_end)\n",
    "subject_type = pd.Series(subject_type)\n",
    "\n",
    "df_sub_position = pd.DataFrame({'subject_start':subject_start, 'subject_end':subject_end, 'subject_type':subject_type})"
   ]
  },
  {
   "cell_type": "code",
   "execution_count": 168,
   "id": "a98ba881-d3c1-4bbf-8a7f-f8b9c4875fa7",
   "metadata": {
    "tags": []
   },
   "outputs": [
    {
     "data": {
      "text/html": [
       "<div>\n",
       "<style scoped>\n",
       "    .dataframe tbody tr th:only-of-type {\n",
       "        vertical-align: middle;\n",
       "    }\n",
       "\n",
       "    .dataframe tbody tr th {\n",
       "        vertical-align: top;\n",
       "    }\n",
       "\n",
       "    .dataframe thead th {\n",
       "        text-align: right;\n",
       "    }\n",
       "</style>\n",
       "<table border=\"1\" class=\"dataframe\">\n",
       "  <thead>\n",
       "    <tr style=\"text-align: right;\">\n",
       "      <th></th>\n",
       "      <th>subject_start</th>\n",
       "      <th>subject_end</th>\n",
       "      <th>subject_type</th>\n",
       "    </tr>\n",
       "  </thead>\n",
       "  <tbody>\n",
       "    <tr>\n",
       "      <th>0</th>\n",
       "      <td>7</td>\n",
       "      <td>10</td>\n",
       "      <td>ORG</td>\n",
       "    </tr>\n",
       "    <tr>\n",
       "      <th>1</th>\n",
       "      <td>7</td>\n",
       "      <td>14</td>\n",
       "      <td>PER</td>\n",
       "    </tr>\n",
       "    <tr>\n",
       "      <th>2</th>\n",
       "      <td>121</td>\n",
       "      <td>123</td>\n",
       "      <td>ORG</td>\n",
       "    </tr>\n",
       "    <tr>\n",
       "      <th>3</th>\n",
       "      <td>78</td>\n",
       "      <td>80</td>\n",
       "      <td>PER</td>\n",
       "    </tr>\n",
       "    <tr>\n",
       "      <th>4</th>\n",
       "      <td>3</td>\n",
       "      <td>6</td>\n",
       "      <td>ORG</td>\n",
       "    </tr>\n",
       "    <tr>\n",
       "      <th>...</th>\n",
       "      <td>...</td>\n",
       "      <td>...</td>\n",
       "      <td>...</td>\n",
       "    </tr>\n",
       "    <tr>\n",
       "      <th>7760</th>\n",
       "      <td>33</td>\n",
       "      <td>35</td>\n",
       "      <td>ORG</td>\n",
       "    </tr>\n",
       "    <tr>\n",
       "      <th>7761</th>\n",
       "      <td>133</td>\n",
       "      <td>136</td>\n",
       "      <td>ORG</td>\n",
       "    </tr>\n",
       "    <tr>\n",
       "      <th>7762</th>\n",
       "      <td>0</td>\n",
       "      <td>8</td>\n",
       "      <td>ORG</td>\n",
       "    </tr>\n",
       "    <tr>\n",
       "      <th>7763</th>\n",
       "      <td>6</td>\n",
       "      <td>13</td>\n",
       "      <td>PER</td>\n",
       "    </tr>\n",
       "    <tr>\n",
       "      <th>7764</th>\n",
       "      <td>0</td>\n",
       "      <td>3</td>\n",
       "      <td>PER</td>\n",
       "    </tr>\n",
       "  </tbody>\n",
       "</table>\n",
       "<p>7765 rows × 3 columns</p>\n",
       "</div>"
      ],
      "text/plain": [
       "      subject_start  subject_end subject_type\n",
       "0                 7           10          ORG\n",
       "1                 7           14          PER\n",
       "2               121          123          ORG\n",
       "3                78           80          PER\n",
       "4                 3            6          ORG\n",
       "...             ...          ...          ...\n",
       "7760             33           35          ORG\n",
       "7761            133          136          ORG\n",
       "7762              0            8          ORG\n",
       "7763              6           13          PER\n",
       "7764              0            3          PER\n",
       "\n",
       "[7765 rows x 3 columns]"
      ]
     },
     "execution_count": 168,
     "metadata": {},
     "output_type": "execute_result"
    }
   ],
   "source": [
    "df_sub_position"
   ]
  },
  {
   "cell_type": "code",
   "execution_count": 169,
   "id": "74c10391-54a5-4b8d-a65a-a0a63ebeae89",
   "metadata": {},
   "outputs": [],
   "source": [
    "# subject_entity 단어 확인\n",
    "\n",
    "sub = []\n",
    "\n",
    "for sen, i, j in zip(df.sentence, df_sub_position.subject_start, df_sub_position.subject_end):\n",
    "    sub.append(sen[i:j])"
   ]
  },
  {
   "cell_type": "code",
   "execution_count": 170,
   "id": "d798c84a-8d2f-42f0-8f11-6b01b031a177",
   "metadata": {},
   "outputs": [],
   "source": [
    "sub = pd.Series(sub)"
   ]
  },
  {
   "cell_type": "code",
   "execution_count": 171,
   "id": "94fd5b77-55b1-4129-83af-1235749072ef",
   "metadata": {
    "tags": []
   },
   "outputs": [
    {
     "data": {
      "text/plain": [
       "0            MBC\n",
       "1        프린세스 프링\n",
       "2             경찰\n",
       "3             세조\n",
       "4            민주당\n",
       "          ...   \n",
       "7760          정부\n",
       "7761         종근당\n",
       "7762    한국전기안전공사\n",
       "7763     B. 슈나이더\n",
       "7764         이승옥\n",
       "Length: 7765, dtype: object"
      ]
     },
     "execution_count": 171,
     "metadata": {},
     "output_type": "execute_result"
    }
   ],
   "source": [
    "sub"
   ]
  },
  {
   "cell_type": "code",
   "execution_count": 172,
   "id": "c96aaafa-b676-4acb-a988-c1fc4126026c",
   "metadata": {},
   "outputs": [],
   "source": [
    "# object_entity index 와 타입을 받아서 DataFrame 에 저장\n",
    "\n",
    "object_start = []\n",
    "object_end = []\n",
    "object_type = []\n",
    "\n",
    "for i in df['object_entity']:\n",
    "    i = int(i[1:-1].split(\"'start_idx': \")[1].split(',')[0])\n",
    "\n",
    "    object_start.append(i)\n",
    "\n",
    "for j in df['object_entity']:\n",
    "    j = int(j[1:-1].split(\"'end_idx': \")[1].split(',')[0])+1\n",
    "\n",
    "    object_end.append(j)\n",
    "    \n",
    "for k in df['object_entity']:\n",
    "    k = str(k[1:-1].split(\"'type': \")[1][1:4])\n",
    "\n",
    "    object_type.append(k)\n",
    "    \n",
    "object_start = pd.Series(object_start)\n",
    "object_end = pd.Series(object_end)\n",
    "object_type = pd.Series(object_type)\n",
    "\n",
    "df_obj_position = pd.DataFrame({'object_start':object_start, 'object_end':object_end, 'object_type':object_type})"
   ]
  },
  {
   "cell_type": "code",
   "execution_count": 173,
   "id": "495eae7e-821d-48cc-916c-c9082ede516a",
   "metadata": {},
   "outputs": [],
   "source": [
    "# subject_entity 단어 확인\n",
    "\n",
    "obj = []\n",
    "\n",
    "for sen, i, j in zip(df.sentence, df_obj_position.object_start, df_obj_position.object_end):\n",
    "    obj.append(sen[i:j])"
   ]
  },
  {
   "cell_type": "code",
   "execution_count": 174,
   "id": "7fb40c10-e68d-4521-a735-3db6bb0a723f",
   "metadata": {},
   "outputs": [],
   "source": [
    "obj = pd.Series(obj)"
   ]
  },
  {
   "cell_type": "code",
   "execution_count": 175,
   "id": "228d5dcd-565f-4dc1-a215-1d2faf3553c1",
   "metadata": {
    "tags": []
   },
   "outputs": [
    {
     "data": {
      "text/plain": [
       "0       탐사기획 스트레이트\n",
       "1               공주\n",
       "2            1995년\n",
       "3              정창손\n",
       "4              권영진\n",
       "           ...    \n",
       "7760          이탈리아\n",
       "7761            전년\n",
       "7762           조성완\n",
       "7763         1987년\n",
       "7764            2일\n",
       "Length: 7765, dtype: object"
      ]
     },
     "execution_count": 175,
     "metadata": {},
     "output_type": "execute_result"
    }
   ],
   "source": [
    "obj"
   ]
  },
  {
   "cell_type": "code",
   "execution_count": 176,
   "id": "4d6a7945-a402-47be-889e-6f3eaad43187",
   "metadata": {},
   "outputs": [],
   "source": [
    "# subject_entity  @ {type} {entity} @ 형태로 표현 \n",
    "\n",
    "replace_sub = []\n",
    "\n",
    "for sen, i, j, k, word in zip(df.sentence, df_sub_position.subject_start, df_sub_position.subject_end, df_sub_position.subject_type, sub):\n",
    "    replace_sub.append(sen[:i]+f'@ {k} {word} @'+sen[j:])\n",
    "    \n",
    "replace_sub = pd.Series(replace_sub)"
   ]
  },
  {
   "cell_type": "code",
   "execution_count": 177,
   "id": "83a07b4a-179e-4f98-93c5-24409f5a6cf7",
   "metadata": {
    "tags": []
   },
   "outputs": [
    {
     "data": {
      "text/plain": [
       "0                                                                                                                                                                                                                                                                                                                            지난 15일 @ ORG MBC @ '탐사기획 스트레이트'가 이 사실을 보도했다.\n",
       "1                                                                                                                                                                                                                                                               사랑스러운 ‘@ PER 프린세스 프링 @’의 이름은 봄의 공주님: Princess(s)Pring이란 뜻으로 탄생, 부활, 청춘 등 여러 가지 의미를 담아 생일왕국의 공주님의 이름이 되었다.\n",
       "2       한편, 본인(이근안)을 모델로 한 MBC 특집드라마 가 1995년 6.25 특집극으로 편성될 예정이었는데 제작비 문제 때문에 연출자 고석만 PD(당시 단막극 팀장)가 MBC에 지원을 요청했지만 거절당한 데다 MBC가 @ ORG 경찰 @과의 관계 약화를 염려하여 제작을 달갑지 않게 여겼고 이 과정에서 연출자가 1995년 3월 29일 MBC에 사표를 제출한 후 프리랜서를 선언하여 편성이 무산됐으며 고석만 PD는 의 제작과 관련한 MBC와의 마찰 외에도 1994년 10월 \"평프로듀서로 일하고 싶다\"며 당시 맡고 있던 단막극 책임PD(종합병원 전원일기 등등) 보직 사퇴의사를 밝혔지만 MBC 측의 반대로 무산되자 프리랜서를 선언했다.\n",
       "3                                                                                                                                                                                                                                                                정창손은 김질과 같이 대궐로 달려가 고변하며 '신은 실로 모르고 김질만 혼자 참여하였는데, 김질의 죄는 만번 죽어 마땅합니다.'라고 하니, @ PER 세조 @가 특별히 김질을 사면하였다.\n",
       "4                                                                                                                                                                                                                                                                                                       당시 @ ORG 민주당 @ 이진련 시의원은 권영진 시장에게 \"긴급 생계자금을 왜 현금으로 지원하지 않느냐\"고 따졌다.\n",
       "                                                                                                                                                                                      ...                                                                                                                                                                                \n",
       "7760                                                                                                                                                                                                                                                                                        코로나19 방역 조치의 일환으로 국민의 움직임을 통제하려는 @ ORG 정부 @의 시도를 이탈리아 국민이 어느 정도까지 수용할지도 의문이다.\n",
       "7761                                                                                                                                                   선 연구원은 “위식도역류질환치료제인 케이캡이 92억원 판매되면서 2019년 연간 328억원 매출을 기록했다”라며 “올해 약 500억원 이상의 매출 달성은 충분히 가능해 보인다. 기존 품목의 고른 성장과 신규 품목의 고성장세에 힘입어 올해 @ ORG 종근당 @의 탑라인은 전년대비 8% 이상 high single digit 성장률을 기록할 수 있을 것으로 보인다”라고 언급했다.\n",
       "7762                                                                                                                                                                                                                                                                                               @ ORG 한국전기안전공사 @(사장 조성완)는 8월 1일부로, 3급 간부직원에 대한 승진·이동 인사를 아래와 같이 발령하였다.\n",
       "7763                                                                                                                                                                                                                                                                                                                       1987년 @ PER B. 슈나이더 @(B. Schneider)에 의해 만들어졌다.\n",
       "7764                                                                                                                                                                                                                                                                @ PER 이승옥 @ 강진군수는 2일 NH농협은행 강진군지부(지부장 강대형)를 방문해 부품·소재·장비 분야 국내 기업을 응원하는‘NH-아문디 필승코리아 주식형 펀드’가입을 약정했다.\n",
       "Length: 7765, dtype: object"
      ]
     },
     "execution_count": 177,
     "metadata": {},
     "output_type": "execute_result"
    }
   ],
   "source": [
    "replace_sub"
   ]
  },
  {
   "cell_type": "code",
   "execution_count": 178,
   "id": "6b88bd60-cbee-4956-a9ff-b6d7a08d3d5d",
   "metadata": {},
   "outputs": [],
   "source": [
    "# object_entity  f'# {type} {entity} #' 형태로 표현 \n",
    "\n",
    "replace_sub_obj = []\n",
    "\n",
    "for sen, i, j, k, word in zip(replace_sub, df_obj_position.object_start, df_obj_position.object_end, df_obj_position.object_type, obj):\n",
    "    if sen[i:j]==word:\n",
    "        replace_sub_obj.append(sen[:i]+f'# {k} {word} #'+sen[j:])\n",
    "    else:\n",
    "        replace_sub_obj.append(sen[:i+8]+f'# {k} {word} #'+sen[j+8:])\n",
    "    \n",
    "replace_sub_obj = pd.Series(replace_sub_obj)"
   ]
  },
  {
   "cell_type": "code",
   "execution_count": 179,
   "id": "774999f4-4d4d-4110-96e4-f6d8ceafde82",
   "metadata": {},
   "outputs": [],
   "source": [
    "df_label = df.label"
   ]
  },
  {
   "cell_type": "code",
   "execution_count": 180,
   "id": "421f0150-abe0-47da-b45c-c9d9f5ec9a2a",
   "metadata": {
    "tags": []
   },
   "outputs": [
    {
     "data": {
      "text/plain": [
       "0       100\n",
       "1       100\n",
       "2       100\n",
       "3       100\n",
       "4       100\n",
       "       ... \n",
       "7760    100\n",
       "7761    100\n",
       "7762    100\n",
       "7763    100\n",
       "7764    100\n",
       "Name: label, Length: 7765, dtype: int64"
      ]
     },
     "execution_count": 180,
     "metadata": {},
     "output_type": "execute_result"
    }
   ],
   "source": [
    "df_label"
   ]
  },
  {
   "cell_type": "code",
   "execution_count": 181,
   "id": "17652e1a-962e-4134-bf62-10e238ab8f96",
   "metadata": {},
   "outputs": [],
   "source": [
    "df_replace_sub_obj = pd.DataFrame({'id':df.index, 'sentence':replace_sub_obj, 'label':df_label})"
   ]
  },
  {
   "cell_type": "code",
   "execution_count": 182,
   "id": "5083e580-effd-4d25-9550-f0cabb583794",
   "metadata": {
    "tags": []
   },
   "outputs": [
    {
     "data": {
      "text/html": [
       "<div>\n",
       "<style scoped>\n",
       "    .dataframe tbody tr th:only-of-type {\n",
       "        vertical-align: middle;\n",
       "    }\n",
       "\n",
       "    .dataframe tbody tr th {\n",
       "        vertical-align: top;\n",
       "    }\n",
       "\n",
       "    .dataframe thead th {\n",
       "        text-align: right;\n",
       "    }\n",
       "</style>\n",
       "<table border=\"1\" class=\"dataframe\">\n",
       "  <thead>\n",
       "    <tr style=\"text-align: right;\">\n",
       "      <th></th>\n",
       "      <th>id</th>\n",
       "      <th>sentence</th>\n",
       "      <th>label</th>\n",
       "    </tr>\n",
       "  </thead>\n",
       "  <tbody>\n",
       "    <tr>\n",
       "      <th>0</th>\n",
       "      <td>0</td>\n",
       "      <td>지난 15일 @ ORG MBC @ '# ORG 탐사기획 스트레이트 #'가 이 사실을 보도했다.</td>\n",
       "      <td>100</td>\n",
       "    </tr>\n",
       "    <tr>\n",
       "      <th>1</th>\n",
       "      <td>1</td>\n",
       "      <td>사랑스러운 ‘@ PER 프린세스 프링 @’의 이름은 봄의 공주님: Princess(s)Pring이란 뜻으로 탄생, 부활, 청춘 등 여러 가지 의미를 담아 생일왕국의 # POH 공주 #님의 이름이 되었다.</td>\n",
       "      <td>100</td>\n",
       "    </tr>\n",
       "    <tr>\n",
       "      <th>2</th>\n",
       "      <td>2</td>\n",
       "      <td>한편, 본인(이근안)을 모델로 한 MBC 특집드라마 가 # DAT 1995년 # 6.25 특집극으로 편성될 예정이었는데 제작비 문제 때문에 연출자 고석만 PD(당시 단막극 팀장)가 MBC에 지원을 요청했지만 거절당한 데다 MBC가 @ ORG 경찰 @과의 관계 약화를 염려하여 제작을 달갑지 않게 여겼고 이 과정에서 연출자가 1995년 3월 29일 MBC에 사표를 제출한 후 프리랜서를 선언하여 편성이 무산됐으며 고석만 PD는 의 제작과 관련한 MBC와의 마찰 외에도 1994년 10월 \"평프로듀서로 일하고 싶다\"며 당시 맡고 있던 단막극 책임PD(종합병원 전원일기 등등) 보직 사퇴의사를 밝혔지만 MBC 측의 반대로 무산되자 프리랜서를 선언했다.</td>\n",
       "      <td>100</td>\n",
       "    </tr>\n",
       "    <tr>\n",
       "      <th>3</th>\n",
       "      <td>3</td>\n",
       "      <td># PER 정창손 #은 김질과 같이 대궐로 달려가 고변하며 '신은 실로 모르고 김질만 혼자 참여하였는데, 김질의 죄는 만번 죽어 마땅합니다.'라고 하니, @ PER 세조 @가 특별히 김질을 사면하였다.</td>\n",
       "      <td>100</td>\n",
       "    </tr>\n",
       "    <tr>\n",
       "      <th>4</th>\n",
       "      <td>4</td>\n",
       "      <td>당시 @ ORG 민주당 @ 이진련 시의원은 # PER 권영진 # 시장에게 \"긴급 생계자금을 왜 현금으로 지원하지 않느냐\"고 따졌다.</td>\n",
       "      <td>100</td>\n",
       "    </tr>\n",
       "    <tr>\n",
       "      <th>...</th>\n",
       "      <td>...</td>\n",
       "      <td>...</td>\n",
       "      <td>...</td>\n",
       "    </tr>\n",
       "    <tr>\n",
       "      <th>7760</th>\n",
       "      <td>7760</td>\n",
       "      <td>코로나19 방역 조치의 일환으로 국민의 움직임을 통제하려는 @ ORG 정부 @의 시도를 # LOC 이탈리아 # 국민이 어느 정도까지 수용할지도 의문이다.</td>\n",
       "      <td>100</td>\n",
       "    </tr>\n",
       "    <tr>\n",
       "      <th>7761</th>\n",
       "      <td>7761</td>\n",
       "      <td>선 연구원은 “위식도역류질환치료제인 케이캡이 92억원 판매되면서 2019년 연간 328억원 매출을 기록했다”라며 “올해 약 500억원 이상의 매출 달성은 충분히 가능해 보인다. 기존 품목의 고른 성장과 신규 품목의 고성장세에 힘입어 올해 @ ORG 종근당 @의 탑라인은 # DAT 전년 #대비 8% 이상 high single digit 성장률을 기록할 수 있을 것으로 보인다”라고 언급했다.</td>\n",
       "      <td>100</td>\n",
       "    </tr>\n",
       "    <tr>\n",
       "      <th>7762</th>\n",
       "      <td>7762</td>\n",
       "      <td>@ ORG 한국전기안전공사 @(사장 # PER 조성완 #)는 8월 1일부로, 3급 간부직원에 대한 승진·이동 인사를 아래와 같이 발령하였다.</td>\n",
       "      <td>100</td>\n",
       "    </tr>\n",
       "    <tr>\n",
       "      <th>7763</th>\n",
       "      <td>7763</td>\n",
       "      <td># DAT 1987년 # @ PER B. 슈나이더 @(B. Schneider)에 의해 만들어졌다.</td>\n",
       "      <td>100</td>\n",
       "    </tr>\n",
       "    <tr>\n",
       "      <th>7764</th>\n",
       "      <td>7764</td>\n",
       "      <td>@ PER 이승옥 @ 강진군수는 # DAT 2일 # NH농협은행 강진군지부(지부장 강대형)를 방문해 부품·소재·장비 분야 국내 기업을 응원하는‘NH-아문디 필승코리아 주식형 펀드’가입을 약정했다.</td>\n",
       "      <td>100</td>\n",
       "    </tr>\n",
       "  </tbody>\n",
       "</table>\n",
       "<p>7765 rows × 3 columns</p>\n",
       "</div>"
      ],
      "text/plain": [
       "        id  \\\n",
       "0        0   \n",
       "1        1   \n",
       "2        2   \n",
       "3        3   \n",
       "4        4   \n",
       "...    ...   \n",
       "7760  7760   \n",
       "7761  7761   \n",
       "7762  7762   \n",
       "7763  7763   \n",
       "7764  7764   \n",
       "\n",
       "                                                                                                                                                                                                                                                                                                                                                                       sentence  \\\n",
       "0                                                                                                                                                                                                                                                                                                                          지난 15일 @ ORG MBC @ '# ORG 탐사기획 스트레이트 #'가 이 사실을 보도했다.   \n",
       "1                                                                                                                                                                                                                                                             사랑스러운 ‘@ PER 프린세스 프링 @’의 이름은 봄의 공주님: Princess(s)Pring이란 뜻으로 탄생, 부활, 청춘 등 여러 가지 의미를 담아 생일왕국의 # POH 공주 #님의 이름이 되었다.   \n",
       "2     한편, 본인(이근안)을 모델로 한 MBC 특집드라마 가 # DAT 1995년 # 6.25 특집극으로 편성될 예정이었는데 제작비 문제 때문에 연출자 고석만 PD(당시 단막극 팀장)가 MBC에 지원을 요청했지만 거절당한 데다 MBC가 @ ORG 경찰 @과의 관계 약화를 염려하여 제작을 달갑지 않게 여겼고 이 과정에서 연출자가 1995년 3월 29일 MBC에 사표를 제출한 후 프리랜서를 선언하여 편성이 무산됐으며 고석만 PD는 의 제작과 관련한 MBC와의 마찰 외에도 1994년 10월 \"평프로듀서로 일하고 싶다\"며 당시 맡고 있던 단막극 책임PD(종합병원 전원일기 등등) 보직 사퇴의사를 밝혔지만 MBC 측의 반대로 무산되자 프리랜서를 선언했다.   \n",
       "3                                                                                                                                                                                                                                                              # PER 정창손 #은 김질과 같이 대궐로 달려가 고변하며 '신은 실로 모르고 김질만 혼자 참여하였는데, 김질의 죄는 만번 죽어 마땅합니다.'라고 하니, @ PER 세조 @가 특별히 김질을 사면하였다.   \n",
       "4                                                                                                                                                                                                                                                                                                     당시 @ ORG 민주당 @ 이진련 시의원은 # PER 권영진 # 시장에게 \"긴급 생계자금을 왜 현금으로 지원하지 않느냐\"고 따졌다.   \n",
       "...                                                                                                                                                                                                                                                                                                                                                                         ...   \n",
       "7760                                                                                                                                                                                                                                                                                      코로나19 방역 조치의 일환으로 국민의 움직임을 통제하려는 @ ORG 정부 @의 시도를 # LOC 이탈리아 # 국민이 어느 정도까지 수용할지도 의문이다.   \n",
       "7761                                                                                                                                                 선 연구원은 “위식도역류질환치료제인 케이캡이 92억원 판매되면서 2019년 연간 328억원 매출을 기록했다”라며 “올해 약 500억원 이상의 매출 달성은 충분히 가능해 보인다. 기존 품목의 고른 성장과 신규 품목의 고성장세에 힘입어 올해 @ ORG 종근당 @의 탑라인은 # DAT 전년 #대비 8% 이상 high single digit 성장률을 기록할 수 있을 것으로 보인다”라고 언급했다.   \n",
       "7762                                                                                                                                                                                                                                                                                             @ ORG 한국전기안전공사 @(사장 # PER 조성완 #)는 8월 1일부로, 3급 간부직원에 대한 승진·이동 인사를 아래와 같이 발령하였다.   \n",
       "7763                                                                                                                                                                                                                                                                                                                     # DAT 1987년 # @ PER B. 슈나이더 @(B. Schneider)에 의해 만들어졌다.   \n",
       "7764                                                                                                                                                                                                                                                              @ PER 이승옥 @ 강진군수는 # DAT 2일 # NH농협은행 강진군지부(지부장 강대형)를 방문해 부품·소재·장비 분야 국내 기업을 응원하는‘NH-아문디 필승코리아 주식형 펀드’가입을 약정했다.   \n",
       "\n",
       "      label  \n",
       "0       100  \n",
       "1       100  \n",
       "2       100  \n",
       "3       100  \n",
       "4       100  \n",
       "...     ...  \n",
       "7760    100  \n",
       "7761    100  \n",
       "7762    100  \n",
       "7763    100  \n",
       "7764    100  \n",
       "\n",
       "[7765 rows x 3 columns]"
      ]
     },
     "execution_count": 182,
     "metadata": {},
     "output_type": "execute_result"
    }
   ],
   "source": [
    "df_replace_sub_obj"
   ]
  },
  {
   "cell_type": "code",
   "execution_count": 60,
   "id": "43b562e9-4d3a-49d5-8b89-af486faa28b8",
   "metadata": {},
   "outputs": [],
   "source": [
    "df_replace_sub_obj.to_csv('mark_and_type_test.csv')"
   ]
  },
  {
   "cell_type": "markdown",
   "id": "3a367d92-ec7e-4064-85e9-c9b6adf02329",
   "metadata": {
    "tags": []
   },
   "source": [
    "### train data"
   ]
  },
  {
   "cell_type": "code",
   "execution_count": 215,
   "id": "bc12c034-d54b-4629-bfd1-bf5691d568e8",
   "metadata": {},
   "outputs": [],
   "source": [
    "df = pd.read_csv('../dataset/train/train.csv')"
   ]
  },
  {
   "cell_type": "code",
   "execution_count": 216,
   "id": "6d941c1e-e968-4d23-920f-6593b385dd93",
   "metadata": {},
   "outputs": [],
   "source": [
    "# subject_entity index 와 타입을 받아서 DataFrame 에 저장\n",
    "\n",
    "subject_start = []\n",
    "subject_end = []\n",
    "subject_type = []\n",
    "\n",
    "for i in df['subject_entity']:\n",
    "    i = int(i[1:-1].split(\"'start_idx': \")[1].split(',')[0])\n",
    "\n",
    "    subject_start.append(i)\n",
    "\n",
    "for j in df['subject_entity']:\n",
    "    j = int(j[1:-1].split(\"'end_idx': \")[1].split(',')[0])+1\n",
    "\n",
    "    subject_end.append(j)\n",
    "    \n",
    "for k in df['subject_entity']:\n",
    "    k = str(k[1:-1].split(\"'type': \")[1][1:4])\n",
    "\n",
    "    subject_type.append(k)\n",
    "    \n",
    "subject_start = pd.Series(subject_start)\n",
    "subject_end = pd.Series(subject_end)\n",
    "subject_type = pd.Series(subject_type)\n",
    "\n",
    "df_sub_position = pd.DataFrame({'subject_start':subject_start, 'subject_end':subject_end, 'subject_type':subject_type})"
   ]
  },
  {
   "cell_type": "code",
   "execution_count": 217,
   "id": "fbdec994-ad8f-455c-91e5-32a59737a9db",
   "metadata": {
    "tags": []
   },
   "outputs": [
    {
     "data": {
      "text/html": [
       "<div>\n",
       "<style scoped>\n",
       "    .dataframe tbody tr th:only-of-type {\n",
       "        vertical-align: middle;\n",
       "    }\n",
       "\n",
       "    .dataframe tbody tr th {\n",
       "        vertical-align: top;\n",
       "    }\n",
       "\n",
       "    .dataframe thead th {\n",
       "        text-align: right;\n",
       "    }\n",
       "</style>\n",
       "<table border=\"1\" class=\"dataframe\">\n",
       "  <thead>\n",
       "    <tr style=\"text-align: right;\">\n",
       "      <th></th>\n",
       "      <th>subject_start</th>\n",
       "      <th>subject_end</th>\n",
       "      <th>subject_type</th>\n",
       "    </tr>\n",
       "  </thead>\n",
       "  <tbody>\n",
       "    <tr>\n",
       "      <th>0</th>\n",
       "      <td>24</td>\n",
       "      <td>27</td>\n",
       "      <td>ORG</td>\n",
       "    </tr>\n",
       "    <tr>\n",
       "      <th>1</th>\n",
       "      <td>19</td>\n",
       "      <td>24</td>\n",
       "      <td>ORG</td>\n",
       "    </tr>\n",
       "    <tr>\n",
       "      <th>2</th>\n",
       "      <td>21</td>\n",
       "      <td>25</td>\n",
       "      <td>ORG</td>\n",
       "    </tr>\n",
       "    <tr>\n",
       "      <th>3</th>\n",
       "      <td>13</td>\n",
       "      <td>18</td>\n",
       "      <td>ORG</td>\n",
       "    </tr>\n",
       "    <tr>\n",
       "      <th>4</th>\n",
       "      <td>22</td>\n",
       "      <td>31</td>\n",
       "      <td>ORG</td>\n",
       "    </tr>\n",
       "    <tr>\n",
       "      <th>...</th>\n",
       "      <td>...</td>\n",
       "      <td>...</td>\n",
       "      <td>...</td>\n",
       "    </tr>\n",
       "    <tr>\n",
       "      <th>32465</th>\n",
       "      <td>93</td>\n",
       "      <td>96</td>\n",
       "      <td>PER</td>\n",
       "    </tr>\n",
       "    <tr>\n",
       "      <th>32466</th>\n",
       "      <td>7</td>\n",
       "      <td>10</td>\n",
       "      <td>PER</td>\n",
       "    </tr>\n",
       "    <tr>\n",
       "      <th>32467</th>\n",
       "      <td>0</td>\n",
       "      <td>3</td>\n",
       "      <td>ORG</td>\n",
       "    </tr>\n",
       "    <tr>\n",
       "      <th>32468</th>\n",
       "      <td>6</td>\n",
       "      <td>10</td>\n",
       "      <td>ORG</td>\n",
       "    </tr>\n",
       "    <tr>\n",
       "      <th>32469</th>\n",
       "      <td>0</td>\n",
       "      <td>3</td>\n",
       "      <td>ORG</td>\n",
       "    </tr>\n",
       "  </tbody>\n",
       "</table>\n",
       "<p>32470 rows × 3 columns</p>\n",
       "</div>"
      ],
      "text/plain": [
       "       subject_start  subject_end subject_type\n",
       "0                 24           27          ORG\n",
       "1                 19           24          ORG\n",
       "2                 21           25          ORG\n",
       "3                 13           18          ORG\n",
       "4                 22           31          ORG\n",
       "...              ...          ...          ...\n",
       "32465             93           96          PER\n",
       "32466              7           10          PER\n",
       "32467              0            3          ORG\n",
       "32468              6           10          ORG\n",
       "32469              0            3          ORG\n",
       "\n",
       "[32470 rows x 3 columns]"
      ]
     },
     "execution_count": 217,
     "metadata": {},
     "output_type": "execute_result"
    }
   ],
   "source": [
    "df_sub_position"
   ]
  },
  {
   "cell_type": "code",
   "execution_count": 218,
   "id": "5f0a234a-c2c4-4ab7-b37a-1a88ddad9b66",
   "metadata": {},
   "outputs": [],
   "source": [
    "# subject_entity 단어 확인\n",
    "\n",
    "sub = []\n",
    "\n",
    "for sen, i, j in zip(df.sentence, df_sub_position.subject_start, df_sub_position.subject_end):\n",
    "    sub.append(sen[i:j])"
   ]
  },
  {
   "cell_type": "code",
   "execution_count": 219,
   "id": "031051a2-3c72-49f2-98c5-1c7c38f64e30",
   "metadata": {},
   "outputs": [],
   "source": [
    "sub = pd.Series(sub)"
   ]
  },
  {
   "cell_type": "code",
   "execution_count": 220,
   "id": "61aed4c5-ff1c-4967-8678-8ea6615a0330",
   "metadata": {
    "tags": []
   },
   "outputs": [
    {
     "data": {
      "text/plain": [
       "0              비틀즈\n",
       "1            민주평화당\n",
       "2             광주FC\n",
       "3            아성다이소\n",
       "4        요미우리 자이언츠\n",
       "           ...    \n",
       "32465          유기준\n",
       "32466          최시형\n",
       "32467          완도군\n",
       "32468         JTBC\n",
       "32469          화순군\n",
       "Length: 32470, dtype: object"
      ]
     },
     "execution_count": 220,
     "metadata": {},
     "output_type": "execute_result"
    }
   ],
   "source": [
    "sub"
   ]
  },
  {
   "cell_type": "code",
   "execution_count": 221,
   "id": "fb25ea93-fea5-4013-bbee-4d92ba0fdc6e",
   "metadata": {},
   "outputs": [],
   "source": [
    "# object_entity index 와 타입을 받아서 DataFrame 에 저장\n",
    "\n",
    "object_start = []\n",
    "object_end = []\n",
    "object_type = []\n",
    "\n",
    "for i in df['object_entity']:\n",
    "    i = int(i[1:-1].split(\"'start_idx': \")[1].split(',')[0])\n",
    "\n",
    "    object_start.append(i)\n",
    "\n",
    "for j in df['object_entity']:\n",
    "    j = int(j[1:-1].split(\"'end_idx': \")[1].split(',')[0])+1\n",
    "\n",
    "    object_end.append(j)\n",
    "    \n",
    "for k in df['object_entity']:\n",
    "    k = str(k[1:-1].split(\"'type': \")[1][1:4])\n",
    "\n",
    "    object_type.append(k)\n",
    "    \n",
    "object_start = pd.Series(object_start)\n",
    "object_end = pd.Series(object_end)\n",
    "object_type = pd.Series(object_type)\n",
    "\n",
    "df_obj_position = pd.DataFrame({'object_start':object_start, 'object_end':object_end, 'object_type':object_type})"
   ]
  },
  {
   "cell_type": "code",
   "execution_count": 222,
   "id": "f45ffa4b-663e-49ca-a145-65cc6839e24a",
   "metadata": {},
   "outputs": [],
   "source": [
    "# subject_entity 단어 확인\n",
    "\n",
    "obj = []\n",
    "\n",
    "for sen, i, j in zip(df.sentence, df_obj_position.object_start, df_obj_position.object_end):\n",
    "    obj.append(sen[i:j])"
   ]
  },
  {
   "cell_type": "code",
   "execution_count": 223,
   "id": "7bd5344b-d3e3-49a2-b7cd-ec66d70da4d8",
   "metadata": {},
   "outputs": [],
   "source": [
    "obj = pd.Series(obj)"
   ]
  },
  {
   "cell_type": "code",
   "execution_count": 224,
   "id": "7a429a37-1e3c-4a64-8473-ddf0fdb425e1",
   "metadata": {
    "tags": []
   },
   "outputs": [
    {
     "data": {
      "text/plain": [
       "0          조지 해리슨\n",
       "1            대안신당\n",
       "2        한국프로축구연맹\n",
       "3             박정부\n",
       "4            1967\n",
       "           ...   \n",
       "32465    부산 서구·동구\n",
       "32466         손병희\n",
       "32467         신우철\n",
       "32468       중앙홀딩스\n",
       "32469         구충곤\n",
       "Length: 32470, dtype: object"
      ]
     },
     "execution_count": 224,
     "metadata": {},
     "output_type": "execute_result"
    }
   ],
   "source": [
    "obj"
   ]
  },
  {
   "cell_type": "code",
   "execution_count": 225,
   "id": "73ed199e-737b-4e30-af5f-6b08fa39820d",
   "metadata": {},
   "outputs": [],
   "source": [
    "# subject_entity  @ {type} {entity} @ 형태로 표현 \n",
    "\n",
    "replace_sub = []\n",
    "\n",
    "for sen, i, j, k, word in zip(df.sentence, df_sub_position.subject_start, df_sub_position.subject_end, df_sub_position.subject_type, sub):\n",
    "    replace_sub.append(sen[:i]+f'@ {k} {word} @'+sen[j:])\n",
    "    \n",
    "replace_sub = pd.Series(replace_sub)"
   ]
  },
  {
   "cell_type": "code",
   "execution_count": 226,
   "id": "2abbf082-7647-4e52-bf25-a6504653aefd",
   "metadata": {
    "tags": []
   },
   "outputs": [
    {
     "data": {
      "text/plain": [
       "0                                                                                                                                                                  〈Something〉는 조지 해리슨이 쓰고 @ ORG 비틀즈 @가 1969년 앨범 《Abbey Road》에 담은 노래다.\n",
       "1                                                                                                                                                                       호남이 기반인 바른미래당·대안신당·@ ORG 민주평화당 @이 우여곡절 끝에 합당해 민생당(가칭)으로 재탄생한다.\n",
       "2                                                                                                                          K리그2에서 성적 1위를 달리고 있는 @ ORG 광주FC @는 지난 26일 한국프로축구연맹으로부터 관중 유치 성과와 마케팅 성과를 인정받아 ‘풀 스타디움상’과 ‘플러스 스타디움상’을 수상했다.\n",
       "3                                                                                                                                               균일가 생활용품점 (주)@ ORG 아성다이소 @(대표 박정부)는 코로나19 바이러스로 어려움을 겪고 있는 대구광역시에 행복박스를 전달했다고 10일 밝혔다.\n",
       "4                                                                                                                                                                     1967년 프로 야구 드래프트 1순위로 @ ORG 요미우리 자이언츠 @에게 입단하면서 등번호는 8번으로 배정되었다.\n",
       "                                                                                                                     ...                                                                                                              \n",
       "32465    한국당은 7일 오전 9시부터 오후 5시까지 진행된 원내대표 및 정책위의장 후보자 등록 마감 결과, 강석호(3선·경북 영양·영덕·봉화·울진)-이장우(재선·대전 동구), @ PER 유기준 @(4선·부산 서구·동구)-박성중(초선·서울 서초을), 김선동(재선·서울 도봉을)-김종석(초선·비례), 심재철(5선·경기 안양시동안구을)-김재원(3선·경북 상주·군위·의성·청송) 등 4개 조가 등록했다고 밝혔다.\n",
       "32466                                                                                                                                                      법포는 다시 @ PER 최시형 @, 서병학, 손병희 직계인 북접과 다시 서장옥, 전봉준, 김개남을 지도자로 하는 남접으로 나뉘게 된다.\n",
       "32467                                                                                                      @ ORG 완도군 @(군수 신우철)이 국토교통부에서 실시한 '2019 교통문화지수 실태조사'에서 229개 기초지자체 중 최상위 등급인 A등급을 받으면서 전국에서 가장 높은 교통안전 인식 수준을 갖고 있는 것으로 나타났다.\n",
       "32468                                                                                                                                                        중앙일보, @ ORG JTBC @ 회장을 지낸 이후 중앙홀딩스 회장, 재단법인 한반도평화만들기 이사장, 한국기원 총재를 맡고 있다.\n",
       "32469                                                                                                               @ ORG 화순군 @(군수 구충곤)은 17일 동면의 이장 20여 명이 코로나 19 예방을 위해 버스 승강장, 공중화장실 등 다중이용시설과 오동리 천운아파트 주변을 소독하는 방역 봉사활동을 펼쳤다고 밝혔다.\n",
       "Length: 32470, dtype: object"
      ]
     },
     "execution_count": 226,
     "metadata": {},
     "output_type": "execute_result"
    }
   ],
   "source": [
    "replace_sub"
   ]
  },
  {
   "cell_type": "code",
   "execution_count": 227,
   "id": "4fc7abbd-48b0-4ad6-aef3-9b0804366a0b",
   "metadata": {},
   "outputs": [],
   "source": [
    "# object_entity  f'# {type} {entity} #' 형태로 표현 \n",
    "\n",
    "replace_sub_obj = []\n",
    "\n",
    "for sen, i, j, k, word in zip(replace_sub, df_obj_position.object_start, df_obj_position.object_end, df_obj_position.object_type, obj):\n",
    "    if sen[i:j]==word:\n",
    "        replace_sub_obj.append(sen[:i]+f'# {k} {word} #'+sen[j:])\n",
    "    else:\n",
    "        replace_sub_obj.append(sen[:i+8]+f'# {k} {word} #'+sen[j+8:])\n",
    "    \n",
    "replace_sub_obj = pd.Series(replace_sub_obj)"
   ]
  },
  {
   "cell_type": "code",
   "execution_count": 228,
   "id": "f31a4c58-aad3-4045-bb02-790050c596aa",
   "metadata": {},
   "outputs": [],
   "source": [
    "df_label = df.label"
   ]
  },
  {
   "cell_type": "code",
   "execution_count": 229,
   "id": "d1fc6352-9087-4f83-b0ef-3bd68b64b08a",
   "metadata": {
    "tags": []
   },
   "outputs": [
    {
     "data": {
      "text/plain": [
       "0                      no_relation\n",
       "1                      no_relation\n",
       "2                    org:member_of\n",
       "3        org:top_members/employees\n",
       "4                      no_relation\n",
       "                   ...            \n",
       "32465              per:employee_of\n",
       "32466               per:colleagues\n",
       "32467    org:top_members/employees\n",
       "32468                  no_relation\n",
       "32469    org:top_members/employees\n",
       "Name: label, Length: 32470, dtype: object"
      ]
     },
     "execution_count": 229,
     "metadata": {},
     "output_type": "execute_result"
    }
   ],
   "source": [
    "df_label"
   ]
  },
  {
   "cell_type": "code",
   "execution_count": 230,
   "id": "5332e6ae-7a3b-42de-8759-7642b18ae7a9",
   "metadata": {},
   "outputs": [],
   "source": [
    "df_replace_sub_obj = pd.DataFrame({'id':df.index, 'sentence':replace_sub_obj, 'label':df_label})"
   ]
  },
  {
   "cell_type": "code",
   "execution_count": 231,
   "id": "273fd5a5-a13d-4604-b19a-9e020f6fd95d",
   "metadata": {
    "tags": []
   },
   "outputs": [
    {
     "data": {
      "text/html": [
       "<div>\n",
       "<style scoped>\n",
       "    .dataframe tbody tr th:only-of-type {\n",
       "        vertical-align: middle;\n",
       "    }\n",
       "\n",
       "    .dataframe tbody tr th {\n",
       "        vertical-align: top;\n",
       "    }\n",
       "\n",
       "    .dataframe thead th {\n",
       "        text-align: right;\n",
       "    }\n",
       "</style>\n",
       "<table border=\"1\" class=\"dataframe\">\n",
       "  <thead>\n",
       "    <tr style=\"text-align: right;\">\n",
       "      <th></th>\n",
       "      <th>id</th>\n",
       "      <th>sentence</th>\n",
       "      <th>label</th>\n",
       "    </tr>\n",
       "  </thead>\n",
       "  <tbody>\n",
       "    <tr>\n",
       "      <th>0</th>\n",
       "      <td>0</td>\n",
       "      <td>〈Something〉는 # PER 조지 해리슨 #이 쓰고 @ ORG 비틀즈 @가 1969년 앨범 《Abbey Road》에 담은 노래다.</td>\n",
       "      <td>no_relation</td>\n",
       "    </tr>\n",
       "    <tr>\n",
       "      <th>1</th>\n",
       "      <td>1</td>\n",
       "      <td>호남이 기반인 바른미래당·# ORG 대안신당 #·@ ORG 민주평화당 @이 우여곡절 끝에 합당해 민생당(가칭)으로 재탄생한다.</td>\n",
       "      <td>no_relation</td>\n",
       "    </tr>\n",
       "    <tr>\n",
       "      <th>2</th>\n",
       "      <td>2</td>\n",
       "      <td>K리그2에서 성적 1위를 달리고 있는 @ ORG 광주FC @는 지난 26일 # ORG 한국프로축구연맹 #으로부터 관중 유치 성과와 마케팅 성과를 인정받아 ‘풀 스타디움상’과 ‘플러스 스타디움상’을 수상했다.</td>\n",
       "      <td>org:member_of</td>\n",
       "    </tr>\n",
       "    <tr>\n",
       "      <th>3</th>\n",
       "      <td>3</td>\n",
       "      <td>균일가 생활용품점 (주)@ ORG 아성다이소 @(대표 # PER 박정부 #)는 코로나19 바이러스로 어려움을 겪고 있는 대구광역시에 행복박스를 전달했다고 10일 밝혔다.</td>\n",
       "      <td>org:top_members/employees</td>\n",
       "    </tr>\n",
       "    <tr>\n",
       "      <th>4</th>\n",
       "      <td>4</td>\n",
       "      <td># DAT 1967 #년 프로 야구 드래프트 1순위로 @ ORG 요미우리 자이언츠 @에게 입단하면서 등번호는 8번으로 배정되었다.</td>\n",
       "      <td>no_relation</td>\n",
       "    </tr>\n",
       "    <tr>\n",
       "      <th>...</th>\n",
       "      <td>...</td>\n",
       "      <td>...</td>\n",
       "      <td>...</td>\n",
       "    </tr>\n",
       "    <tr>\n",
       "      <th>32465</th>\n",
       "      <td>32465</td>\n",
       "      <td>한국당은 7일 오전 9시부터 오후 5시까지 진행된 원내대표 및 정책위의장 후보자 등록 마감 결과, 강석호(3선·경북 영양·영덕·봉화·울진)-이장우(재선·대전 동구), @ PER 유기준 @(4선·# LOC 부산 서구·동구 #)-박성중(초선·서울 서초을), 김선동(재선·서울 도봉을)-김종석(초선·비례), 심재철(5선·경기 안양시동안구을)-김재원(3선·경북 상주·군위·의성·청송) 등 4개 조가 등록했다고 밝혔다.</td>\n",
       "      <td>per:employee_of</td>\n",
       "    </tr>\n",
       "    <tr>\n",
       "      <th>32466</th>\n",
       "      <td>32466</td>\n",
       "      <td>법포는 다시 @ PER 최시형 @, 서병학, # PER 손병희 # 직계인 북접과 다시 서장옥, 전봉준, 김개남을 지도자로 하는 남접으로 나뉘게 된다.</td>\n",
       "      <td>per:colleagues</td>\n",
       "    </tr>\n",
       "    <tr>\n",
       "      <th>32467</th>\n",
       "      <td>32467</td>\n",
       "      <td>@ ORG 완도군 @(군수 # PER 신우철 #)이 국토교통부에서 실시한 '2019 교통문화지수 실태조사'에서 229개 기초지자체 중 최상위 등급인 A등급을 받으면서 전국에서 가장 높은 교통안전 인식 수준을 갖고 있는 것으로 나타났다.</td>\n",
       "      <td>org:top_members/employees</td>\n",
       "    </tr>\n",
       "    <tr>\n",
       "      <th>32468</th>\n",
       "      <td>32468</td>\n",
       "      <td>중앙일보, @ ORG JTBC @ 회장을 지낸 이후 # ORG 중앙홀딩스 # 회장, 재단법인 한반도평화만들기 이사장, 한국기원 총재를 맡고 있다.</td>\n",
       "      <td>no_relation</td>\n",
       "    </tr>\n",
       "    <tr>\n",
       "      <th>32469</th>\n",
       "      <td>32469</td>\n",
       "      <td>@ ORG 화순군 @(군수 # PER 구충곤 #)은 17일 동면의 이장 20여 명이 코로나 19 예방을 위해 버스 승강장, 공중화장실 등 다중이용시설과 오동리 천운아파트 주변을 소독하는 방역 봉사활동을 펼쳤다고 밝혔다.</td>\n",
       "      <td>org:top_members/employees</td>\n",
       "    </tr>\n",
       "  </tbody>\n",
       "</table>\n",
       "<p>32470 rows × 3 columns</p>\n",
       "</div>"
      ],
      "text/plain": [
       "          id  \\\n",
       "0          0   \n",
       "1          1   \n",
       "2          2   \n",
       "3          3   \n",
       "4          4   \n",
       "...      ...   \n",
       "32465  32465   \n",
       "32466  32466   \n",
       "32467  32467   \n",
       "32468  32468   \n",
       "32469  32469   \n",
       "\n",
       "                                                                                                                                                                                                                                    sentence  \\\n",
       "0                                                                                                                                                                〈Something〉는 # PER 조지 해리슨 #이 쓰고 @ ORG 비틀즈 @가 1969년 앨범 《Abbey Road》에 담은 노래다.   \n",
       "1                                                                                                                                                                     호남이 기반인 바른미래당·# ORG 대안신당 #·@ ORG 민주평화당 @이 우여곡절 끝에 합당해 민생당(가칭)으로 재탄생한다.   \n",
       "2                                                                                                                        K리그2에서 성적 1위를 달리고 있는 @ ORG 광주FC @는 지난 26일 # ORG 한국프로축구연맹 #으로부터 관중 유치 성과와 마케팅 성과를 인정받아 ‘풀 스타디움상’과 ‘플러스 스타디움상’을 수상했다.   \n",
       "3                                                                                                                                             균일가 생활용품점 (주)@ ORG 아성다이소 @(대표 # PER 박정부 #)는 코로나19 바이러스로 어려움을 겪고 있는 대구광역시에 행복박스를 전달했다고 10일 밝혔다.   \n",
       "4                                                                                                                                                                   # DAT 1967 #년 프로 야구 드래프트 1순위로 @ ORG 요미우리 자이언츠 @에게 입단하면서 등번호는 8번으로 배정되었다.   \n",
       "...                                                                                                                                                                                                                                      ...   \n",
       "32465  한국당은 7일 오전 9시부터 오후 5시까지 진행된 원내대표 및 정책위의장 후보자 등록 마감 결과, 강석호(3선·경북 영양·영덕·봉화·울진)-이장우(재선·대전 동구), @ PER 유기준 @(4선·# LOC 부산 서구·동구 #)-박성중(초선·서울 서초을), 김선동(재선·서울 도봉을)-김종석(초선·비례), 심재철(5선·경기 안양시동안구을)-김재원(3선·경북 상주·군위·의성·청송) 등 4개 조가 등록했다고 밝혔다.   \n",
       "32466                                                                                                                                                    법포는 다시 @ PER 최시형 @, 서병학, # PER 손병희 # 직계인 북접과 다시 서장옥, 전봉준, 김개남을 지도자로 하는 남접으로 나뉘게 된다.   \n",
       "32467                                                                                                    @ ORG 완도군 @(군수 # PER 신우철 #)이 국토교통부에서 실시한 '2019 교통문화지수 실태조사'에서 229개 기초지자체 중 최상위 등급인 A등급을 받으면서 전국에서 가장 높은 교통안전 인식 수준을 갖고 있는 것으로 나타났다.   \n",
       "32468                                                                                                                                                      중앙일보, @ ORG JTBC @ 회장을 지낸 이후 # ORG 중앙홀딩스 # 회장, 재단법인 한반도평화만들기 이사장, 한국기원 총재를 맡고 있다.   \n",
       "32469                                                                                                             @ ORG 화순군 @(군수 # PER 구충곤 #)은 17일 동면의 이장 20여 명이 코로나 19 예방을 위해 버스 승강장, 공중화장실 등 다중이용시설과 오동리 천운아파트 주변을 소독하는 방역 봉사활동을 펼쳤다고 밝혔다.   \n",
       "\n",
       "                           label  \n",
       "0                    no_relation  \n",
       "1                    no_relation  \n",
       "2                  org:member_of  \n",
       "3      org:top_members/employees  \n",
       "4                    no_relation  \n",
       "...                          ...  \n",
       "32465            per:employee_of  \n",
       "32466             per:colleagues  \n",
       "32467  org:top_members/employees  \n",
       "32468                no_relation  \n",
       "32469  org:top_members/employees  \n",
       "\n",
       "[32470 rows x 3 columns]"
      ]
     },
     "execution_count": 231,
     "metadata": {},
     "output_type": "execute_result"
    }
   ],
   "source": [
    "df_replace_sub_obj"
   ]
  },
  {
   "cell_type": "code",
   "execution_count": 232,
   "id": "88895bd0-1eea-4f63-8c53-5e7906650dee",
   "metadata": {},
   "outputs": [],
   "source": [
    "from sklearn.model_selection import train_test_split\n",
    "\n",
    "data = df_replace_sub_obj\n",
    "target = df_replace_sub_obj['label']\n",
    "\n",
    "# train_test_split\n",
    "mark_and_type_train, mark_and_type_valid = train_test_split(data, test_size=0.2, shuffle=True, stratify=target, random_state=2023)"
   ]
  },
  {
   "cell_type": "code",
   "execution_count": 233,
   "id": "d0f16e2c-5259-4c47-91bb-9247b6b67fb2",
   "metadata": {},
   "outputs": [],
   "source": [
    "mark_and_type_train.to_csv('mark_and_type_train.csv')\n",
    "mark_and_type_valid.to_csv('mark_and_type_dev.csv')"
   ]
  },
  {
   "cell_type": "markdown",
   "id": "d773e0f8-c81f-4176-a4d7-4dd82e3d9502",
   "metadata": {},
   "source": [
    "## UNK > 3 인 문장 drop"
   ]
  },
  {
   "cell_type": "code",
   "execution_count": 234,
   "id": "5b4daf38-43ac-4ca9-8145-aee2122254fe",
   "metadata": {},
   "outputs": [],
   "source": [
    "# 베이스라인 코드의 load_data.py 코드 긁어와서 사용함\n",
    "\n",
    "def preprocessing_dataset(dataset):\n",
    "  \"\"\" 처음 불러온 csv 파일을 원하는 형태의 DataFrame으로 변경 시켜줍니다.\"\"\"\n",
    "  subject_entity = []\n",
    "  object_entity = []\n",
    "  for i,j in zip(dataset['subject_entity'], dataset['object_entity']):\n",
    "    i = i[1:-1].split(',')[0].split(':')[1]\n",
    "    j = j[1:-1].split(',')[0].split(':')[1]\n",
    "\n",
    "    subject_entity.append(i)\n",
    "    object_entity.append(j)\n",
    "  out_dataset = pd.DataFrame({'id':dataset['id'], 'sentence':dataset['sentence'],'subject_entity':subject_entity,'object_entity':object_entity,'label':dataset['label'],})\n",
    "  return out_dataset\n",
    "\n",
    "def load_data(dataset_dir):\n",
    "  \"\"\" csv 파일을 경로에 맡게 불러 옵니다. \"\"\"\n",
    "  pd_dataset = pd.read_csv(dataset_dir)\n",
    "  dataset = preprocessing_dataset(pd_dataset)\n",
    "  \n",
    "  return dataset\n",
    "\n",
    "def tokenized_dataset(dataset, tokenizer):\n",
    "  \"\"\" tokenizer에 따라 sentence를 tokenizing 합니다.\"\"\"\n",
    "  concat_entity = []\n",
    "  for e01, e02 in zip(dataset['subject_entity'], dataset['object_entity']):\n",
    "    temp = ''\n",
    "    temp = e01 + '[SEP]' + e02\n",
    "    concat_entity.append(temp)\n",
    "  tokenized_sentences = tokenizer(\n",
    "      concat_entity,\n",
    "      list(dataset['sentence']),\n",
    "      return_tensors=\"pt\",\n",
    "      padding=True,\n",
    "      truncation=True,\n",
    "      max_length=256,\n",
    "      add_special_tokens=True,\n",
    "      )\n",
    "  return tokenized_sentences"
   ]
  },
  {
   "cell_type": "code",
   "execution_count": 235,
   "id": "5d3f73c4-a7d3-4f68-9cb1-7d3b61551d12",
   "metadata": {},
   "outputs": [],
   "source": [
    "from transformers import AutoTokenizer, AutoConfig, AutoModelForSequenceClassification, Trainer, TrainingArguments, RobertaConfig, RobertaTokenizer, RobertaForSequenceClassification, BertTokenizer\n",
    "\n",
    "MODEL_NAME = \"klue/roberta-large\" \n",
    "tokenizer = AutoTokenizer.from_pretrained(MODEL_NAME)"
   ]
  },
  {
   "cell_type": "code",
   "execution_count": 236,
   "id": "117f935d-75a2-43c4-b194-404072ed781a",
   "metadata": {},
   "outputs": [],
   "source": [
    "train_dataset = load_data(\"../dataset/train/train.csv\")\n",
    "tokenized_train = tokenized_dataset(train_dataset, tokenizer)"
   ]
  },
  {
   "cell_type": "markdown",
   "id": "8ad2e6b2-a435-4226-b3ef-2e6cd89044c9",
   "metadata": {},
   "source": [
    "### 토크나이징이 잘 됬는지 확인해 봄"
   ]
  },
  {
   "cell_type": "code",
   "execution_count": 237,
   "id": "520eec9a-da7d-428e-a2d7-8e7fd16ef72e",
   "metadata": {},
   "outputs": [
    {
     "name": "stdout",
     "output_type": "stream",
     "text": [
      "tensor([    0,    11, 29830,    11,     2,    11,  8373, 14113,  2234,    11,\n",
      "            2,   168, 30985, 14451,  7088,  4586,   169,   793,  8373, 14113,\n",
      "         2234,  2052,  1363,  2088, 29830,  2116, 14879,  2440,  6711,   170,\n",
      "        21406, 26713,  2076, 25145,  5749,   171,  1421,   818,  2073,  4388,\n",
      "         2062,    18,     2,     1,     1,     1,     1,     1,     1,     1,\n",
      "            1,     1,     1,     1,     1,     1,     1,     1,     1,     1,\n",
      "            1,     1,     1,     1,     1,     1,     1,     1,     1,     1,\n",
      "            1,     1,     1,     1,     1,     1,     1,     1,     1,     1,\n",
      "            1,     1,     1,     1,     1,     1,     1,     1,     1,     1,\n",
      "            1,     1,     1,     1,     1,     1,     1,     1,     1,     1,\n",
      "            1,     1,     1,     1,     1,     1,     1,     1,     1,     1,\n",
      "            1,     1,     1,     1,     1,     1,     1,     1,     1,     1,\n",
      "            1,     1,     1,     1,     1,     1,     1,     1,     1,     1,\n",
      "            1,     1,     1,     1,     1,     1,     1,     1,     1,     1,\n",
      "            1,     1,     1,     1,     1,     1,     1,     1,     1,     1,\n",
      "            1,     1,     1,     1,     1,     1,     1,     1,     1,     1,\n",
      "            1,     1,     1,     1,     1,     1,     1,     1,     1,     1,\n",
      "            1,     1,     1,     1,     1,     1,     1,     1,     1,     1,\n",
      "            1,     1,     1,     1,     1,     1,     1,     1,     1,     1,\n",
      "            1,     1,     1,     1,     1,     1,     1,     1,     1,     1,\n",
      "            1,     1,     1,     1,     1,     1,     1,     1,     1,     1,\n",
      "            1,     1,     1,     1,     1,     1,     1,     1,     1,     1,\n",
      "            1,     1,     1,     1,     1,     1,     1,     1,     1,     1,\n",
      "            1,     1,     1,     1,     1,     1,     1,     1,     1,     1,\n",
      "            1]) tensor([    0,    11,  3772,  2139,  2267,  2481,    11,     2,    11,  5605,\n",
      "         2250,  2481,    11,     2,  6409,  2052,  4568,  2179,  6417,  2044,\n",
      "         2315,  2481,   100,  5605,  2250,  2481,   100,  3772,  2139,  2267,\n",
      "         2481,  2052, 16489,   711,  2170, 12827,  2097,  8646,  2481,    12,\n",
      "        15283,    13,  3603,  1528,  2554,  2065,  4538,    18,     2,     1,\n",
      "            1,     1,     1,     1,     1,     1,     1,     1,     1,     1,\n",
      "            1,     1,     1,     1,     1,     1,     1,     1,     1,     1,\n",
      "            1,     1,     1,     1,     1,     1,     1,     1,     1,     1,\n",
      "            1,     1,     1,     1,     1,     1,     1,     1,     1,     1,\n",
      "            1,     1,     1,     1,     1,     1,     1,     1,     1,     1,\n",
      "            1,     1,     1,     1,     1,     1,     1,     1,     1,     1,\n",
      "            1,     1,     1,     1,     1,     1,     1,     1,     1,     1,\n",
      "            1,     1,     1,     1,     1,     1,     1,     1,     1,     1,\n",
      "            1,     1,     1,     1,     1,     1,     1,     1,     1,     1,\n",
      "            1,     1,     1,     1,     1,     1,     1,     1,     1,     1,\n",
      "            1,     1,     1,     1,     1,     1,     1,     1,     1,     1,\n",
      "            1,     1,     1,     1,     1,     1,     1,     1,     1,     1,\n",
      "            1,     1,     1,     1,     1,     1,     1,     1,     1,     1,\n",
      "            1,     1,     1,     1,     1,     1,     1,     1,     1,     1,\n",
      "            1,     1,     1,     1,     1,     1,     1,     1,     1,     1,\n",
      "            1,     1,     1,     1,     1,     1,     1,     1,     1,     1,\n",
      "            1,     1,     1,     1,     1,     1,     1,     1,     1,     1,\n",
      "            1,     1,     1,     1,     1,     1,     1,     1,     1,     1,\n",
      "            1,     1,     1,     1,     1,     1,     1,     1,     1,     1,\n",
      "            1]) tensor([    0,    11,  4104, 10904,    11,     2,    11,  3629, 17287, 20212,\n",
      "           11,     2,    47, 17665,  2302, 27135,  4610,    21,  2090,  2138,\n",
      "         4214,  2088,  1513,  2259,  4104, 10904,  2259,  3625,  4210,  2210,\n",
      "         3629, 17287, 20212,  6233,  3797,  8862,  4415,  4422,  2522,  4852,\n",
      "         4422,  2138,  6157,  2227,   114,  1872, 14198,  2290,   115,   604,\n",
      "          114,  6646, 14198,  2290,   115,  1498,  4812,  2371,  2062,    18,\n",
      "            2,     1,     1,     1,     1,     1,     1,     1,     1,     1,\n",
      "            1,     1,     1,     1,     1,     1,     1,     1,     1,     1,\n",
      "            1,     1,     1,     1,     1,     1,     1,     1,     1,     1,\n",
      "            1,     1,     1,     1,     1,     1,     1,     1,     1,     1,\n",
      "            1,     1,     1,     1,     1,     1,     1,     1,     1,     1,\n",
      "            1,     1,     1,     1,     1,     1,     1,     1,     1,     1,\n",
      "            1,     1,     1,     1,     1,     1,     1,     1,     1,     1,\n",
      "            1,     1,     1,     1,     1,     1,     1,     1,     1,     1,\n",
      "            1,     1,     1,     1,     1,     1,     1,     1,     1,     1,\n",
      "            1,     1,     1,     1,     1,     1,     1,     1,     1,     1,\n",
      "            1,     1,     1,     1,     1,     1,     1,     1,     1,     1,\n",
      "            1,     1,     1,     1,     1,     1,     1,     1,     1,     1,\n",
      "            1,     1,     1,     1,     1,     1,     1,     1,     1,     1,\n",
      "            1,     1,     1,     1,     1,     1,     1,     1,     1,     1,\n",
      "            1,     1,     1,     1,     1,     1,     1,     1,     1,     1,\n",
      "            1,     1,     1,     1,     1,     1,     1,     1,     1,     1,\n",
      "            1,     1,     1,     1,     1,     1,     1,     1,     1,     1,\n",
      "            1,     1,     1,     1,     1,     1,     1,     1,     1,     1,\n",
      "            1])\n"
     ]
    }
   ],
   "source": [
    "print(*tokenized_train.input_ids[:3])"
   ]
  },
  {
   "cell_type": "code",
   "execution_count": 238,
   "id": "13b913e2-1acd-4d4c-81db-baaeb2176d70",
   "metadata": {},
   "outputs": [
    {
     "data": {
      "text/plain": [
       "32470"
      ]
     },
     "execution_count": 238,
     "metadata": {},
     "output_type": "execute_result"
    }
   ],
   "source": [
    "len(tokenized_train.input_ids)"
   ]
  },
  {
   "cell_type": "code",
   "execution_count": 239,
   "id": "ff895d8c-f7c0-4ec6-99a2-637803d0a31b",
   "metadata": {},
   "outputs": [
    {
     "name": "stdout",
     "output_type": "stream",
     "text": [
      "input_ids token_type_ids attention_mask\n"
     ]
    }
   ],
   "source": [
    "print(*tokenized_train)"
   ]
  },
  {
   "cell_type": "code",
   "execution_count": 240,
   "id": "b441915e-db80-4fcf-9bed-f649b20bf0ea",
   "metadata": {},
   "outputs": [
    {
     "name": "stdout",
     "output_type": "stream",
     "text": [
      "tensor([0, 0, 0, 0, 0, 0, 0, 0, 0, 0, 0, 0, 0, 0, 0, 0, 0, 0, 0, 0, 0, 0, 0, 0,\n",
      "        0, 0, 0, 0, 0, 0, 0, 0, 0, 0, 0, 0, 0, 0, 0, 0, 0, 0, 0, 0, 0, 0, 0, 0,\n",
      "        0, 0, 0, 0, 0, 0, 0, 0, 0, 0, 0, 0, 0, 0, 0, 0, 0, 0, 0, 0, 0, 0, 0, 0,\n",
      "        0, 0, 0, 0, 0, 0, 0, 0, 0, 0, 0, 0, 0, 0, 0, 0, 0, 0, 0, 0, 0, 0, 0, 0,\n",
      "        0, 0, 0, 0, 0, 0, 0, 0, 0, 0, 0, 0, 0, 0, 0, 0, 0, 0, 0, 0, 0, 0, 0, 0,\n",
      "        0, 0, 0, 0, 0, 0, 0, 0, 0, 0, 0, 0, 0, 0, 0, 0, 0, 0, 0, 0, 0, 0, 0, 0,\n",
      "        0, 0, 0, 0, 0, 0, 0, 0, 0, 0, 0, 0, 0, 0, 0, 0, 0, 0, 0, 0, 0, 0, 0, 0,\n",
      "        0, 0, 0, 0, 0, 0, 0, 0, 0, 0, 0, 0, 0, 0, 0, 0, 0, 0, 0, 0, 0, 0, 0, 0,\n",
      "        0, 0, 0, 0, 0, 0, 0, 0, 0, 0, 0, 0, 0, 0, 0, 0, 0, 0, 0, 0, 0, 0, 0, 0,\n",
      "        0, 0, 0, 0, 0, 0, 0, 0, 0, 0, 0, 0, 0, 0, 0, 0, 0, 0, 0, 0, 0, 0, 0, 0,\n",
      "        0])\n"
     ]
    }
   ],
   "source": [
    "print(tokenized_train.token_type_ids[0])"
   ]
  },
  {
   "cell_type": "code",
   "execution_count": 241,
   "id": "ebb342dd-7c9d-4fc2-959c-38a722a0b2de",
   "metadata": {},
   "outputs": [
    {
     "data": {
      "text/plain": [
       "tensor([1, 1, 1, 1, 1, 1, 1, 1, 1, 1, 1, 1, 1, 1, 1, 1, 1, 1, 1, 1, 1, 1, 1, 1,\n",
       "        1, 1, 1, 1, 1, 1, 1, 1, 1, 1, 1, 1, 1, 1, 1, 1, 1, 1, 1, 0, 0, 0, 0, 0,\n",
       "        0, 0, 0, 0, 0, 0, 0, 0, 0, 0, 0, 0, 0, 0, 0, 0, 0, 0, 0, 0, 0, 0, 0, 0,\n",
       "        0, 0, 0, 0, 0, 0, 0, 0, 0, 0, 0, 0, 0, 0, 0, 0, 0, 0, 0, 0, 0, 0, 0, 0,\n",
       "        0, 0, 0, 0, 0, 0, 0, 0, 0, 0, 0, 0, 0, 0, 0, 0, 0, 0, 0, 0, 0, 0, 0, 0,\n",
       "        0, 0, 0, 0, 0, 0, 0, 0, 0, 0, 0, 0, 0, 0, 0, 0, 0, 0, 0, 0, 0, 0, 0, 0,\n",
       "        0, 0, 0, 0, 0, 0, 0, 0, 0, 0, 0, 0, 0, 0, 0, 0, 0, 0, 0, 0, 0, 0, 0, 0,\n",
       "        0, 0, 0, 0, 0, 0, 0, 0, 0, 0, 0, 0, 0, 0, 0, 0, 0, 0, 0, 0, 0, 0, 0, 0,\n",
       "        0, 0, 0, 0, 0, 0, 0, 0, 0, 0, 0, 0, 0, 0, 0, 0, 0, 0, 0, 0, 0, 0, 0, 0,\n",
       "        0, 0, 0, 0, 0, 0, 0, 0, 0, 0, 0, 0, 0, 0, 0, 0, 0, 0, 0, 0, 0, 0, 0, 0,\n",
       "        0])"
      ]
     },
     "execution_count": 241,
     "metadata": {},
     "output_type": "execute_result"
    }
   ],
   "source": [
    "tokenized_train.attention_mask[0]"
   ]
  },
  {
   "cell_type": "markdown",
   "id": "641ac051-ed34-4725-ad06-b79cb5157f7a",
   "metadata": {},
   "source": [
    "### UNK 토큰 개수를 통해 문장 추출하기 위해 pandas DataFrame 으로 변환"
   ]
  },
  {
   "cell_type": "code",
   "execution_count": 242,
   "id": "93472df3-c397-4dab-9949-e6e933075612",
   "metadata": {},
   "outputs": [],
   "source": [
    "input_ids_df = pd.DataFrame(tokenized_train.input_ids.numpy())"
   ]
  },
  {
   "cell_type": "code",
   "execution_count": 243,
   "id": "317e427c-ca6a-4456-9765-e8f47ee833ca",
   "metadata": {},
   "outputs": [],
   "source": [
    "input_ids_np = tokenized_train.input_ids.numpy()"
   ]
  },
  {
   "cell_type": "code",
   "execution_count": 244,
   "id": "e58cd7c3-85ae-40d5-9578-54d04cd6e621",
   "metadata": {},
   "outputs": [],
   "source": [
    "input_ids_pd = pd.DataFrame(input_ids_np)"
   ]
  },
  {
   "cell_type": "code",
   "execution_count": 245,
   "id": "a1a975ad-c61b-415d-884e-142553cc7198",
   "metadata": {},
   "outputs": [
    {
     "data": {
      "text/html": [
       "<div>\n",
       "<style scoped>\n",
       "    .dataframe tbody tr th:only-of-type {\n",
       "        vertical-align: middle;\n",
       "    }\n",
       "\n",
       "    .dataframe tbody tr th {\n",
       "        vertical-align: top;\n",
       "    }\n",
       "\n",
       "    .dataframe thead th {\n",
       "        text-align: right;\n",
       "    }\n",
       "</style>\n",
       "<table border=\"1\" class=\"dataframe\">\n",
       "  <thead>\n",
       "    <tr style=\"text-align: right;\">\n",
       "      <th></th>\n",
       "      <th>0</th>\n",
       "      <th>1</th>\n",
       "      <th>2</th>\n",
       "      <th>3</th>\n",
       "      <th>4</th>\n",
       "      <th>5</th>\n",
       "      <th>6</th>\n",
       "      <th>7</th>\n",
       "      <th>8</th>\n",
       "      <th>9</th>\n",
       "      <th>...</th>\n",
       "      <th>231</th>\n",
       "      <th>232</th>\n",
       "      <th>233</th>\n",
       "      <th>234</th>\n",
       "      <th>235</th>\n",
       "      <th>236</th>\n",
       "      <th>237</th>\n",
       "      <th>238</th>\n",
       "      <th>239</th>\n",
       "      <th>240</th>\n",
       "    </tr>\n",
       "  </thead>\n",
       "  <tbody>\n",
       "    <tr>\n",
       "      <th>0</th>\n",
       "      <td>0</td>\n",
       "      <td>11</td>\n",
       "      <td>29830</td>\n",
       "      <td>11</td>\n",
       "      <td>2</td>\n",
       "      <td>11</td>\n",
       "      <td>8373</td>\n",
       "      <td>14113</td>\n",
       "      <td>2234</td>\n",
       "      <td>11</td>\n",
       "      <td>...</td>\n",
       "      <td>1</td>\n",
       "      <td>1</td>\n",
       "      <td>1</td>\n",
       "      <td>1</td>\n",
       "      <td>1</td>\n",
       "      <td>1</td>\n",
       "      <td>1</td>\n",
       "      <td>1</td>\n",
       "      <td>1</td>\n",
       "      <td>1</td>\n",
       "    </tr>\n",
       "    <tr>\n",
       "      <th>1</th>\n",
       "      <td>0</td>\n",
       "      <td>11</td>\n",
       "      <td>3772</td>\n",
       "      <td>2139</td>\n",
       "      <td>2267</td>\n",
       "      <td>2481</td>\n",
       "      <td>11</td>\n",
       "      <td>2</td>\n",
       "      <td>11</td>\n",
       "      <td>5605</td>\n",
       "      <td>...</td>\n",
       "      <td>1</td>\n",
       "      <td>1</td>\n",
       "      <td>1</td>\n",
       "      <td>1</td>\n",
       "      <td>1</td>\n",
       "      <td>1</td>\n",
       "      <td>1</td>\n",
       "      <td>1</td>\n",
       "      <td>1</td>\n",
       "      <td>1</td>\n",
       "    </tr>\n",
       "    <tr>\n",
       "      <th>2</th>\n",
       "      <td>0</td>\n",
       "      <td>11</td>\n",
       "      <td>4104</td>\n",
       "      <td>10904</td>\n",
       "      <td>11</td>\n",
       "      <td>2</td>\n",
       "      <td>11</td>\n",
       "      <td>3629</td>\n",
       "      <td>17287</td>\n",
       "      <td>20212</td>\n",
       "      <td>...</td>\n",
       "      <td>1</td>\n",
       "      <td>1</td>\n",
       "      <td>1</td>\n",
       "      <td>1</td>\n",
       "      <td>1</td>\n",
       "      <td>1</td>\n",
       "      <td>1</td>\n",
       "      <td>1</td>\n",
       "      <td>1</td>\n",
       "      <td>1</td>\n",
       "    </tr>\n",
       "    <tr>\n",
       "      <th>3</th>\n",
       "      <td>0</td>\n",
       "      <td>11</td>\n",
       "      <td>27930</td>\n",
       "      <td>24393</td>\n",
       "      <td>2024</td>\n",
       "      <td>11</td>\n",
       "      <td>2</td>\n",
       "      <td>11</td>\n",
       "      <td>6580</td>\n",
       "      <td>2144</td>\n",
       "      <td>...</td>\n",
       "      <td>1</td>\n",
       "      <td>1</td>\n",
       "      <td>1</td>\n",
       "      <td>1</td>\n",
       "      <td>1</td>\n",
       "      <td>1</td>\n",
       "      <td>1</td>\n",
       "      <td>1</td>\n",
       "      <td>1</td>\n",
       "      <td>1</td>\n",
       "    </tr>\n",
       "    <tr>\n",
       "      <th>4</th>\n",
       "      <td>0</td>\n",
       "      <td>11</td>\n",
       "      <td>20289</td>\n",
       "      <td>20562</td>\n",
       "      <td>11</td>\n",
       "      <td>2</td>\n",
       "      <td>11</td>\n",
       "      <td>14925</td>\n",
       "      <td>11</td>\n",
       "      <td>2</td>\n",
       "      <td>...</td>\n",
       "      <td>1</td>\n",
       "      <td>1</td>\n",
       "      <td>1</td>\n",
       "      <td>1</td>\n",
       "      <td>1</td>\n",
       "      <td>1</td>\n",
       "      <td>1</td>\n",
       "      <td>1</td>\n",
       "      <td>1</td>\n",
       "      <td>1</td>\n",
       "    </tr>\n",
       "    <tr>\n",
       "      <th>...</th>\n",
       "      <td>...</td>\n",
       "      <td>...</td>\n",
       "      <td>...</td>\n",
       "      <td>...</td>\n",
       "      <td>...</td>\n",
       "      <td>...</td>\n",
       "      <td>...</td>\n",
       "      <td>...</td>\n",
       "      <td>...</td>\n",
       "      <td>...</td>\n",
       "      <td>...</td>\n",
       "      <td>...</td>\n",
       "      <td>...</td>\n",
       "      <td>...</td>\n",
       "      <td>...</td>\n",
       "      <td>...</td>\n",
       "      <td>...</td>\n",
       "      <td>...</td>\n",
       "      <td>...</td>\n",
       "      <td>...</td>\n",
       "      <td>...</td>\n",
       "    </tr>\n",
       "    <tr>\n",
       "      <th>32465</th>\n",
       "      <td>0</td>\n",
       "      <td>11</td>\n",
       "      <td>5967</td>\n",
       "      <td>2456</td>\n",
       "      <td>11</td>\n",
       "      <td>2</td>\n",
       "      <td>11</td>\n",
       "      <td>3902</td>\n",
       "      <td>5905</td>\n",
       "      <td>100</td>\n",
       "      <td>...</td>\n",
       "      <td>1</td>\n",
       "      <td>1</td>\n",
       "      <td>1</td>\n",
       "      <td>1</td>\n",
       "      <td>1</td>\n",
       "      <td>1</td>\n",
       "      <td>1</td>\n",
       "      <td>1</td>\n",
       "      <td>1</td>\n",
       "      <td>1</td>\n",
       "    </tr>\n",
       "    <tr>\n",
       "      <th>32466</th>\n",
       "      <td>0</td>\n",
       "      <td>11</td>\n",
       "      <td>28246</td>\n",
       "      <td>2444</td>\n",
       "      <td>11</td>\n",
       "      <td>2</td>\n",
       "      <td>11</td>\n",
       "      <td>1284</td>\n",
       "      <td>2394</td>\n",
       "      <td>2364</td>\n",
       "      <td>...</td>\n",
       "      <td>1</td>\n",
       "      <td>1</td>\n",
       "      <td>1</td>\n",
       "      <td>1</td>\n",
       "      <td>1</td>\n",
       "      <td>1</td>\n",
       "      <td>1</td>\n",
       "      <td>1</td>\n",
       "      <td>1</td>\n",
       "      <td>1</td>\n",
       "    </tr>\n",
       "    <tr>\n",
       "      <th>32467</th>\n",
       "      <td>0</td>\n",
       "      <td>11</td>\n",
       "      <td>18272</td>\n",
       "      <td>2242</td>\n",
       "      <td>11</td>\n",
       "      <td>2</td>\n",
       "      <td>11</td>\n",
       "      <td>31102</td>\n",
       "      <td>2313</td>\n",
       "      <td>11</td>\n",
       "      <td>...</td>\n",
       "      <td>1</td>\n",
       "      <td>1</td>\n",
       "      <td>1</td>\n",
       "      <td>1</td>\n",
       "      <td>1</td>\n",
       "      <td>1</td>\n",
       "      <td>1</td>\n",
       "      <td>1</td>\n",
       "      <td>1</td>\n",
       "      <td>1</td>\n",
       "    </tr>\n",
       "    <tr>\n",
       "      <th>32468</th>\n",
       "      <td>0</td>\n",
       "      <td>11</td>\n",
       "      <td>15710</td>\n",
       "      <td>11</td>\n",
       "      <td>2</td>\n",
       "      <td>11</td>\n",
       "      <td>4097</td>\n",
       "      <td>2827</td>\n",
       "      <td>2500</td>\n",
       "      <td>2255</td>\n",
       "      <td>...</td>\n",
       "      <td>1</td>\n",
       "      <td>1</td>\n",
       "      <td>1</td>\n",
       "      <td>1</td>\n",
       "      <td>1</td>\n",
       "      <td>1</td>\n",
       "      <td>1</td>\n",
       "      <td>1</td>\n",
       "      <td>1</td>\n",
       "      <td>1</td>\n",
       "    </tr>\n",
       "    <tr>\n",
       "      <th>32469</th>\n",
       "      <td>0</td>\n",
       "      <td>11</td>\n",
       "      <td>15437</td>\n",
       "      <td>2242</td>\n",
       "      <td>11</td>\n",
       "      <td>2</td>\n",
       "      <td>11</td>\n",
       "      <td>615</td>\n",
       "      <td>2419</td>\n",
       "      <td>2344</td>\n",
       "      <td>...</td>\n",
       "      <td>1</td>\n",
       "      <td>1</td>\n",
       "      <td>1</td>\n",
       "      <td>1</td>\n",
       "      <td>1</td>\n",
       "      <td>1</td>\n",
       "      <td>1</td>\n",
       "      <td>1</td>\n",
       "      <td>1</td>\n",
       "      <td>1</td>\n",
       "    </tr>\n",
       "  </tbody>\n",
       "</table>\n",
       "<p>32470 rows × 241 columns</p>\n",
       "</div>"
      ],
      "text/plain": [
       "       0    1      2      3     4     5     6      7      8      9    ...  \\\n",
       "0        0   11  29830     11     2    11  8373  14113   2234     11  ...   \n",
       "1        0   11   3772   2139  2267  2481    11      2     11   5605  ...   \n",
       "2        0   11   4104  10904    11     2    11   3629  17287  20212  ...   \n",
       "3        0   11  27930  24393  2024    11     2     11   6580   2144  ...   \n",
       "4        0   11  20289  20562    11     2    11  14925     11      2  ...   \n",
       "...    ...  ...    ...    ...   ...   ...   ...    ...    ...    ...  ...   \n",
       "32465    0   11   5967   2456    11     2    11   3902   5905    100  ...   \n",
       "32466    0   11  28246   2444    11     2    11   1284   2394   2364  ...   \n",
       "32467    0   11  18272   2242    11     2    11  31102   2313     11  ...   \n",
       "32468    0   11  15710     11     2    11  4097   2827   2500   2255  ...   \n",
       "32469    0   11  15437   2242    11     2    11    615   2419   2344  ...   \n",
       "\n",
       "       231  232  233  234  235  236  237  238  239  240  \n",
       "0        1    1    1    1    1    1    1    1    1    1  \n",
       "1        1    1    1    1    1    1    1    1    1    1  \n",
       "2        1    1    1    1    1    1    1    1    1    1  \n",
       "3        1    1    1    1    1    1    1    1    1    1  \n",
       "4        1    1    1    1    1    1    1    1    1    1  \n",
       "...    ...  ...  ...  ...  ...  ...  ...  ...  ...  ...  \n",
       "32465    1    1    1    1    1    1    1    1    1    1  \n",
       "32466    1    1    1    1    1    1    1    1    1    1  \n",
       "32467    1    1    1    1    1    1    1    1    1    1  \n",
       "32468    1    1    1    1    1    1    1    1    1    1  \n",
       "32469    1    1    1    1    1    1    1    1    1    1  \n",
       "\n",
       "[32470 rows x 241 columns]"
      ]
     },
     "execution_count": 245,
     "metadata": {},
     "output_type": "execute_result"
    }
   ],
   "source": [
    "input_ids_pd # 확인"
   ]
  },
  {
   "cell_type": "code",
   "execution_count": 246,
   "id": "32f14a09-7743-412b-be2e-a75e006778eb",
   "metadata": {},
   "outputs": [
    {
     "data": {
      "text/plain": [
       "0        False\n",
       "1        False\n",
       "2        False\n",
       "3        False\n",
       "4        False\n",
       "         ...  \n",
       "32465    False\n",
       "32466    False\n",
       "32467    False\n",
       "32468    False\n",
       "32469    False\n",
       "Length: 32470, dtype: bool"
      ]
     },
     "execution_count": 246,
     "metadata": {},
     "output_type": "execute_result"
    }
   ],
   "source": [
    "((input_ids_pd==3).sum(axis=1)!=0)"
   ]
  },
  {
   "cell_type": "code",
   "execution_count": 247,
   "id": "756b4962-9c08-48ba-aa2f-2be9cd9b2966",
   "metadata": {},
   "outputs": [
    {
     "data": {
      "text/plain": [
       "3218"
      ]
     },
     "execution_count": 247,
     "metadata": {},
     "output_type": "execute_result"
    }
   ],
   "source": [
    "((input_ids_pd==3).sum(axis=1)!=0).sum(axis=0)"
   ]
  },
  {
   "cell_type": "markdown",
   "id": "57db853d-46d1-43e8-aefd-cd165e64a1c8",
   "metadata": {},
   "source": [
    "### UNK 토큰 개수별 문장 수 확인"
   ]
  },
  {
   "cell_type": "code",
   "execution_count": 248,
   "id": "982b4a95-776c-4247-b2a8-00d8d4da6062",
   "metadata": {},
   "outputs": [],
   "source": [
    "# train_dataset = load_data(\"../dataset/train/train.csv\")"
   ]
  },
  {
   "cell_type": "code",
   "execution_count": 249,
   "id": "ea268485-7d42-4eff-8f73-cdb4ab2ee7fc",
   "metadata": {},
   "outputs": [
    {
     "data": {
      "text/plain": [
       "0     29252\n",
       "1      1256\n",
       "2      1066\n",
       "3       480\n",
       "4       189\n",
       "5       110\n",
       "6        58\n",
       "8        28\n",
       "7        22\n",
       "10        4\n",
       "12        2\n",
       "9         2\n",
       "11        1\n",
       "dtype: int64"
      ]
     },
     "execution_count": 249,
     "metadata": {},
     "output_type": "execute_result"
    }
   ],
   "source": [
    "((input_ids_pd==3).sum(axis=1)).value_counts()"
   ]
  },
  {
   "cell_type": "markdown",
   "id": "7252897c-9d71-4964-b377-99c6f29f1c5d",
   "metadata": {},
   "source": [
    "### UNK 토큰이 많은 문장 출력해서 확인"
   ]
  },
  {
   "cell_type": "code",
   "execution_count": 250,
   "id": "290c651c-d0d0-4025-94a6-c8345412961a",
   "metadata": {},
   "outputs": [],
   "source": [
    "UNK_over_n = 9\n",
    "\n",
    "condition = ((input_ids_pd==3).sum(axis=1)>UNK_over_n)\n",
    "\n",
    "sen_id = iter(train_dataset.index[condition])\n",
    "UNK_count = iter(((input_ids_pd==1).sum(axis=1))[condition])\n",
    "UNK_sentence = iter(train_dataset.sentence[condition])\n",
    "UNK_sub = iter(train_dataset.subject_entity[condition])\n",
    "UNK_obj = iter(train_dataset.object_entity[condition])\n",
    "UNK_ids = iter(tokenized_train.input_ids[condition])"
   ]
  },
  {
   "cell_type": "code",
   "execution_count": 251,
   "id": "1c2b9928-a316-476a-af25-6a59195b98cb",
   "metadata": {},
   "outputs": [
    {
     "name": "stdout",
     "output_type": "stream",
     "text": [
      "sentence id : 4597\n",
      "UNK count : 157\n",
      " '쥘 아르망'\n",
      " '프랑스'\n",
      "프랑스군이 투언안 요새를 함락하면서 프랑스 치안청장인 프랑수아 쥘 아르망(François Jules Harmand) 이 베트남 협판대학사 쩐딘뚝(Trần Đình Túc), 이부상서 응우옌쫑헙(Nguyễn Trọng Hợp)과 조약을 체결했기 때문에 종종 ‘아르망 조약’으로도 불린다.\n",
      "tensor([    0,    11,     3,  5996,  2087,    11,     2,    11,  4510,    11,\n",
      "            2,  4510,  2242,  2052,  1801,  2347,  2283,  9730,  2138, 20547,\n",
      "         5643,  2112,  4510, 11409,  2270,  2121,  2179, 23664,     3,  5996,\n",
      "         2087,    12,     3,    46, 30480,  2041, 17015,  9811,  2039,    13,\n",
      "         1504,  5713,  1922,  2025,  2104,  2218,  2063,  1607,  2695,  3124,\n",
      "           12,     3,     3,     3,    13,    16, 27754,  2290,  2112,     3,\n",
      "           12,     3,     3,     3,    13,   604,  8604,  2069,  5186,  2371,\n",
      "         2015,  3624,  2170,  7286,   114,  5996,  2087,  8604,   115,  3603,\n",
      "         2119, 12732,    18,     2,     1,     1,     1,     1,     1,     1,\n",
      "            1,     1,     1,     1,     1,     1,     1,     1,     1,     1,\n",
      "            1,     1,     1,     1,     1,     1,     1,     1,     1,     1,\n",
      "            1,     1,     1,     1,     1,     1,     1,     1,     1,     1,\n",
      "            1,     1,     1,     1,     1,     1,     1,     1,     1,     1,\n",
      "            1,     1,     1,     1,     1,     1,     1,     1,     1,     1,\n",
      "            1,     1,     1,     1,     1,     1,     1,     1,     1,     1,\n",
      "            1,     1,     1,     1,     1,     1,     1,     1,     1,     1,\n",
      "            1,     1,     1,     1,     1,     1,     1,     1,     1,     1,\n",
      "            1,     1,     1,     1,     1,     1,     1,     1,     1,     1,\n",
      "            1,     1,     1,     1,     1,     1,     1,     1,     1,     1,\n",
      "            1,     1,     1,     1,     1,     1,     1,     1,     1,     1,\n",
      "            1,     1,     1,     1,     1,     1,     1,     1,     1,     1,\n",
      "            1,     1,     1,     1,     1,     1,     1,     1,     1,     1,\n",
      "            1,     1,     1,     1,     1,     1,     1,     1,     1,     1,\n",
      "            1,     1,     1,     1,     1,     1,     1,     1,     1,     1,\n",
      "            1])\n"
     ]
    }
   ],
   "source": [
    "print('sentence id :', next(sen_id))\n",
    "print('UNK count :', next(UNK_count))\n",
    "print(next(UNK_sub))\n",
    "print(next(UNK_obj))\n",
    "print(next(UNK_sentence))\n",
    "print(next(UNK_ids))"
   ]
  },
  {
   "cell_type": "markdown",
   "id": "ef7b7add-8ada-4ef6-a323-55380861de26",
   "metadata": {},
   "source": [
    "### UNK 토큰 (3) 3개 보다 많은 행 train_dataset 에서 drop"
   ]
  },
  {
   "cell_type": "code",
   "execution_count": 252,
   "id": "debe6b24-2de8-4e77-9862-6ebf6f826ec7",
   "metadata": {},
   "outputs": [],
   "source": [
    "train_droped = train_dataset.drop(labels=train_dataset.index[(input_ids_pd==3).sum(axis=1)>3], axis=0)"
   ]
  },
  {
   "cell_type": "code",
   "execution_count": 253,
   "id": "9eacb3d9-d12b-4dbd-af40-86ba4e21a0f7",
   "metadata": {},
   "outputs": [
    {
     "data": {
      "text/plain": [
       "32054"
      ]
     },
     "execution_count": 253,
     "metadata": {},
     "output_type": "execute_result"
    }
   ],
   "source": [
    "len(train_droped)"
   ]
  },
  {
   "cell_type": "code",
   "execution_count": 254,
   "id": "dce81d26-a04f-43a7-82f0-b6db6b2aaaaa",
   "metadata": {},
   "outputs": [],
   "source": [
    "from sklearn.model_selection import train_test_split\n",
    "\n",
    "data = train_droped\n",
    "target = train_droped['label']\n",
    "\n",
    "# train_test_split\n",
    "drop_unk3_train, drop_unk3_valid = train_test_split(data, test_size=0.2, shuffle=True, stratify=target, random_state=2023)"
   ]
  },
  {
   "cell_type": "code",
   "execution_count": 255,
   "id": "d2bec442-77e4-4061-971f-537fc65d290b",
   "metadata": {},
   "outputs": [],
   "source": [
    "drop_unk3_train.to_csv('drop_unk3_train.csv')\n",
    "drop_unk3_valid.to_csv('drop_unk3_dev.csv')"
   ]
  },
  {
   "cell_type": "markdown",
   "id": "27d006e5-1301-42aa-8cfb-6096060f6ff0",
   "metadata": {
    "tags": []
   },
   "source": [
    "## \\@ type entity \\@ 에서 UNK > 3 인 행 삭제한 데이터 생성"
   ]
  },
  {
   "cell_type": "code",
   "execution_count": 258,
   "id": "513f3fc0-5e4d-45a0-9c4b-1cca9b6b46d3",
   "metadata": {},
   "outputs": [],
   "source": [
    "mark_type_drop = df_replace_sub_obj.drop(labels=df.index[(input_ids_pd==3).sum(axis=1)>3], axis=0)"
   ]
  },
  {
   "cell_type": "code",
   "execution_count": 261,
   "id": "ca987c3d-ba8c-48c2-844a-beecc1ab721e",
   "metadata": {},
   "outputs": [
    {
     "data": {
      "text/plain": [
       "32054"
      ]
     },
     "execution_count": 261,
     "metadata": {},
     "output_type": "execute_result"
    }
   ],
   "source": [
    "len(mark_type_drop)"
   ]
  },
  {
   "cell_type": "code",
   "execution_count": 263,
   "id": "233e43ad-b2ae-4e34-b5f5-5b8aa3657f35",
   "metadata": {},
   "outputs": [
    {
     "data": {
      "text/html": [
       "<div>\n",
       "<style scoped>\n",
       "    .dataframe tbody tr th:only-of-type {\n",
       "        vertical-align: middle;\n",
       "    }\n",
       "\n",
       "    .dataframe tbody tr th {\n",
       "        vertical-align: top;\n",
       "    }\n",
       "\n",
       "    .dataframe thead th {\n",
       "        text-align: right;\n",
       "    }\n",
       "</style>\n",
       "<table border=\"1\" class=\"dataframe\">\n",
       "  <thead>\n",
       "    <tr style=\"text-align: right;\">\n",
       "      <th></th>\n",
       "      <th>id</th>\n",
       "      <th>sentence</th>\n",
       "      <th>label</th>\n",
       "    </tr>\n",
       "  </thead>\n",
       "  <tbody>\n",
       "    <tr>\n",
       "      <th>0</th>\n",
       "      <td>0</td>\n",
       "      <td>〈Something〉는 # PER 조지 해리슨 #이 쓰고 @ ORG 비틀즈 @가 1969년 앨범 《Abbey Road》에 담은 노래다.</td>\n",
       "      <td>no_relation</td>\n",
       "    </tr>\n",
       "    <tr>\n",
       "      <th>1</th>\n",
       "      <td>1</td>\n",
       "      <td>호남이 기반인 바른미래당·# ORG 대안신당 #·@ ORG 민주평화당 @이 우여곡절 끝에 합당해 민생당(가칭)으로 재탄생한다.</td>\n",
       "      <td>no_relation</td>\n",
       "    </tr>\n",
       "    <tr>\n",
       "      <th>2</th>\n",
       "      <td>2</td>\n",
       "      <td>K리그2에서 성적 1위를 달리고 있는 @ ORG 광주FC @는 지난 26일 # ORG 한국프로축구연맹 #으로부터 관중 유치 성과와 마케팅 성과를 인정받아 ‘풀 스타디움상’과 ‘플러스 스타디움상’을 수상했다.</td>\n",
       "      <td>org:member_of</td>\n",
       "    </tr>\n",
       "    <tr>\n",
       "      <th>3</th>\n",
       "      <td>3</td>\n",
       "      <td>균일가 생활용품점 (주)@ ORG 아성다이소 @(대표 # PER 박정부 #)는 코로나19 바이러스로 어려움을 겪고 있는 대구광역시에 행복박스를 전달했다고 10일 밝혔다.</td>\n",
       "      <td>org:top_members/employees</td>\n",
       "    </tr>\n",
       "    <tr>\n",
       "      <th>4</th>\n",
       "      <td>4</td>\n",
       "      <td># DAT 1967 #년 프로 야구 드래프트 1순위로 @ ORG 요미우리 자이언츠 @에게 입단하면서 등번호는 8번으로 배정되었다.</td>\n",
       "      <td>no_relation</td>\n",
       "    </tr>\n",
       "  </tbody>\n",
       "</table>\n",
       "</div>"
      ],
      "text/plain": [
       "   id  \\\n",
       "0   0   \n",
       "1   1   \n",
       "2   2   \n",
       "3   3   \n",
       "4   4   \n",
       "\n",
       "                                                                                                              sentence  \\\n",
       "0                                          〈Something〉는 # PER 조지 해리슨 #이 쓰고 @ ORG 비틀즈 @가 1969년 앨범 《Abbey Road》에 담은 노래다.   \n",
       "1                                               호남이 기반인 바른미래당·# ORG 대안신당 #·@ ORG 민주평화당 @이 우여곡절 끝에 합당해 민생당(가칭)으로 재탄생한다.   \n",
       "2  K리그2에서 성적 1위를 달리고 있는 @ ORG 광주FC @는 지난 26일 # ORG 한국프로축구연맹 #으로부터 관중 유치 성과와 마케팅 성과를 인정받아 ‘풀 스타디움상’과 ‘플러스 스타디움상’을 수상했다.   \n",
       "3                       균일가 생활용품점 (주)@ ORG 아성다이소 @(대표 # PER 박정부 #)는 코로나19 바이러스로 어려움을 겪고 있는 대구광역시에 행복박스를 전달했다고 10일 밝혔다.   \n",
       "4                                             # DAT 1967 #년 프로 야구 드래프트 1순위로 @ ORG 요미우리 자이언츠 @에게 입단하면서 등번호는 8번으로 배정되었다.   \n",
       "\n",
       "                       label  \n",
       "0                no_relation  \n",
       "1                no_relation  \n",
       "2              org:member_of  \n",
       "3  org:top_members/employees  \n",
       "4                no_relation  "
      ]
     },
     "execution_count": 263,
     "metadata": {},
     "output_type": "execute_result"
    }
   ],
   "source": [
    "mark_type_drop.head(5)"
   ]
  },
  {
   "cell_type": "code",
   "execution_count": 264,
   "id": "a73cac8f-5514-4718-b3c5-05591ecb1870",
   "metadata": {},
   "outputs": [],
   "source": [
    "data = mark_type_drop\n",
    "target = mark_type_drop['label']\n",
    "\n",
    "# train_test_split\n",
    "mark_type_drop_train, mark_type_drop_valid = train_test_split(data, test_size=0.2, shuffle=True, stratify=target, random_state=2023)\n",
    "\n",
    "mark_type_drop_train.to_csv('mark_type_drop_train.csv')\n",
    "mark_type_drop_valid.to_csv('mark_type_drop_dev.csv')"
   ]
  },
  {
   "cell_type": "code",
   "execution_count": null,
   "id": "636d5071-78cd-43f5-8489-4c8789969770",
   "metadata": {},
   "outputs": [],
   "source": []
  }
 ],
 "metadata": {
  "kernelspec": {
   "display_name": "Python 3 (ipykernel)",
   "language": "python",
   "name": "python3"
  },
  "language_info": {
   "codemirror_mode": {
    "name": "ipython",
    "version": 3
   },
   "file_extension": ".py",
   "mimetype": "text/x-python",
   "name": "python",
   "nbconvert_exporter": "python",
   "pygments_lexer": "ipython3",
   "version": "3.8.5"
  }
 },
 "nbformat": 4,
 "nbformat_minor": 5
}
