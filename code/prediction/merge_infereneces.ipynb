{
 "cells": [
  {
   "cell_type": "code",
   "execution_count": 1,
   "metadata": {},
   "outputs": [],
   "source": [
    "import pandas as pd\n",
    "import yaml\n",
    "import numpy as np\n"
   ]
  },
  {
   "cell_type": "code",
   "execution_count": 2,
   "metadata": {},
   "outputs": [],
   "source": [
    "def eval_probs(pd: pd.DataFrame):\n",
    "    pd[\"ev_probs\"] = pd.apply(lambda x: np.array(eval(x[\"probs\"])), axis=1)\n",
    "    return pd"
   ]
  },
  {
   "cell_type": "code",
   "execution_count": 95,
   "metadata": {},
   "outputs": [],
   "source": [
    "def merge_probs(dfs: list):\n",
    "    res = dfs[0][\"ev_probs\"].copy()\n",
    "    for i in range(1, len(dfs)):\n",
    "        res += dfs[i][\"ev_probs\"]\n",
    "    res /= len(dfs)\n",
    "    return res"
   ]
  },
  {
   "cell_type": "code",
   "execution_count": 134,
   "metadata": {},
   "outputs": [],
   "source": [
    "def update_pred_label(pd: pd.DataFrame, config: dict):\n",
    "    pd[\"pred_label\"] = pd[\"probs\"].apply(lambda x : config[\"label_list\"][x.argmax()])\n",
    "    return pd"
   ]
  },
  {
   "cell_type": "code",
   "execution_count": 147,
   "metadata": {},
   "outputs": [],
   "source": [
    "def save_csv(pd: pd.DataFrame, config: dict):\n",
    "    pd.to_csv(config[\"output_path\"], index=False)"
   ]
  },
  {
   "cell_type": "code",
   "execution_count": 149,
   "metadata": {},
   "outputs": [],
   "source": [
    "def main():\n",
    "    # load config\n",
    "    with open('./merge_setting.yaml') as f:\n",
    "        config = yaml.load(f, Loader=yaml.FullLoader)\n",
    "\n",
    "    # load data\n",
    "    dfs = []\n",
    "    for csv_path in config[\"csv_paths\"]:\n",
    "        dfs.append(pd.read_csv(csv_path))\n",
    "    \n",
    "    res = dfs[0].copy()\n",
    "    \n",
    "    for df in dfs:\n",
    "        eval_probs(df)\n",
    "    \n",
    "    res.probs = merge_probs(dfs)\n",
    "\n",
    "    update_pred_label(res, config)\n",
    "\n",
    "    save_csv(res, config)\n",
    "\n",
    "    print(\"merged inference results are saved at\", config[\"output_path\"])"
   ]
  },
  {
   "cell_type": "code",
   "execution_count": 150,
   "metadata": {},
   "outputs": [
    {
     "name": "stdout",
     "output_type": "stream",
     "text": [
      "merged inference results are saved at ./submission_merged.csv\n"
     ]
    }
   ],
   "source": [
    "if __name__ == \"__main__\":\n",
    "    main()"
   ]
  }
 ],
 "metadata": {
  "kernelspec": {
   "display_name": ".venv",
   "language": "python",
   "name": "python3"
  },
  "language_info": {
   "codemirror_mode": {
    "name": "ipython",
    "version": 3
   },
   "file_extension": ".py",
   "mimetype": "text/x-python",
   "name": "python",
   "nbconvert_exporter": "python",
   "pygments_lexer": "ipython3",
   "version": "3.8.5"
  },
  "orig_nbformat": 4
 },
 "nbformat": 4,
 "nbformat_minor": 2
}
